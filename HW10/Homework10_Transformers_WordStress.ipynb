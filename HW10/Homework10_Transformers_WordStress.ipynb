{
 "cells": [
  {
   "cell_type": "code",
   "execution_count": 1,
   "metadata": {
    "colab": {
     "base_uri": "https://localhost:8080/"
    },
    "id": "5HmwpqzwnMyE",
    "outputId": "4592757a-c986-482b-f9dd-74ddd8fd71db",
    "tags": []
   },
   "outputs": [],
   "source": [
    "# !git clone https://github.com/dariush-bahrami/character-tokenizer.git"
   ]
  },
  {
   "cell_type": "code",
   "execution_count": 2,
   "metadata": {
    "colab": {
     "base_uri": "https://localhost:8080/"
    },
    "id": "hkVexA2nnRQ5",
    "outputId": "464bdc24-15a5-40a4-d90c-02c37590efb3",
    "tags": []
   },
   "outputs": [],
   "source": [
    "# !pip install transformers"
   ]
  },
  {
   "cell_type": "code",
   "execution_count": 3,
   "metadata": {
    "id": "5FaCG9ajnS_G"
   },
   "outputs": [],
   "source": [
    "import string\n",
    "import sys\n",
    "sys.path.append(\"./character-tokenizer\")\n",
    "from charactertokenizer import CharacterTokenizer\n",
    "\n",
    "chars = \"АаБбВвГгДдЕеЁёЖжЗзИиЙйКкЛлМмНнОоПпРрСсТтУуФфХхЦцЧчШшЩщЪъЫыЬьЭэЮюЯя\"\n",
    "model_max_length = 64\n",
    "tokenizer = CharacterTokenizer(chars, model_max_length)"
   ]
  },
  {
   "cell_type": "code",
   "execution_count": 4,
   "metadata": {
    "colab": {
     "base_uri": "https://localhost:8080/"
    },
    "id": "I5FSPMOSncpI",
    "outputId": "30d8c75c-8670-4993-9cf9-2fdcfd13f98c"
   },
   "outputs": [
    {
     "name": "stdout",
     "output_type": "stream",
     "text": [
      "{'input_ids': [0, 39, 42, 26, 12, 18, 46, 1], 'token_type_ids': [0, 0, 0, 0, 0, 0, 0, 0], 'attention_mask': [1, 1, 1, 1, 1, 1, 1, 1]}\n"
     ]
    }
   ],
   "source": [
    "example = \"Привет\"\n",
    "tokens = tokenizer(example)\n",
    "print(tokens)"
   ]
  },
  {
   "cell_type": "markdown",
   "metadata": {
    "id": "KQkp36rEoScR"
   },
   "source": [
    "Задание: обучите модель классификации букв для задачи расстановки ударения с помощью методов из библиотеки transformers. Датасет для обучения можно взять отсюда: https://github.com/Koziev/NLP_Datasets/blob/master/Stress/all_accents.zip\n",
    "\n",
    "1. Напишите класс для Dataset/Dataloder и азбейте данные на случайные train / test сплиты в соотношении 50:50. (1 балл)\n",
    "2. Попробуйте несколько моделей: Bert, Albert, Deberta. (3 балла)\n",
    "Пример конфигурации для deberta: https://huggingface.co/IlyaGusev/ru-word-stress-transformer/blob/main/config.json"
   ]
  },
  {
   "cell_type": "code",
   "execution_count": 5,
   "metadata": {
    "colab": {
     "base_uri": "https://localhost:8080/"
    },
    "id": "0D368kYxFXnQ",
    "outputId": "838f31a4-a419-4947-e703-f61d22e8a35c",
    "tags": []
   },
   "outputs": [],
   "source": [
    "# !wget https://github.com/Koziev/NLP_Datasets/raw/master/Stress/all_accents.zip\n",
    "# !unzip -u all_accents.zip -d ./"
   ]
  },
  {
   "cell_type": "code",
   "execution_count": 6,
   "metadata": {
    "id": "hNMYcePlF0yF"
   },
   "outputs": [],
   "source": [
    "import numpy as np\n",
    "import pandas as pd\n",
    "from transformers import BertConfig, BertForSequenceClassification, AdamW, get_linear_schedule_with_warmup, AlbertForSequenceClassification,\\\n",
    "DebertaV2ForTokenClassification, PretrainedConfig, DebertaV2ForSequenceClassification, DebertaForSequenceClassification\n",
    "from torch.utils.data import TensorDataset, random_split\n",
    "from tqdm import tqdm\n",
    "import torch\n",
    "from torch.utils.data import DataLoader, RandomSampler, SequentialSampler\n",
    "import random\n",
    "import time\n",
    "import datetime\n",
    "import gc\n",
    "from matplotlib import pyplot as plt\n",
    "\n",
    "SEED = int(1e9+7e7+17)\n",
    "\n",
    "random.seed(SEED)\n",
    "np.random.seed(SEED)\n",
    "torch.manual_seed(SEED)\n",
    "torch.cuda.manual_seed_all(SEED)"
   ]
  },
  {
   "cell_type": "code",
   "execution_count": 7,
   "metadata": {
    "colab": {
     "base_uri": "https://localhost:8080/"
    },
    "id": "3yLrY1fQd7vm",
    "outputId": "47388cea-c36a-4156-f8d6-544bbdb4553c"
   },
   "outputs": [
    {
     "name": "stdout",
     "output_type": "stream",
     "text": [
      "Device: Tesla V100-SXM2-32GB\n"
     ]
    }
   ],
   "source": [
    "pin_memory:bool=True\n",
    "batch_size:int=128\n",
    "workers:int=16\n",
    "epochs:int=4\n",
    "device = torch.device(\"cuda:0\" if torch.cuda.is_available() else \"cpu\")\n",
    "print(\"Device:\",torch.cuda.get_device_name(device.index) if device.type==\"cuda\" else device.type)"
   ]
  },
  {
   "cell_type": "code",
   "execution_count": 8,
   "metadata": {
    "id": "CA1ALz7JIdr3"
   },
   "outputs": [],
   "source": [
    "df = pd.read_csv('all_accents.tsv', sep='\\t', header=None)\n",
    "\n",
    "def getLabel(s, vowels='аАуУоОыЫиИэЭяЯюЮёЁеЕ'):\n",
    "    idx = s.find('^')\n",
    "    if(idx==-1 and sum([v in vowels for v in s])==1):\n",
    "        idx = max([s.find(v) for v in vowels])\n",
    "    return idx\n",
    "labels = [getLabel(s) for s in df[1]]\n",
    "sentences = df[0]"
   ]
  },
  {
   "cell_type": "code",
   "execution_count": 40,
   "metadata": {},
   "outputs": [
    {
     "data": {
      "text/html": [
       "<div>\n",
       "<style scoped>\n",
       "    .dataframe tbody tr th:only-of-type {\n",
       "        vertical-align: middle;\n",
       "    }\n",
       "\n",
       "    .dataframe tbody tr th {\n",
       "        vertical-align: top;\n",
       "    }\n",
       "\n",
       "    .dataframe thead th {\n",
       "        text-align: right;\n",
       "    }\n",
       "</style>\n",
       "<table border=\"1\" class=\"dataframe\">\n",
       "  <thead>\n",
       "    <tr style=\"text-align: right;\">\n",
       "      <th></th>\n",
       "      <th>0</th>\n",
       "      <th>1</th>\n",
       "    </tr>\n",
       "  </thead>\n",
       "  <tbody>\n",
       "    <tr>\n",
       "      <th>0</th>\n",
       "      <td>-де</td>\n",
       "      <td>-д^е</td>\n",
       "    </tr>\n",
       "    <tr>\n",
       "      <th>1</th>\n",
       "      <td>-ка</td>\n",
       "      <td>-к^а</td>\n",
       "    </tr>\n",
       "    <tr>\n",
       "      <th>2</th>\n",
       "      <td>-либо</td>\n",
       "      <td>-л^ибо</td>\n",
       "    </tr>\n",
       "    <tr>\n",
       "      <th>3</th>\n",
       "      <td>-нибудь</td>\n",
       "      <td>-ниб^удь</td>\n",
       "    </tr>\n",
       "    <tr>\n",
       "      <th>4</th>\n",
       "      <td>-с</td>\n",
       "      <td>-с</td>\n",
       "    </tr>\n",
       "  </tbody>\n",
       "</table>\n",
       "</div>"
      ],
      "text/plain": [
       "         0         1\n",
       "0      -де      -д^е\n",
       "1      -ка      -к^а\n",
       "2    -либо    -л^ибо\n",
       "3  -нибудь  -ниб^удь\n",
       "4       -с        -с"
      ]
     },
     "execution_count": 40,
     "metadata": {},
     "output_type": "execute_result"
    }
   ],
   "source": [
    "df.head()"
   ]
  },
  {
   "cell_type": "code",
   "execution_count": 9,
   "metadata": {
    "colab": {
     "base_uri": "https://localhost:8080/",
     "height": 66,
     "referenced_widgets": [
      "a829cdb96d614cfa9f3578278d217208",
      "4cd138b498c6438594855b8f39e7f7a7",
      "31c4913c438c4dc29151443e50e5664d",
      "5426d4b08bf2435f886e8bcdd2c4e265",
      "f2373337c09f4b4da8a3dfbf938edc71",
      "a5bf90e1457b49109acb8ea75808ed3d",
      "f2a6a9027cd84368865bac551c0725ad",
      "ec8f4cfbc0a542ec8af8ce61f7123300",
      "5f4a77360a904011ac4c9aeea5746538",
      "4448fc409b794e30a337bc2045826ff8",
      "01413864f6ce49fb8244ca96e309ce9b"
     ]
    },
    "id": "ky5x10rvH2r8",
    "outputId": "21f3478b-17e4-4572-b12f-777200558378"
   },
   "outputs": [
    {
     "name": "stderr",
     "output_type": "stream",
     "text": [
      "100%|██████████| 1680535/1680535 [01:46<00:00, 15792.62it/s]"
     ]
    },
    {
     "name": "stdout",
     "output_type": "stream",
     "text": [
      "Max sentence length:  58\n"
     ]
    },
    {
     "name": "stderr",
     "output_type": "stream",
     "text": [
      "\n"
     ]
    }
   ],
   "source": [
    "max_len = 0\n",
    "\n",
    "# For every sentence...\n",
    "for sent in tqdm(sentences):\n",
    "\n",
    "    # Tokenize the text and add `[CLS]` and `[SEP]` tokens.\n",
    "    input_ids = tokenizer.encode(sent, add_special_tokens=True)\n",
    "\n",
    "    # Update the maximum sentence length.\n",
    "    max_len = max(max_len, len(input_ids))\n",
    "\n",
    "print('Max sentence length: ', max_len)"
   ]
  },
  {
   "cell_type": "code",
   "execution_count": 10,
   "metadata": {
    "colab": {
     "base_uri": "https://localhost:8080/",
     "height": 190,
     "referenced_widgets": [
      "9c29267e8e0c4f2fb46003bd102ce285",
      "8d326cff611a4eda9be97c1c835226e6",
      "a28421880d6c4bfea88c7d13ba75c893",
      "7e4223a2b5774fdf8ed52cc9ebcc1211",
      "2e672a8c1c4545b0ac8c5e39afcbef03",
      "6438206929e14a26b180ce0b3b647b35",
      "b93815bc7df440b4a77a5e9e60e7ad22",
      "bce63a5627964c7cb297f23a6647c4ed",
      "8c44aa03206243d48809d48e8e702c4d",
      "cb36a26507b94d96977feeff38e6e85f",
      "310996db3ded4f6dba658b03182c0cac"
     ]
    },
    "id": "ZkWtMUv1U0hQ",
    "outputId": "b4c86bf0-583b-4808-a22a-ec5c773bfbaf"
   },
   "outputs": [
    {
     "name": "stderr",
     "output_type": "stream",
     "text": [
      "  0%|          | 0/1680535 [00:00<?, ?it/s]/home/vvkakurin/.conda/envs/608/lib/python3.9/site-packages/transformers/tokenization_utils_base.py:2354: FutureWarning: The `pad_to_max_length` argument is deprecated and will be removed in a future version, use `padding=True` or `padding='longest'` to pad to the longest sequence in the batch, or use `padding='max_length'` to pad to a max length. In this case, you can give a specific length with `max_length` (e.g. `max_length=45`) or leave max_length to None to pad to the maximal input size of the model (e.g. 512 for Bert).\n",
      "  warnings.warn(\n",
      "100%|██████████| 1680535/1680535 [03:39<00:00, 7661.22it/s] \n"
     ]
    },
    {
     "name": "stdout",
     "output_type": "stream",
     "text": [
      "Original:  -де\n",
      "Token IDs: tensor([ 0,  6, 16, 18,  1,  4,  4,  4,  4,  4,  4,  4,  4,  4,  4,  4,  4,  4,\n",
      "         4,  4,  4,  4,  4,  4,  4,  4,  4,  4,  4,  4,  4,  4,  4,  4,  4,  4,\n",
      "         4,  4,  4,  4,  4,  4,  4,  4,  4,  4,  4,  4,  4,  4,  4,  4,  4,  4,\n",
      "         4,  4,  4,  4])\n"
     ]
    }
   ],
   "source": [
    "# Tokenize all of the sentences and map the tokens to thier word IDs.\n",
    "input_ids = []\n",
    "attention_masks = []\n",
    "labels_ = []\n",
    "MAX_LENGTH = max_len\n",
    "# For every sentence...\n",
    "for sent, lab in tqdm(zip(sentences, labels), total=len(labels)):\n",
    "    # `encode_plus` will:\n",
    "    #   (1) Tokenize the sentence.\n",
    "    #   (2) Prepend the `[CLS]` token to the start.\n",
    "    #   (3) Append the `[SEP]` token to the end.\n",
    "    #   (4) Map tokens to their IDs.\n",
    "    #   (5) Pad or truncate the sentence to `max_length`\n",
    "    #   (6) Create attention masks for [PAD] tokens.\n",
    "    if(lab==-1): continue\n",
    "    encoded_dict = tokenizer.encode_plus(\n",
    "                        sent,                      # Sentence to encode.\n",
    "                        add_special_tokens = True, # Add '[CLS]' and '[SEP]'\n",
    "                        max_length = MAX_LENGTH,           # Pad & truncate all sentences.\n",
    "                        truncation=True,\n",
    "                        pad_to_max_length = True,\n",
    "                        return_attention_mask = True,   # Construct attn. masks.\n",
    "                        return_tensors = 'pt',     # Return pytorch tensors.\n",
    "                   )\n",
    "    \n",
    "    # Add the encoded sentence to the list.    \n",
    "    input_ids.append(encoded_dict['input_ids'])\n",
    "    \n",
    "    # And its attention mask (simply differentiates padding from non-padding).\n",
    "    attention_masks.append(encoded_dict['attention_mask'])\n",
    "    labels_.append(lab)\n",
    "\n",
    "# Convert the lists into tensors.\n",
    "input_ids = torch.cat(input_ids, dim=0)\n",
    "attention_masks = torch.cat(attention_masks, dim=0)\n",
    "labels = torch.tensor(labels_)\n",
    "\n",
    "# Print sentence 0, now as a list of IDs.\n",
    "print('Original: ', sentences[0])\n",
    "print('Token IDs:', input_ids[0])"
   ]
  },
  {
   "cell_type": "code",
   "execution_count": 11,
   "metadata": {
    "colab": {
     "base_uri": "https://localhost:8080/"
    },
    "id": "66sP4m6OcFGU",
    "outputId": "a6b2d812-c32f-4ca9-a3ce-11f3bcfa5e7f"
   },
   "outputs": [
    {
     "name": "stdout",
     "output_type": "stream",
     "text": [
      "840,046 training samples\n",
      "840,047 validation samples\n"
     ]
    }
   ],
   "source": [
    "# Combine the training inputs into a TensorDataset.\n",
    "dataset = TensorDataset(input_ids, attention_masks, labels)\n",
    "\n",
    "# Create a 90-10 train-validation split.\n",
    "\n",
    "# Calculate the number of samples to include in each set.\n",
    "train_size = int(0.5 * len(dataset))\n",
    "val_size = len(dataset) - train_size\n",
    "\n",
    "# Divide the dataset by randomly selecting samples.\n",
    "train_dataset, val_dataset = random_split(dataset, [train_size, val_size])\n",
    "\n",
    "print('{:>5,} training samples'.format(train_size))\n",
    "print('{:>5,} validation samples'.format(val_size))"
   ]
  },
  {
   "cell_type": "code",
   "execution_count": 12,
   "metadata": {
    "id": "CiiRWb-Eds4G"
   },
   "outputs": [],
   "source": [
    "# Create the DataLoaders for our training and validation sets.\n",
    "# We'll take training samples in random order. \n",
    "train_dataloader = DataLoader(\n",
    "            train_dataset,  # The training samples.\n",
    "            sampler = RandomSampler(train_dataset), # Select batches randomly\n",
    "            batch_size = batch_size, # Trains with this batch size.\n",
    "            pin_memory=pin_memory,\n",
    "            num_workers=workers,\n",
    "        )\n",
    "\n",
    "# For validation the order doesn't matter, so we'll just read them sequentially.\n",
    "validation_dataloader = DataLoader(\n",
    "            val_dataset, # The validation samples.\n",
    "            sampler = SequentialSampler(val_dataset), # Pull out batches sequentially.\n",
    "            batch_size = batch_size, # Evaluate with this batch size.\n",
    "            pin_memory=pin_memory,\n",
    "            num_workers=workers,\n",
    "        )"
   ]
  },
  {
   "cell_type": "code",
   "execution_count": 13,
   "metadata": {
    "id": "04wwRHM1fChA"
   },
   "outputs": [],
   "source": [
    "def flat_accuracy(preds, labels):\n",
    "    pred_flat = np.argmax(preds, axis=1).flatten()\n",
    "    labels_flat = labels.flatten()\n",
    "    return np.sum(pred_flat == labels_flat) / len(labels_flat)\n",
    "\n",
    "def format_time(elapsed):\n",
    "    '''\n",
    "    Takes a time in seconds and returns a string hh:mm:ss\n",
    "    '''\n",
    "    # Round to the nearest second.\n",
    "    elapsed_rounded = int(round((elapsed)))\n",
    "    \n",
    "    # Format as hh:mm:ss\n",
    "    return str(datetime.timedelta(seconds=elapsed_rounded))"
   ]
  },
  {
   "cell_type": "code",
   "execution_count": 51,
   "metadata": {},
   "outputs": [],
   "source": [
    "def test_model(model, length:int=100):\n",
    "    df = pd.read_csv('all_accents.tsv', sep='\\t', header=None)\n",
    "    labels = [getLabel(s) for s in df[1]]\n",
    "    sentences = df[0]\n",
    "    \n",
    "    idx = list(range(len(labels)))\n",
    "    np.random.seed(1)\n",
    "    np.random.shuffle(idx)\n",
    "    idx = idx[:length]\n",
    "    labels = [labels[i] for i in idx]\n",
    "    sentences = [sentences[i] for i in idx]\n",
    "    \n",
    "    input_sentences = []\n",
    "    input_ids = []\n",
    "    attention_masks = []\n",
    "    labels_ = []\n",
    "    \n",
    "    for sent, lab in zip(sentences, labels):\n",
    "        if(lab==-1): continue\n",
    "        encoded_dict = tokenizer.encode_plus(\n",
    "                            sent,                      # Sentence to encode.\n",
    "                            add_special_tokens = True, # Add '[CLS]' and '[SEP]'\n",
    "                            max_length = MAX_LENGTH,           # Pad & truncate all sentences.\n",
    "                            truncation=True,\n",
    "                            pad_to_max_length = True,\n",
    "                            return_attention_mask = True,   # Construct attn. masks.\n",
    "                            return_tensors = 'pt',     # Return pytorch tensors.\n",
    "                       )\n",
    "        input_sentences.append(sent)\n",
    "        # Add the encoded sentence to the list.    \n",
    "        input_ids.append(encoded_dict['input_ids'])\n",
    "\n",
    "        # And its attention mask (simply differentiates padding from non-padding).\n",
    "        attention_masks.append(encoded_dict['attention_mask'])\n",
    "        labels_.append(lab)\n",
    "\n",
    "    # Convert the lists into tensors.\n",
    "    input_ids = torch.cat(input_ids, dim=0)\n",
    "    attention_masks = torch.cat(attention_masks, dim=0)\n",
    "    labels = torch.tensor(labels_)\n",
    "    \n",
    "    b_input_ids = input_ids.to(device, non_blocking=True)\n",
    "    b_input_mask = attention_masks.to(device, non_blocking=True)\n",
    "    b_labels = labels.to(device, non_blocking=True)\n",
    "        \n",
    "    with torch.no_grad():\n",
    "        output = model(b_input_ids, \n",
    "                            token_type_ids=None, \n",
    "                            attention_mask=b_input_mask,\n",
    "                            labels=b_labels)\n",
    "            \n",
    "    print('Loss:', output.loss.item())\n",
    "\n",
    "    logits = output.logits.detach().cpu().numpy()\n",
    "    label_ids = b_labels.to('cpu').numpy()\n",
    "\n",
    "    print('Accuracy:', flat_accuracy(logits, label_ids))\n",
    "    \n",
    "    am = logits.argmax(axis=1)\n",
    "    ans = [s[:i] + '^' + s[i:] for s,i in zip(input_sentences,am)]\n",
    "    return ans"
   ]
  },
  {
   "cell_type": "markdown",
   "metadata": {
    "tags": []
   },
   "source": [
    "## Bert"
   ]
  },
  {
   "cell_type": "code",
   "execution_count": 14,
   "metadata": {
    "colab": {
     "base_uri": "https://localhost:8080/",
     "height": 969,
     "referenced_widgets": [
      "6831ab9be3bf404b82e9603cf074998c",
      "f1733bc33bb040099c59bd661ab3c1bd",
      "53016d301b6a4bf2bfbc5f9bed4876ca",
      "9999bae94e404ef2a9b95071c5aaf639",
      "585df2ebfe8f478ebc1b203d65993ee0",
      "18f1c35191ca436bbea5a785b2cb890a",
      "fa153c53e8e3424abbf0b37734679ecd",
      "8daf6b8cc00c4a77bc80841160c0dc85",
      "d8a3499402994443a775c9b71ec3bdb7",
      "b3f43dfbe1894bbdbca3167d89640c7d",
      "ca6158aac5954eb0918049ab69446104",
      "3edcf102162f477993362418f06ed10f",
      "3d2a38b3d7c74a938d0e5c1b754a67b2",
      "33f1ec2c9fc94bac80e8aeb3ce7af0f4",
      "e35740e127984b319359f0ac4ec89836",
      "350bc0539a524d0cab4efbee35f65b51",
      "43c85fedff8440f7b0c6974b5216aabe",
      "8b2552c68fca442f8ca96fe1ba7ff9d0",
      "078d7a4fad4e4ff18bfb0abe8b5c2de4",
      "d5bda3ce364545b291a72e177a307a2f",
      "d35efe628e8b4660b5281dee2985d0c7",
      "bc66f25ba3874f44b1d321709e46702e"
     ]
    },
    "id": "E3ww47AKF4TV",
    "outputId": "9c3a0a14-f5c7-4759-f339-ddf2f1083bf2"
   },
   "outputs": [
    {
     "name": "stderr",
     "output_type": "stream",
     "text": [
      "Some weights of the model checkpoint at bert-base-multilingual-uncased were not used when initializing BertForSequenceClassification: ['cls.seq_relationship.weight', 'cls.predictions.transform.dense.weight', 'cls.seq_relationship.bias', 'cls.predictions.transform.LayerNorm.bias', 'cls.predictions.bias', 'cls.predictions.decoder.weight', 'cls.predictions.transform.LayerNorm.weight', 'cls.predictions.transform.dense.bias']\n",
      "- This IS expected if you are initializing BertForSequenceClassification from the checkpoint of a model trained on another task or with another architecture (e.g. initializing a BertForSequenceClassification model from a BertForPreTraining model).\n",
      "- This IS NOT expected if you are initializing BertForSequenceClassification from the checkpoint of a model that you expect to be exactly identical (initializing a BertForSequenceClassification model from a BertForSequenceClassification model).\n",
      "Some weights of BertForSequenceClassification were not initialized from the model checkpoint at bert-base-multilingual-uncased and are newly initialized: ['classifier.weight', 'classifier.bias']\n",
      "You should probably TRAIN this model on a down-stream task to be able to use it for predictions and inference.\n"
     ]
    }
   ],
   "source": [
    "model = BertForSequenceClassification.from_pretrained(\"bert-base-multilingual-uncased\",\n",
    "    num_labels = max_len, # The number of output labels--2 for binary classification.\n",
    "                    # You can increase this for multi-class tasks.   \n",
    "    output_attentions = False, # Whether the model returns attentions weights.\n",
    "    output_hidden_states = False, # Whether the model returns all hidden-states.\n",
    ")\n",
    "model.to(device);"
   ]
  },
  {
   "cell_type": "code",
   "execution_count": 15,
   "metadata": {
    "colab": {
     "base_uri": "https://localhost:8080/"
    },
    "id": "wwMBpaxbeeQR",
    "outputId": "5f0e39c6-3755-4c07-e3e6-6240336c24f2"
   },
   "outputs": [
    {
     "name": "stderr",
     "output_type": "stream",
     "text": [
      "/home/vvkakurin/.conda/envs/608/lib/python3.9/site-packages/transformers/optimization.py:391: FutureWarning: This implementation of AdamW is deprecated and will be removed in a future version. Use the PyTorch implementation torch.optim.AdamW instead, or set `no_deprecation_warning=True` to disable this warning\n",
      "  warnings.warn(\n"
     ]
    }
   ],
   "source": [
    "optimizer = AdamW(model.parameters(),\n",
    "                  lr = 1e-5, # args.learning_rate - default is 5e-5, our notebook had 2e-5\n",
    "                  eps = 1e-8 # args.adam_epsilon  - default is 1e-8.\n",
    "                )"
   ]
  },
  {
   "cell_type": "code",
   "execution_count": 16,
   "metadata": {
    "id": "41X68WA6e1oe"
   },
   "outputs": [],
   "source": [
    "# Total number of training steps is [number of batches] x [number of epochs]. \n",
    "# (Note that this is not the same as the number of training samples).\n",
    "total_steps = len(train_dataloader) * epochs\n",
    "\n",
    "# Create the learning rate scheduler.\n",
    "scheduler = get_linear_schedule_with_warmup(optimizer, \n",
    "                                            num_warmup_steps = 0, # Default value in run_glue.py\n",
    "                                            num_training_steps = total_steps)"
   ]
  },
  {
   "cell_type": "code",
   "execution_count": 17,
   "metadata": {
    "colab": {
     "base_uri": "https://localhost:8080/",
     "height": 49,
     "referenced_widgets": [
      "75331db2a45148d1b1594c47405e0805",
      "76d7785732154e11b299c53c1b946dd9",
      "7b3f3492a7dd4816904a26f4af811d03",
      "69d2b1e95dda409896202e95bd3f1a33",
      "2c62d9241884423ba0fced8631512496",
      "360811978418444781ecadd3c88e584a",
      "0975a8ac610d450c9d5ca18818dbb055",
      "d6baf5b148184a7cb4351f38d2b73194",
      "61b4d648e31e44dbba550d3457b80662",
      "6e9a9a5d34374b628609ecd0b18eb039",
      "6a565be686a84d23a441634ea9da3a9d"
     ]
    },
    "id": "40afNOtlfZeH",
    "outputId": "43ca56ec-100b-48a9-ece0-3ebbb8670b7c",
    "tags": []
   },
   "outputs": [
    {
     "name": "stderr",
     "output_type": "stream",
     "text": [
      "100%|██████████| 6563/6563 [43:21<00:00,  2.52it/s, state=train, loss=0.491, mean=0.537]\n",
      "100%|██████████| 6563/6563 [14:06<00:00,  7.76it/s, state=val, loss=0.5, mean=0.488]  \n"
     ]
    },
    {
     "name": "stdout",
     "output_type": "stream",
     "text": [
      "  Accuracy: 0.81\n",
      "  Validation Loss: 0.48\n",
      "  Validation took: 0:14:06\n"
     ]
    },
    {
     "name": "stderr",
     "output_type": "stream",
     "text": [
      "100%|██████████| 6563/6563 [44:12<00:00,  2.47it/s, state=train, loss=0.363, mean=0.421] \n",
      "100%|██████████| 6563/6563 [14:08<00:00,  7.73it/s, state=val, loss=0.294, mean=0.381]\n"
     ]
    },
    {
     "name": "stdout",
     "output_type": "stream",
     "text": [
      "  Accuracy: 0.85\n",
      "  Validation Loss: 0.37\n",
      "  Validation took: 0:14:09\n"
     ]
    },
    {
     "name": "stderr",
     "output_type": "stream",
     "text": [
      "100%|██████████| 6563/6563 [44:41<00:00,  2.45it/s, state=train, loss=0.259, mean=0.363] \n",
      "100%|██████████| 6563/6563 [15:27<00:00,  7.08it/s, state=val, loss=0.254, mean=0.322]\n"
     ]
    },
    {
     "name": "stdout",
     "output_type": "stream",
     "text": [
      "  Accuracy: 0.88\n",
      "  Validation Loss: 0.32\n",
      "  Validation took: 0:15:28\n"
     ]
    },
    {
     "name": "stderr",
     "output_type": "stream",
     "text": [
      "100%|██████████| 6563/6563 [47:21<00:00,  2.31it/s, state=train, loss=0.265, mean=0.328]  \n",
      "100%|██████████| 6563/6563 [14:47<00:00,  7.40it/s, state=val, loss=0.211, mean=0.3]  "
     ]
    },
    {
     "name": "stdout",
     "output_type": "stream",
     "text": [
      "  Accuracy: 0.88\n",
      "  Validation Loss: 0.30\n",
      "  Validation took: 0:14:47\n",
      "\n",
      "Training complete!\n"
     ]
    },
    {
     "name": "stderr",
     "output_type": "stream",
     "text": [
      "\n"
     ]
    }
   ],
   "source": [
    "training_stats = []\n",
    "losses_train = []\n",
    "losses_val = []\n",
    "\n",
    "for epoch_i in range(0, epochs):\n",
    "    \n",
    "    # ========================================\n",
    "    #               Training\n",
    "    # ========================================\n",
    "    \n",
    "    # Perform one full pass over the training set.\n",
    "\n",
    "    # print(\"\")\n",
    "    # print('======== Epoch {:} / {:} ========'.format(epoch_i + 1, epochs))\n",
    "    # print('Training...')\n",
    "\n",
    "    # Measure how long the training epoch takes.\n",
    "    t0 = time.time()\n",
    "\n",
    "    # Reset the total loss for this epoch.\n",
    "    total_train_loss = 0\n",
    "\n",
    "    # Put the model into training mode. Don't be mislead--the call to \n",
    "    # `train` just changes the *mode*, it doesn't *perform* the training.\n",
    "    # `dropout` and `batchnorm` layers behave differently during training\n",
    "    # vs. test (source: https://stackoverflow.com/questions/51433378/what-does-model-train-do-in-pytorch)\n",
    "    model.train()\n",
    "\n",
    "    # For each batch of training data...\n",
    "    tq = tqdm(train_dataloader)\n",
    "    for step, batch in enumerate(tq):\n",
    "\n",
    "        # Progress update every 40 batches.\n",
    "        if step % 40 == 0 and not step == 0:\n",
    "            # Calculate elapsed time in minutes.\n",
    "            elapsed = format_time(time.time() - t0)\n",
    "            \n",
    "            # Report progress.\n",
    "            # print('  Batch {:>5,}  of  {:>5,}.    Elapsed: {:}.'.format(step, len(train_dataloader), elapsed))\n",
    "\n",
    "        # Unpack this training batch from our dataloader. \n",
    "        #\n",
    "        # As we unpack the batch, we'll also copy each tensor to the GPU using the \n",
    "        # `to` method.\n",
    "        #\n",
    "        # `batch` contains three pytorch tensors:\n",
    "        #   [0]: input ids \n",
    "        #   [1]: attention masks\n",
    "        #   [2]: labels \n",
    "        b_input_ids = batch[0].to(device, non_blocking=True)\n",
    "        b_input_mask = batch[1].to(device, non_blocking=True)\n",
    "        b_labels = batch[2].to(device, non_blocking=True)\n",
    "\n",
    "        # Always clear any previously calculated gradients before performing a\n",
    "        # backward pass. PyTorch doesn't do this automatically because \n",
    "        # accumulating the gradients is \"convenient while training RNNs\". \n",
    "        # (source: https://stackoverflow.com/questions/48001598/why-do-we-need-to-call-zero-grad-in-pytorch)\n",
    "        model.zero_grad(set_to_none=True)        \n",
    "\n",
    "        # Perform a forward pass (evaluate the model on this training batch).\n",
    "        # The documentation for this `model` function is here: \n",
    "        # https://huggingface.co/transformers/v2.2.0/model_doc/bert.html#transformers.BertForSequenceClassification\n",
    "        # It returns different numbers of parameters depending on what arguments\n",
    "        # arge given and what flags are set. For our useage here, it returns\n",
    "        # the loss (because we provided labels) and the \"logits\"--the model\n",
    "        # outputs prior to activation.\n",
    "        output = model(b_input_ids, \n",
    "                             token_type_ids=None, \n",
    "                             attention_mask=b_input_mask, \n",
    "                             labels=b_labels)\n",
    "\n",
    "        # Accumulate the training loss over all of the batches so that we can\n",
    "        # calculate the average loss at the end. `loss` is a Tensor containing a\n",
    "        # single value; the `.item()` function just returns the Python value \n",
    "        # from the tensor.\n",
    "        total_train_loss += output.loss.item()\n",
    "        losses_train.append(output.loss.item())\n",
    "        tq.set_postfix({'state':'train',\n",
    "                        'loss':losses_train[-1],\n",
    "                        'mean':np.mean(losses_train[-100:])})\n",
    "\n",
    "        # Perform a backward pass to calculate the gradients.\n",
    "        output.loss.backward()\n",
    "\n",
    "        # Clip the norm of the gradients to 1.0.\n",
    "        # This is to help prevent the \"exploding gradients\" problem.\n",
    "        torch.nn.utils.clip_grad_norm_(model.parameters(), 1.0)\n",
    "\n",
    "        # Update parameters and take a step using the computed gradient.\n",
    "        # The optimizer dictates the \"update rule\"--how the parameters are\n",
    "        # modified based on their gradients, the learning rate, etc.\n",
    "        optimizer.step()\n",
    "\n",
    "        # Update the learning rate.\n",
    "        scheduler.step()\n",
    "\n",
    "    # torch.cuda.empty_cache()\n",
    "    # gc.collect()\n",
    "\n",
    "    # Calculate the average loss over all of the batches.\n",
    "    avg_train_loss = total_train_loss / len(train_dataloader)            \n",
    "    \n",
    "    # Measure how long this epoch took.\n",
    "    training_time = format_time(time.time() - t0)\n",
    "\n",
    "    # print(\"\")\n",
    "    # print(\"  Average training loss: {0:.2f}\".format(avg_train_loss))\n",
    "    # print(\"  Training epcoh took: {:}\".format(training_time))\n",
    "        \n",
    "    # ========================================\n",
    "    #               Validation\n",
    "    # ========================================\n",
    "    # After the completion of each training epoch, measure our performance on\n",
    "    # our validation set.\n",
    "\n",
    "    # print(\"\")\n",
    "    # print(\"Running Validation...\")\n",
    "\n",
    "    t0 = time.time()\n",
    "\n",
    "    # Put the model in evaluation mode--the dropout layers behave differently\n",
    "    # during evaluation.\n",
    "    model.eval()\n",
    "\n",
    "    # Tracking variables \n",
    "    total_eval_accuracy = 0\n",
    "    total_eval_loss = 0\n",
    "    nb_eval_steps = 0\n",
    "\n",
    "    # Evaluate data for one epoch\n",
    "    tq = tqdm(validation_dataloader)\n",
    "    for batch in tq:\n",
    "        \n",
    "        # Unpack this training batch from our dataloader. \n",
    "        #\n",
    "        # As we unpack the batch, we'll also copy each tensor to the GPU using \n",
    "        # the `to` method.\n",
    "        #\n",
    "        # `batch` contains three pytorch tensors:\n",
    "        #   [0]: input ids \n",
    "        #   [1]: attention masks\n",
    "        #   [2]: labels \n",
    "        b_input_ids = batch[0].to(device, non_blocking=True)\n",
    "        b_input_mask = batch[1].to(device, non_blocking=True)\n",
    "        b_labels = batch[2].to(device, non_blocking=True)\n",
    "        \n",
    "        # Tell pytorch not to bother with constructing the compute graph during\n",
    "        # the forward pass, since this is only needed for backprop (training).\n",
    "        with torch.no_grad():        \n",
    "\n",
    "            # Forward pass, calculate logit predictions.\n",
    "            # token_type_ids is the same as the \"segment ids\", which \n",
    "            # differentiates sentence 1 and 2 in 2-sentence tasks.\n",
    "            # The documentation for this `model` function is here: \n",
    "            # https://huggingface.co/transformers/v2.2.0/model_doc/bert.html#transformers.BertForSequenceClassification\n",
    "            # Get the \"logits\" output by the model. The \"logits\" are the output\n",
    "            # values prior to applying an activation function like the softmax.\n",
    "            output = model(b_input_ids, \n",
    "                                   token_type_ids=None, \n",
    "                                   attention_mask=b_input_mask,\n",
    "                                   labels=b_labels)\n",
    "            \n",
    "        # Accumulate the validation loss.\n",
    "        total_eval_loss += output.loss.item()\n",
    "        losses_val.append(output.loss.item())\n",
    "        tq.set_postfix({'state':'val',\n",
    "                        'loss':losses_val[-1],\n",
    "                        'mean':np.mean(losses_val[-100:])})\n",
    "\n",
    "        # Move logits and labels to CPU\n",
    "        logits = output.logits.detach().cpu().numpy()\n",
    "        label_ids = b_labels.to('cpu').numpy()\n",
    "\n",
    "        # Calculate the accuracy for this batch of test sentences, and\n",
    "        # accumulate it over all batches.\n",
    "        total_eval_accuracy += flat_accuracy(logits, label_ids)\n",
    "        \n",
    "    # torch.cuda.empty_cache()\n",
    "    # gc.collect()\n",
    "\n",
    "    # Report the final accuracy for this validation run.\n",
    "    avg_val_accuracy = total_eval_accuracy / len(validation_dataloader)\n",
    "    print(\"  Accuracy: {0:.2f}\".format(avg_val_accuracy))\n",
    "\n",
    "    # Calculate the average loss over all of the batches.\n",
    "    avg_val_loss = total_eval_loss / len(validation_dataloader)\n",
    "    \n",
    "    # Measure how long the validation run took.\n",
    "    validation_time = format_time(time.time() - t0)\n",
    "    \n",
    "    print(\"  Validation Loss: {0:.2f}\".format(avg_val_loss))\n",
    "    print(\"  Validation took: {:}\".format(validation_time))\n",
    "\n",
    "    # Record all statistics from this epoch.\n",
    "    training_stats.append(\n",
    "        {\n",
    "            'epoch': epoch_i + 1,\n",
    "            'Training Loss': avg_train_loss,\n",
    "            'Valid. Loss': avg_val_loss,\n",
    "            'Valid. Accur.': avg_val_accuracy,\n",
    "            'Training Time': training_time,\n",
    "            'Validation Time': validation_time\n",
    "        }\n",
    "    )\n",
    "\n",
    "print(\"\")\n",
    "print(\"Training complete!\")\n",
    "\n",
    "# print(\"Total training took {:} (h:mm:ss)\".format(format_time(time.time()-total_t0)))"
   ]
  },
  {
   "cell_type": "code",
   "execution_count": 18,
   "metadata": {
    "tags": []
   },
   "outputs": [
    {
     "data": {
      "image/png": "[encoded data removed]",
      "text/plain": [
       "<Figure size 1600x800 with 2 Axes>"
      ]
     },
     "metadata": {},
     "output_type": "display_data"
    }
   ],
   "source": [
    "rolling_train = [np.mean(losses_train[i:i+100]) for i in range(0, len(losses_train), 100)]\n",
    "rolling_val = [np.mean(losses_val[i:i+100]) for i in range(0, len(losses_val), 100)]\n",
    "plt.figure(figsize=(16,8))\n",
    "plt.subplot(2,1,1)\n",
    "plt.plot(rolling_train)\n",
    "plt.title('train')\n",
    "plt.subplot(2,1,2)\n",
    "plt.plot(rolling_val)\n",
    "plt.title('val');"
   ]
  },
  {
   "cell_type": "code",
   "execution_count": 52,
   "metadata": {},
   "outputs": [
    {
     "name": "stderr",
     "output_type": "stream",
     "text": [
      "/home/vvkakurin/.conda/envs/608/lib/python3.9/site-packages/transformers/tokenization_utils_base.py:2354: FutureWarning: The `pad_to_max_length` argument is deprecated and will be removed in a future version, use `padding=True` or `padding='longest'` to pad to the longest sequence in the batch, or use `padding='max_length'` to pad to a max length. In this case, you can give a specific length with `max_length` (e.g. `max_length=45`) or leave max_length to None to pad to the maximal input size of the model (e.g. 512 for Bert).\n",
      "  warnings.warn(\n"
     ]
    },
    {
     "name": "stdout",
     "output_type": "stream",
     "text": [
      "Loss: 0.21429838240146637\n",
      "Accuracy: 0.91\n",
      "['ап^ексе', 'зал^япывало', 'г^оночными', 'сп^ектру', 'застр^ачиваюсь', 'бутурл^инских', 'стар^ательнейшие', 'вывор^ачиваются', 'витам^инным', 'тр^онусь', 'пох^улит', 'сах^об', 'электробытов^ой', 'криминализ^ируюсь', 'рекр^утской', 'г^оши', 'комфорт-кл^асс', 'пустов^атости', 'вак^уумному', 'втрамб^овывающийся', 'изв^озные', 'артикул^ируешься', 'разгримиров^авший', 'м^ерзко', 'сарм^атов', 'подп^итывавшийся', 'изр^анило', 'муравь^иные', 'усек^ающею', 'алкаш^а', 'перепл^атам', 'к^аемочного', 'неш^уточное', 'ашкен^азский', 'сар^аус', 'разоблач^аемом', 'белом^ордыми', 'от^арович', 'каб^олками', 'взим^ающей', 'огруб^ела', 'дав^ыдкину', 'п^озванными', 'запомин^аемом', 'п^ылит', 'пескар^ях', 'тираж^ировалось', 'марцип^ана', 'вырезн^ыми', 'нал^ичествующими', 'поплю^ю', 'отпр^авившейся', 'шп^ак', 'напис^аю', 'согр^етым', 'крестоцв^етной', 'кривон^огой', 'в^ыученном', 'к^онченом', 'зубор^езные', 'соп^ерничку', 'захорон^ившихся', 'в^ыхаркнем', 'брак^ованном', 'смирн^ешенькою', 'предрожд^ественскую', 'фот^осистему', 'обж^уливавшими', 'ум^алчивавшегося', 'ль^ющуюся', 'зад^ариваю', 'гимал^айскою', 'вытир^авшеюся', 'перес^иживайтесь', 'междом^етные', 'цинанд^али', 'отш^ибленными', 'дельф^инчике', 'концентр^аторов', 'превзойт^и', 'в^ыпотрошенная', 'ск^атывавшиеся', 'якш^аюсь', 'отпеч^енный', 'уступ^аемой', 'многол^икое', 'интис^ар', 'высек^ающем', 'выкар^абкивалось', 'подн^явшему', 'нам^аслит', 'гран^ульных', 'нес^ут', 'нег^аснущем', 'в^ыстрочил', 'п^орск', 'бр^атиков', 'однон^иточную', 'зар^авниваешься', 'перемен^яла']\n"
     ]
    }
   ],
   "source": [
    "print(test_model(model))"
   ]
  },
  {
   "cell_type": "markdown",
   "metadata": {
    "tags": []
   },
   "source": [
    "## Albert"
   ]
  },
  {
   "cell_type": "code",
   "execution_count": 19,
   "metadata": {},
   "outputs": [
    {
     "data": {
      "text/plain": [
       "5682"
      ]
     },
     "execution_count": 19,
     "metadata": {},
     "output_type": "execute_result"
    }
   ],
   "source": [
    "torch.cuda.empty_cache()\n",
    "gc.collect()"
   ]
  },
  {
   "cell_type": "code",
   "execution_count": 20,
   "metadata": {
    "tags": []
   },
   "outputs": [
    {
     "name": "stderr",
     "output_type": "stream",
     "text": [
      "You are using a model of type bert to instantiate a model of type albert. This is not supported for all configurations of models and can yield errors.\n",
      "Some weights of the model checkpoint at flax-community/alberti-bert-base-multilingual-cased were not used when initializing AlbertForSequenceClassification: ['bert.encoder.layer.11.attention.self.value.bias', 'bert.encoder.layer.1.attention.self.key.weight', 'bert.encoder.layer.8.intermediate.dense.bias', 'bert.encoder.layer.7.attention.self.key.weight', 'bert.encoder.layer.9.output.LayerNorm.weight', 'bert.encoder.layer.6.attention.output.LayerNorm.weight', 'bert.encoder.layer.8.attention.self.value.bias', 'bert.encoder.layer.10.attention.output.dense.bias', 'bert.encoder.layer.7.attention.self.value.bias', 'bert.encoder.layer.4.attention.output.LayerNorm.bias', 'bert.embeddings.LayerNorm.bias', 'bert.encoder.layer.2.intermediate.dense.weight', 'bert.encoder.layer.1.attention.output.LayerNorm.weight', 'bert.encoder.layer.0.attention.self.query.bias', 'bert.encoder.layer.8.attention.self.query.weight', 'bert.encoder.layer.9.attention.output.LayerNorm.bias', 'bert.encoder.layer.2.intermediate.dense.bias', 'bert.encoder.layer.0.attention.self.value.weight', 'bert.encoder.layer.1.output.LayerNorm.bias', 'bert.encoder.layer.11.intermediate.dense.bias', 'bert.encoder.layer.10.attention.output.dense.weight', 'bert.encoder.layer.10.output.LayerNorm.bias', 'cls.predictions.transform.dense.bias', 'bert.encoder.layer.2.attention.self.key.bias', 'bert.encoder.layer.7.attention.self.query.bias', 'bert.encoder.layer.9.output.dense.weight', 'bert.encoder.layer.7.output.LayerNorm.weight', 'bert.encoder.layer.4.attention.self.value.bias', 'bert.encoder.layer.8.attention.self.value.weight', 'bert.encoder.layer.4.output.dense.bias', 'bert.encoder.layer.1.intermediate.dense.weight', 'bert.encoder.layer.2.attention.self.query.weight', 'bert.encoder.layer.3.attention.output.LayerNorm.weight', 'bert.encoder.layer.3.output.dense.bias', 'bert.encoder.layer.7.attention.self.key.bias', 'bert.encoder.layer.10.intermediate.dense.weight', 'bert.encoder.layer.11.output.LayerNorm.weight', 'bert.encoder.layer.6.output.dense.bias', 'bert.encoder.layer.2.attention.output.LayerNorm.weight', 'bert.encoder.layer.10.attention.self.key.bias', 'bert.encoder.layer.7.attention.output.dense.bias', 'bert.encoder.layer.9.attention.output.LayerNorm.weight', 'bert.encoder.layer.11.attention.self.query.weight', 'bert.encoder.layer.9.attention.self.key.bias', 'bert.encoder.layer.0.intermediate.dense.bias', 'bert.encoder.layer.10.attention.self.value.bias', 'bert.encoder.layer.4.attention.self.query.weight', 'bert.encoder.layer.11.intermediate.dense.weight', 'bert.encoder.layer.6.attention.output.dense.bias', 'bert.encoder.layer.11.output.dense.weight', 'bert.encoder.layer.6.attention.self.value.bias', 'bert.encoder.layer.2.attention.output.dense.bias', 'bert.encoder.layer.8.attention.self.query.bias', 'bert.encoder.layer.0.intermediate.dense.weight', 'bert.encoder.layer.2.attention.self.value.bias', 'bert.encoder.layer.1.output.dense.bias', 'bert.encoder.layer.3.attention.output.LayerNorm.bias', 'bert.encoder.layer.4.attention.output.dense.weight', 'bert.encoder.layer.5.attention.self.key.bias', 'bert.encoder.layer.11.attention.self.key.weight', 'bert.encoder.layer.6.output.dense.weight', 'bert.encoder.layer.9.attention.self.value.weight', 'bert.encoder.layer.8.output.LayerNorm.bias', 'bert.encoder.layer.8.intermediate.dense.weight', 'bert.encoder.layer.3.attention.output.dense.weight', 'bert.encoder.layer.5.intermediate.dense.weight', 'bert.encoder.layer.2.attention.output.dense.weight', 'bert.encoder.layer.1.output.LayerNorm.weight', 'bert.encoder.layer.6.attention.self.key.weight', 'bert.embeddings.position_ids', 'bert.encoder.layer.3.attention.self.value.bias', 'bert.encoder.layer.5.output.dense.weight', 'bert.encoder.layer.10.output.dense.weight', 'bert.encoder.layer.4.intermediate.dense.weight', 'bert.encoder.layer.8.attention.output.dense.bias', 'bert.encoder.layer.8.output.LayerNorm.weight', 'bert.encoder.layer.4.attention.self.key.bias', 'bert.encoder.layer.1.intermediate.dense.bias', 'bert.encoder.layer.4.attention.output.dense.bias', 'bert.encoder.layer.4.attention.self.value.weight', 'bert.encoder.layer.9.output.LayerNorm.bias', 'cls.predictions.transform.dense.weight', 'bert.encoder.layer.10.intermediate.dense.bias', 'bert.encoder.layer.6.attention.self.key.bias', 'bert.encoder.layer.6.output.LayerNorm.bias', 'bert.encoder.layer.1.attention.output.dense.bias', 'bert.encoder.layer.8.attention.output.LayerNorm.bias', 'cls.predictions.decoder.weight', 'bert.encoder.layer.3.attention.self.value.weight', 'bert.encoder.layer.8.attention.output.dense.weight', 'bert.encoder.layer.11.attention.output.dense.bias', 'bert.encoder.layer.10.output.LayerNorm.weight', 'bert.encoder.layer.11.output.dense.bias', 'bert.encoder.layer.7.attention.self.query.weight', 'bert.encoder.layer.1.attention.self.query.bias', 'bert.encoder.layer.3.intermediate.dense.bias', 'cls.predictions.bias', 'bert.encoder.layer.5.attention.self.query.weight', 'bert.encoder.layer.3.output.dense.weight', 'bert.encoder.layer.10.attention.output.LayerNorm.weight', 'bert.encoder.layer.9.attention.output.dense.weight', 'bert.encoder.layer.4.output.dense.weight', 'bert.encoder.layer.6.attention.self.value.weight', 'bert.encoder.layer.3.intermediate.dense.weight', 'bert.encoder.layer.4.attention.self.query.bias', 'bert.encoder.layer.0.attention.output.dense.weight', 'bert.encoder.layer.0.attention.output.LayerNorm.bias', 'bert.encoder.layer.0.output.LayerNorm.bias', 'bert.encoder.layer.6.intermediate.dense.bias', 'bert.encoder.layer.11.output.LayerNorm.bias', 'bert.encoder.layer.1.attention.self.value.bias', 'bert.encoder.layer.0.output.LayerNorm.weight', 'bert.encoder.layer.9.attention.self.value.bias', 'bert.encoder.layer.10.attention.self.query.weight', 'bert.encoder.layer.1.attention.self.value.weight', 'bert.encoder.layer.9.intermediate.dense.bias', 'bert.encoder.layer.2.output.dense.bias', 'bert.encoder.layer.2.output.LayerNorm.weight', 'bert.encoder.layer.3.attention.output.dense.bias', 'bert.encoder.layer.5.output.LayerNorm.bias', 'cls.predictions.transform.LayerNorm.weight', 'bert.encoder.layer.7.output.LayerNorm.bias', 'bert.encoder.layer.0.output.dense.weight', 'bert.encoder.layer.1.attention.output.dense.weight', 'bert.encoder.layer.3.attention.self.key.weight', 'bert.encoder.layer.8.attention.self.key.bias', 'bert.encoder.layer.5.attention.output.dense.bias', 'bert.encoder.layer.8.attention.output.LayerNorm.weight', 'bert.encoder.layer.7.attention.output.LayerNorm.weight', 'bert.encoder.layer.3.output.LayerNorm.bias', 'bert.encoder.layer.5.attention.self.key.weight', 'bert.encoder.layer.6.attention.output.dense.weight', 'cls.predictions.decoder.bias', 'bert.encoder.layer.6.intermediate.dense.weight', 'bert.encoder.layer.10.attention.output.LayerNorm.bias', 'bert.embeddings.position_embeddings.weight', 'bert.encoder.layer.5.attention.output.dense.weight', 'bert.encoder.layer.1.attention.self.key.bias', 'bert.encoder.layer.2.output.dense.weight', 'bert.encoder.layer.11.attention.output.LayerNorm.bias', 'bert.encoder.layer.0.attention.self.key.weight', 'bert.encoder.layer.0.attention.output.dense.bias', 'bert.encoder.layer.6.attention.self.query.bias', 'bert.encoder.layer.10.attention.self.query.bias', 'bert.encoder.layer.4.output.LayerNorm.bias', 'bert.encoder.layer.6.output.LayerNorm.weight', 'bert.encoder.layer.5.attention.output.LayerNorm.bias', 'bert.encoder.layer.8.attention.self.key.weight', 'bert.encoder.layer.0.output.dense.bias', 'bert.encoder.layer.11.attention.self.key.bias', 'bert.encoder.layer.5.output.LayerNorm.weight', 'bert.encoder.layer.0.attention.self.value.bias', 'bert.encoder.layer.11.attention.self.value.weight', 'bert.encoder.layer.1.output.dense.weight', 'bert.encoder.layer.0.attention.self.key.bias', 'bert.encoder.layer.5.attention.output.LayerNorm.weight', 'bert.embeddings.token_type_embeddings.weight', 'bert.encoder.layer.9.intermediate.dense.weight', 'bert.encoder.layer.0.attention.self.query.weight', 'bert.encoder.layer.7.intermediate.dense.bias', 'bert.encoder.layer.3.attention.self.query.weight', 'bert.encoder.layer.7.attention.output.dense.weight', 'bert.encoder.layer.4.attention.self.key.weight', 'bert.encoder.layer.8.output.dense.weight', 'bert.encoder.layer.10.attention.self.key.weight', 'bert.encoder.layer.6.attention.output.LayerNorm.bias', 'bert.encoder.layer.9.attention.self.query.weight', 'bert.embeddings.LayerNorm.weight', 'bert.encoder.layer.11.attention.output.dense.weight', 'bert.encoder.layer.5.intermediate.dense.bias', 'bert.encoder.layer.1.attention.output.LayerNorm.bias', 'bert.encoder.layer.7.intermediate.dense.weight', 'bert.encoder.layer.11.attention.self.query.bias', 'bert.encoder.layer.2.output.LayerNorm.bias', 'bert.encoder.layer.5.attention.self.value.weight', 'bert.encoder.layer.2.attention.output.LayerNorm.bias', 'bert.encoder.layer.5.attention.self.value.bias', 'bert.encoder.layer.7.attention.output.LayerNorm.bias', 'bert.encoder.layer.2.attention.self.value.weight', 'bert.encoder.layer.4.attention.output.LayerNorm.weight', 'bert.encoder.layer.0.attention.output.LayerNorm.weight', 'bert.encoder.layer.5.output.dense.bias', 'bert.encoder.layer.7.output.dense.bias', 'bert.encoder.layer.9.attention.output.dense.bias', 'bert.encoder.layer.4.intermediate.dense.bias', 'bert.encoder.layer.3.attention.self.key.bias', 'bert.encoder.layer.8.output.dense.bias', 'bert.encoder.layer.4.output.LayerNorm.weight', 'bert.encoder.layer.9.output.dense.bias', 'bert.encoder.layer.7.output.dense.weight', 'bert.encoder.layer.3.attention.self.query.bias', 'bert.encoder.layer.10.attention.self.value.weight', 'bert.encoder.layer.1.attention.self.query.weight', 'bert.embeddings.word_embeddings.weight', 'bert.encoder.layer.9.attention.self.key.weight', 'bert.encoder.layer.5.attention.self.query.bias', 'bert.encoder.layer.9.attention.self.query.bias', 'bert.encoder.layer.10.output.dense.bias', 'bert.encoder.layer.11.attention.output.LayerNorm.weight', 'bert.encoder.layer.2.attention.self.query.bias', 'bert.encoder.layer.2.attention.self.key.weight', 'bert.encoder.layer.3.output.LayerNorm.weight', 'bert.encoder.layer.6.attention.self.query.weight', 'cls.predictions.transform.LayerNorm.bias', 'bert.encoder.layer.7.attention.self.value.weight']\n",
      "- This IS expected if you are initializing AlbertForSequenceClassification from the checkpoint of a model trained on another task or with another architecture (e.g. initializing a BertForSequenceClassification model from a BertForPreTraining model).\n",
      "- This IS NOT expected if you are initializing AlbertForSequenceClassification from the checkpoint of a model that you expect to be exactly identical (initializing a BertForSequenceClassification model from a BertForSequenceClassification model).\n",
      "Some weights of AlbertForSequenceClassification were not initialized from the model checkpoint at flax-community/alberti-bert-base-multilingual-cased and are newly initialized: ['classifier.bias', 'classifier.weight']\n",
      "You should probably TRAIN this model on a down-stream task to be able to use it for predictions and inference.\n"
     ]
    }
   ],
   "source": [
    "albert = AlbertForSequenceClassification.from_pretrained(\"flax-community/alberti-bert-base-multilingual-cased\",\n",
    "    num_labels = max_len, # The number of output labels--2 for binary classification.\n",
    "                    # You can increase this for multi-class tasks.   \n",
    "    output_attentions = False, # Whether the model returns attentions weights.\n",
    "    output_hidden_states = False, # Whether the model returns all hidden-states.\n",
    ")\n",
    "albert.to(device);"
   ]
  },
  {
   "cell_type": "code",
   "execution_count": 21,
   "metadata": {},
   "outputs": [],
   "source": [
    "albert_optimizer = AdamW(albert.parameters(),\n",
    "                  lr = 1e-5, # args.learning_rate - default is 5e-5, our notebook had 2e-5\n",
    "                  eps = 1e-8 # args.adam_epsilon  - default is 1e-8.\n",
    "                )"
   ]
  },
  {
   "cell_type": "code",
   "execution_count": 22,
   "metadata": {},
   "outputs": [],
   "source": [
    "# Total number of training steps is [number of batches] x [number of epochs]. \n",
    "# (Note that this is not the same as the number of training samples).\n",
    "total_steps = len(train_dataloader) * epochs\n",
    "\n",
    "# Create the learning rate scheduler.\n",
    "albert_scheduler = get_linear_schedule_with_warmup(albert_optimizer, \n",
    "                                            num_warmup_steps = 0, # Default value in run_glue.py\n",
    "                                            num_training_steps = total_steps)"
   ]
  },
  {
   "cell_type": "code",
   "execution_count": 23,
   "metadata": {},
   "outputs": [
    {
     "name": "stderr",
     "output_type": "stream",
     "text": [
      "100%|██████████| 6563/6563 [42:51<00:00,  2.55it/s, state=train, loss=0.746, mean=0.626]\n",
      "100%|██████████| 6563/6563 [14:43<00:00,  7.42it/s, state=val, loss=0.64, mean=0.602] \n"
     ]
    },
    {
     "name": "stdout",
     "output_type": "stream",
     "text": [
      "  Accuracy: 0.76\n",
      "  Validation Loss: 0.60\n",
      "  Validation took: 0:14:44\n"
     ]
    },
    {
     "name": "stderr",
     "output_type": "stream",
     "text": [
      "100%|██████████| 6563/6563 [43:02<00:00,  2.54it/s, state=train, loss=0.469, mean=0.523]  \n",
      "100%|██████████| 6563/6563 [14:35<00:00,  7.49it/s, state=val, loss=0.526, mean=0.504]\n"
     ]
    },
    {
     "name": "stdout",
     "output_type": "stream",
     "text": [
      "  Accuracy: 0.80\n",
      "  Validation Loss: 0.49\n",
      "  Validation took: 0:14:36\n"
     ]
    },
    {
     "name": "stderr",
     "output_type": "stream",
     "text": [
      "100%|██████████| 6563/6563 [43:12<00:00,  2.53it/s, state=train, loss=0.434, mean=0.476]\n",
      "100%|██████████| 6563/6563 [14:58<00:00,  7.31it/s, state=val, loss=0.479, mean=0.453]\n"
     ]
    },
    {
     "name": "stdout",
     "output_type": "stream",
     "text": [
      "  Accuracy: 0.82\n",
      "  Validation Loss: 0.45\n",
      "  Validation took: 0:14:58\n"
     ]
    },
    {
     "name": "stderr",
     "output_type": "stream",
     "text": [
      "100%|██████████| 6563/6563 [43:10<00:00,  2.53it/s, state=train, loss=0.514, mean=0.449]\n",
      "100%|██████████| 6563/6563 [14:33<00:00,  7.52it/s, state=val, loss=0.433, mean=0.43] "
     ]
    },
    {
     "name": "stdout",
     "output_type": "stream",
     "text": [
      "  Accuracy: 0.83\n",
      "  Validation Loss: 0.42\n",
      "  Validation took: 0:14:33\n",
      "\n",
      "Training complete!\n"
     ]
    },
    {
     "name": "stderr",
     "output_type": "stream",
     "text": [
      "\n"
     ]
    }
   ],
   "source": [
    "albert_training_stats = []\n",
    "albert_losses_train = []\n",
    "albert_losses_val = []\n",
    "\n",
    "for epoch_i in range(0, epochs):\n",
    "    \n",
    "    # ========================================\n",
    "    #               Training\n",
    "    # ========================================\n",
    "    \n",
    "    # Perform one full pass over the training set.\n",
    "\n",
    "    # print(\"\")\n",
    "    # print('======== Epoch {:} / {:} ========'.format(epoch_i + 1, epochs))\n",
    "    # print('Training...')\n",
    "\n",
    "    # Measure how long the training epoch takes.\n",
    "    t0 = time.time()\n",
    "\n",
    "    # Reset the total loss for this epoch.\n",
    "    total_train_loss = 0\n",
    "\n",
    "    # Put the model into training mode. Don't be mislead--the call to \n",
    "    # `train` just changes the *mode*, it doesn't *perform* the training.\n",
    "    # `dropout` and `batchnorm` layers behave differently during training\n",
    "    # vs. test (source: https://stackoverflow.com/questions/51433378/what-does-model-train-do-in-pytorch)\n",
    "    albert.train()\n",
    "\n",
    "    # For each batch of training data...\n",
    "    tq = tqdm(train_dataloader)\n",
    "    for step, batch in enumerate(tq):\n",
    "\n",
    "        # Progress update every 40 batches.\n",
    "        if step % 40 == 0 and not step == 0:\n",
    "            # Calculate elapsed time in minutes.\n",
    "            elapsed = format_time(time.time() - t0)\n",
    "            \n",
    "            # Report progress.\n",
    "            # print('  Batch {:>5,}  of  {:>5,}.    Elapsed: {:}.'.format(step, len(train_dataloader), elapsed))\n",
    "\n",
    "        # Unpack this training batch from our dataloader. \n",
    "        #\n",
    "        # As we unpack the batch, we'll also copy each tensor to the GPU using the \n",
    "        # `to` method.\n",
    "        #\n",
    "        # `batch` contains three pytorch tensors:\n",
    "        #   [0]: input ids \n",
    "        #   [1]: attention masks\n",
    "        #   [2]: labels \n",
    "        b_input_ids = batch[0].to(device, non_blocking=True)\n",
    "        b_input_mask = batch[1].to(device, non_blocking=True)\n",
    "        b_labels = batch[2].to(device, non_blocking=True)\n",
    "\n",
    "        # Always clear any previously calculated gradients before performing a\n",
    "        # backward pass. PyTorch doesn't do this automatically because \n",
    "        # accumulating the gradients is \"convenient while training RNNs\". \n",
    "        # (source: https://stackoverflow.com/questions/48001598/why-do-we-need-to-call-zero-grad-in-pytorch)\n",
    "        albert.zero_grad(set_to_none=True)        \n",
    "\n",
    "        # Perform a forward pass (evaluate the model on this training batch).\n",
    "        # The documentation for this `model` function is here: \n",
    "        # https://huggingface.co/transformers/v2.2.0/model_doc/bert.html#transformers.BertForSequenceClassification\n",
    "        # It returns different numbers of parameters depending on what arguments\n",
    "        # arge given and what flags are set. For our useage here, it returns\n",
    "        # the loss (because we provided labels) and the \"logits\"--the model\n",
    "        # outputs prior to activation.\n",
    "        output = albert(b_input_ids, \n",
    "                             token_type_ids=None, \n",
    "                             attention_mask=b_input_mask, \n",
    "                             labels=b_labels)\n",
    "\n",
    "        # Accumulate the training loss over all of the batches so that we can\n",
    "        # calculate the average loss at the end. `loss` is a Tensor containing a\n",
    "        # single value; the `.item()` function just returns the Python value \n",
    "        # from the tensor.\n",
    "        total_train_loss += output.loss.item()\n",
    "        albert_losses_train.append(output.loss.item())\n",
    "        tq.set_postfix({'state':'train',\n",
    "                        'loss':albert_losses_train[-1],\n",
    "                        'mean':np.mean(albert_losses_train[-100:])})\n",
    "\n",
    "        # Perform a backward pass to calculate the gradients.\n",
    "        output.loss.backward()\n",
    "\n",
    "        # Clip the norm of the gradients to 1.0.\n",
    "        # This is to help prevent the \"exploding gradients\" problem.\n",
    "        torch.nn.utils.clip_grad_norm_(albert.parameters(), 1.0)\n",
    "\n",
    "        # Update parameters and take a step using the computed gradient.\n",
    "        # The optimizer dictates the \"update rule\"--how the parameters are\n",
    "        # modified based on their gradients, the learning rate, etc.\n",
    "        albert_optimizer.step()\n",
    "\n",
    "        # Update the learning rate.\n",
    "        albert_scheduler.step()\n",
    "\n",
    "    # torch.cuda.empty_cache()\n",
    "    # gc.collect()\n",
    "\n",
    "    # Calculate the average loss over all of the batches.\n",
    "    avg_train_loss = total_train_loss / len(train_dataloader)            \n",
    "    \n",
    "    # Measure how long this epoch took.\n",
    "    training_time = format_time(time.time() - t0)\n",
    "\n",
    "    # print(\"\")\n",
    "    # print(\"  Average training loss: {0:.2f}\".format(avg_train_loss))\n",
    "    # print(\"  Training epcoh took: {:}\".format(training_time))\n",
    "        \n",
    "    # ========================================\n",
    "    #               Validation\n",
    "    # ========================================\n",
    "    # After the completion of each training epoch, measure our performance on\n",
    "    # our validation set.\n",
    "\n",
    "    # print(\"\")\n",
    "    # print(\"Running Validation...\")\n",
    "\n",
    "    t0 = time.time()\n",
    "\n",
    "    # Put the model in evaluation mode--the dropout layers behave differently\n",
    "    # during evaluation.\n",
    "    albert.eval()\n",
    "\n",
    "    # Tracking variables \n",
    "    total_eval_accuracy = 0\n",
    "    total_eval_loss = 0\n",
    "    nb_eval_steps = 0\n",
    "\n",
    "    # Evaluate data for one epoch\n",
    "    tq = tqdm(validation_dataloader)\n",
    "    for batch in tq:\n",
    "        \n",
    "        # Unpack this training batch from our dataloader. \n",
    "        #\n",
    "        # As we unpack the batch, we'll also copy each tensor to the GPU using \n",
    "        # the `to` method.\n",
    "        #\n",
    "        # `batch` contains three pytorch tensors:\n",
    "        #   [0]: input ids \n",
    "        #   [1]: attention masks\n",
    "        #   [2]: labels \n",
    "        b_input_ids = batch[0].to(device, non_blocking=True)\n",
    "        b_input_mask = batch[1].to(device, non_blocking=True)\n",
    "        b_labels = batch[2].to(device, non_blocking=True)\n",
    "        \n",
    "        # Tell pytorch not to bother with constructing the compute graph during\n",
    "        # the forward pass, since this is only needed for backprop (training).\n",
    "        with torch.no_grad():        \n",
    "\n",
    "            # Forward pass, calculate logit predictions.\n",
    "            # token_type_ids is the same as the \"segment ids\", which \n",
    "            # differentiates sentence 1 and 2 in 2-sentence tasks.\n",
    "            # The documentation for this `model` function is here: \n",
    "            # https://huggingface.co/transformers/v2.2.0/model_doc/bert.html#transformers.BertForSequenceClassification\n",
    "            # Get the \"logits\" output by the model. The \"logits\" are the output\n",
    "            # values prior to applying an activation function like the softmax.\n",
    "            output = albert(b_input_ids, \n",
    "                                   token_type_ids=None, \n",
    "                                   attention_mask=b_input_mask,\n",
    "                                   labels=b_labels)\n",
    "            \n",
    "        # Accumulate the validation loss.\n",
    "        total_eval_loss += output.loss.item()\n",
    "        albert_losses_val.append(output.loss.item())\n",
    "        tq.set_postfix({'state':'val',\n",
    "                        'loss':albert_losses_val[-1],\n",
    "                        'mean':np.mean(albert_losses_val[-100:])})\n",
    "\n",
    "        # Move logits and labels to CPU\n",
    "        logits = output.logits.detach().cpu().numpy()\n",
    "        label_ids = b_labels.to('cpu').numpy()\n",
    "\n",
    "        # Calculate the accuracy for this batch of test sentences, and\n",
    "        # accumulate it over all batches.\n",
    "        total_eval_accuracy += flat_accuracy(logits, label_ids)\n",
    "        \n",
    "    # torch.cuda.empty_cache()\n",
    "    # gc.collect()\n",
    "\n",
    "    # Report the final accuracy for this validation run.\n",
    "    avg_val_accuracy = total_eval_accuracy / len(validation_dataloader)\n",
    "    print(\"  Accuracy: {0:.2f}\".format(avg_val_accuracy))\n",
    "\n",
    "    # Calculate the average loss over all of the batches.\n",
    "    avg_val_loss = total_eval_loss / len(validation_dataloader)\n",
    "    \n",
    "    # Measure how long the validation run took.\n",
    "    validation_time = format_time(time.time() - t0)\n",
    "    \n",
    "    print(\"  Validation Loss: {0:.2f}\".format(avg_val_loss))\n",
    "    print(\"  Validation took: {:}\".format(validation_time))\n",
    "\n",
    "    # Record all statistics from this epoch.\n",
    "    albert_training_stats.append(\n",
    "        {\n",
    "            'epoch': epoch_i + 1,\n",
    "            'Training Loss': avg_train_loss,\n",
    "            'Valid. Loss': avg_val_loss,\n",
    "            'Valid. Accur.': avg_val_accuracy,\n",
    "            'Training Time': training_time,\n",
    "            'Validation Time': validation_time\n",
    "        }\n",
    "    )\n",
    "\n",
    "print(\"\")\n",
    "print(\"Training complete!\")\n",
    "\n",
    "# print(\"Total training took {:} (h:mm:ss)\".format(format_time(time.time()-total_t0)))"
   ]
  },
  {
   "cell_type": "code",
   "execution_count": 29,
   "metadata": {},
   "outputs": [
    {
     "data": {
      "image/png": "[encoded data removed]",
      "text/plain": [
       "<Figure size 1600x800 with 2 Axes>"
      ]
     },
     "metadata": {},
     "output_type": "display_data"
    }
   ],
   "source": [
    "albert_rolling_train = [np.mean(albert_losses_train[i:i+100]) for i in range(0, len(albert_losses_train), 100)]\n",
    "albert_rolling_val = [np.mean(albert_losses_val[i:i+100]) for i in range(0, len(albert_losses_val), 100)]\n",
    "plt.figure(figsize=(16,8))\n",
    "plt.subplot(2,1,1)\n",
    "plt.plot(albert_rolling_train)\n",
    "plt.title('train')\n",
    "plt.subplot(2,1,2)\n",
    "plt.plot(albert_rolling_val)\n",
    "plt.title('val');"
   ]
  },
  {
   "cell_type": "code",
   "execution_count": 53,
   "metadata": {},
   "outputs": [
    {
     "name": "stderr",
     "output_type": "stream",
     "text": [
      "/home/vvkakurin/.conda/envs/608/lib/python3.9/site-packages/transformers/tokenization_utils_base.py:2354: FutureWarning: The `pad_to_max_length` argument is deprecated and will be removed in a future version, use `padding=True` or `padding='longest'` to pad to the longest sequence in the batch, or use `padding='max_length'` to pad to a max length. In this case, you can give a specific length with `max_length` (e.g. `max_length=45`) or leave max_length to None to pad to the maximal input size of the model (e.g. 512 for Bert).\n",
      "  warnings.warn(\n"
     ]
    },
    {
     "name": "stdout",
     "output_type": "stream",
     "text": [
      "Loss: 0.4038691222667694\n",
      "Accuracy: 0.88\n",
      "['ап^ексе', 'зал^япывало', 'г^оночными', 'сп^ектру', 'застр^ачиваюсь', 'бутурл^инских', 'стар^ательнейшие', 'вывор^ачиваются', 'витам^инным', 'тр^онусь', 'похул^ит', 'сах^об', 'электроб^ытовой', 'криминализ^ируюсь', 'рекр^утской', 'г^оши', 'комфорт-кл^асс', 'пустов^атости', 'ваку^умному', 'втрамб^овывающийся', 'изв^озные', 'артикул^ируешься', 'разгрим^ировавший', 'м^ерзко', 'сарм^атов', 'подп^итывавшийся', 'изран^ило', 'муравь^иные', 'усек^ающею', 'алк^аша', 'перепл^атам', 'к^аемочного', 'неш^уточное', 'ашкен^азский', 'сар^аус', 'разоблач^аемом', 'белом^ордыми', 'от^арович', 'каб^олками', 'взим^ающей', 'огруб^ела', 'дав^ыдкину', 'п^озванными', 'запомин^аемом', 'пыл^ит', 'песк^арях', 'тираж^ировалось', 'марцип^ана', 'в^ырезными', 'нал^ичествующими', 'поплю^ю', 'отпр^авившейся', 'шп^ак', 'напис^аю', 'согр^етым', 'крестоцв^етной', 'кривон^огой', 'в^ыученном', 'к^онченом', 'зубор^езные', 'соп^ерничку', 'захорон^ившихся', 'в^ыхаркнем', 'брак^ованном', 'смирн^ешенькою', 'предрожд^ественскую', 'фотос^истему', 'обж^уливавшими', 'ум^алчивавшегося', 'ль^ющуюся', 'зад^ариваю', 'гимал^айскою', 'вытир^авшеюся', 'перес^иживайтесь', 'междом^етные', 'цинанд^али', 'отш^ибленными', 'дельф^инчике', 'концентр^аторов', 'превзойт^и', 'в^ыпотрошенная', 'ск^атывавшиеся', 'якш^аюсь', 'отпеч^енный', 'уступ^аемой', 'многол^икое', 'интис^ар', 'высек^ающем', 'выкар^абкивалось', 'подн^явшему', 'намасл^ит', 'гран^ульных', 'нес^ут', 'нег^аснущем', 'в^ыстрочил', 'п^орск', 'бр^атиков', 'однон^иточную', 'зар^авниваешься', 'перемен^яла']\n"
     ]
    }
   ],
   "source": [
    "print(test_model(albert))"
   ]
  },
  {
   "cell_type": "markdown",
   "metadata": {},
   "source": [
    "## Deberta"
   ]
  },
  {
   "cell_type": "code",
   "execution_count": 24,
   "metadata": {},
   "outputs": [
    {
     "data": {
      "text/plain": [
       "20"
      ]
     },
     "execution_count": 24,
     "metadata": {},
     "output_type": "execute_result"
    }
   ],
   "source": [
    "torch.cuda.empty_cache()\n",
    "gc.collect()"
   ]
  },
  {
   "cell_type": "code",
   "execution_count": 25,
   "metadata": {
    "tags": []
   },
   "outputs": [
    {
     "name": "stderr",
     "output_type": "stream",
     "text": [
      "Some weights of the model checkpoint at microsoft/deberta-base were not used when initializing DebertaForSequenceClassification: ['lm_predictions.lm_head.dense.bias', 'lm_predictions.lm_head.LayerNorm.bias', 'lm_predictions.lm_head.bias', 'lm_predictions.lm_head.dense.weight', 'lm_predictions.lm_head.LayerNorm.weight']\n",
      "- This IS expected if you are initializing DebertaForSequenceClassification from the checkpoint of a model trained on another task or with another architecture (e.g. initializing a BertForSequenceClassification model from a BertForPreTraining model).\n",
      "- This IS NOT expected if you are initializing DebertaForSequenceClassification from the checkpoint of a model that you expect to be exactly identical (initializing a BertForSequenceClassification model from a BertForSequenceClassification model).\n",
      "Some weights of DebertaForSequenceClassification were not initialized from the model checkpoint at microsoft/deberta-base and are newly initialized: ['pooler.dense.weight', 'classifier.weight', 'pooler.dense.bias', 'classifier.bias']\n",
      "You should probably TRAIN this model on a down-stream task to be able to use it for predictions and inference.\n"
     ]
    }
   ],
   "source": [
    "deberta = DebertaForSequenceClassification.from_pretrained(\"microsoft/deberta-base\",\n",
    "    num_labels = max_len, # The number of output labels--2 for binary classification.\n",
    "                    # You can increase this for multi-class tasks.   \n",
    "    output_attentions = False, # Whether the model returns attentions weights.\n",
    "    output_hidden_states = False, # Whether the model returns all hidden-states.\n",
    ")\n",
    "deberta.to(device);"
   ]
  },
  {
   "cell_type": "code",
   "execution_count": 26,
   "metadata": {},
   "outputs": [],
   "source": [
    "deberta_optimizer = AdamW(deberta.parameters(),\n",
    "                  lr = 1e-5, # args.learning_rate - default is 5e-5, our notebook had 2e-5\n",
    "                  eps = 1e-8 # args.adam_epsilon  - default is 1e-8.\n",
    "                )"
   ]
  },
  {
   "cell_type": "code",
   "execution_count": 27,
   "metadata": {},
   "outputs": [],
   "source": [
    "# Total number of training steps is [number of batches] x [number of epochs]. \n",
    "# (Note that this is not the same as the number of training samples).\n",
    "total_steps = len(train_dataloader) * epochs\n",
    "\n",
    "# Create the learning rate scheduler.\n",
    "deberta_scheduler = get_linear_schedule_with_warmup(deberta_optimizer, \n",
    "                                            num_warmup_steps = 0, # Default value in run_glue.py\n",
    "                                            num_training_steps = total_steps)"
   ]
  },
  {
   "cell_type": "code",
   "execution_count": 28,
   "metadata": {},
   "outputs": [
    {
     "name": "stderr",
     "output_type": "stream",
     "text": [
      "100%|██████████| 6563/6563 [57:19<00:00,  1.91it/s, state=train, loss=0.525, mean=0.514]\n",
      "100%|██████████| 6563/6563 [17:04<00:00,  6.41it/s, state=val, loss=0.356, mean=0.455]  \n"
     ]
    },
    {
     "name": "stdout",
     "output_type": "stream",
     "text": [
      "  Accuracy: 0.84\n",
      "  Validation Loss: 0.45\n",
      "  Validation took: 0:17:05\n"
     ]
    },
    {
     "name": "stderr",
     "output_type": "stream",
     "text": [
      "100%|██████████| 6563/6563 [57:54<00:00,  1.89it/s, state=train, loss=0.448, mean=0.39] \n",
      "100%|██████████| 6563/6563 [17:05<00:00,  6.40it/s, state=val, loss=0.235, mean=0.335]  \n"
     ]
    },
    {
     "name": "stdout",
     "output_type": "stream",
     "text": [
      "  Accuracy: 0.88\n",
      "  Validation Loss: 0.33\n",
      "  Validation took: 0:17:06\n"
     ]
    },
    {
     "name": "stderr",
     "output_type": "stream",
     "text": [
      "100%|██████████| 6563/6563 [58:14<00:00,  1.88it/s, state=train, loss=0.406, mean=0.344] \n",
      "100%|██████████| 6563/6563 [17:56<00:00,  6.10it/s, state=val, loss=0.223, mean=0.285]\n"
     ]
    },
    {
     "name": "stdout",
     "output_type": "stream",
     "text": [
      "  Accuracy: 0.89\n",
      "  Validation Loss: 0.29\n",
      "  Validation took: 0:17:56\n"
     ]
    },
    {
     "name": "stderr",
     "output_type": "stream",
     "text": [
      "100%|██████████| 6563/6563 [53:34<00:00,  2.04it/s, state=train, loss=0.301, mean=0.315] \n",
      "100%|██████████| 6563/6563 [15:35<00:00,  7.02it/s, state=val, loss=0.206, mean=0.269] "
     ]
    },
    {
     "name": "stdout",
     "output_type": "stream",
     "text": [
      "  Accuracy: 0.90\n",
      "  Validation Loss: 0.27\n",
      "  Validation took: 0:15:35\n",
      "\n",
      "Training complete!\n"
     ]
    },
    {
     "name": "stderr",
     "output_type": "stream",
     "text": [
      "\n"
     ]
    }
   ],
   "source": [
    "deberta_training_stats = []\n",
    "deberta_losses_train = []\n",
    "deberta_losses_val = []\n",
    "\n",
    "for epoch_i in range(0, epochs):\n",
    "    \n",
    "    # ========================================\n",
    "    #               Training\n",
    "    # ========================================\n",
    "    \n",
    "    # Perform one full pass over the training set.\n",
    "\n",
    "    # print(\"\")\n",
    "    # print('======== Epoch {:} / {:} ========'.format(epoch_i + 1, epochs))\n",
    "    # print('Training...')\n",
    "\n",
    "    # Measure how long the training epoch takes.\n",
    "    t0 = time.time()\n",
    "\n",
    "    # Reset the total loss for this epoch.\n",
    "    total_train_loss = 0\n",
    "\n",
    "    # Put the model into training mode. Don't be mislead--the call to \n",
    "    # `train` just changes the *mode*, it doesn't *perform* the training.\n",
    "    # `dropout` and `batchnorm` layers behave differently during training\n",
    "    # vs. test (source: https://stackoverflow.com/questions/51433378/what-does-model-train-do-in-pytorch)\n",
    "    deberta.train()\n",
    "\n",
    "    # For each batch of training data...\n",
    "    tq = tqdm(train_dataloader)\n",
    "    for step, batch in enumerate(tq):\n",
    "\n",
    "        # Progress update every 40 batches.\n",
    "        if step % 40 == 0 and not step == 0:\n",
    "            # Calculate elapsed time in minutes.\n",
    "            elapsed = format_time(time.time() - t0)\n",
    "            \n",
    "            # Report progress.\n",
    "            # print('  Batch {:>5,}  of  {:>5,}.    Elapsed: {:}.'.format(step, len(train_dataloader), elapsed))\n",
    "\n",
    "        # Unpack this training batch from our dataloader. \n",
    "        #\n",
    "        # As we unpack the batch, we'll also copy each tensor to the GPU using the \n",
    "        # `to` method.\n",
    "        #\n",
    "        # `batch` contains three pytorch tensors:\n",
    "        #   [0]: input ids \n",
    "        #   [1]: attention masks\n",
    "        #   [2]: labels \n",
    "        b_input_ids = batch[0].to(device, non_blocking=True)\n",
    "        b_input_mask = batch[1].to(device, non_blocking=True)\n",
    "        b_labels = batch[2].to(device, non_blocking=True)\n",
    "\n",
    "        # Always clear any previously calculated gradients before performing a\n",
    "        # backward pass. PyTorch doesn't do this automatically because \n",
    "        # accumulating the gradients is \"convenient while training RNNs\". \n",
    "        # (source: https://stackoverflow.com/questions/48001598/why-do-we-need-to-call-zero-grad-in-pytorch)\n",
    "        deberta.zero_grad(set_to_none=True)        \n",
    "\n",
    "        # Perform a forward pass (evaluate the model on this training batch).\n",
    "        # The documentation for this `model` function is here: \n",
    "        # https://huggingface.co/transformers/v2.2.0/model_doc/bert.html#transformers.BertForSequenceClassification\n",
    "        # It returns different numbers of parameters depending on what arguments\n",
    "        # arge given and what flags are set. For our useage here, it returns\n",
    "        # the loss (because we provided labels) and the \"logits\"--the model\n",
    "        # outputs prior to activation.\n",
    "        output = deberta(b_input_ids, \n",
    "                             token_type_ids=None, \n",
    "                             attention_mask=b_input_mask, \n",
    "                             labels=b_labels)\n",
    "\n",
    "        # Accumulate the training loss over all of the batches so that we can\n",
    "        # calculate the average loss at the end. `loss` is a Tensor containing a\n",
    "        # single value; the `.item()` function just returns the Python value \n",
    "        # from the tensor.\n",
    "        total_train_loss += output.loss.item()\n",
    "        deberta_losses_train.append(output.loss.item())\n",
    "        tq.set_postfix({'state':'train',\n",
    "                        'loss':deberta_losses_train[-1],\n",
    "                        'mean':np.mean(deberta_losses_train[-100:])})\n",
    "\n",
    "        # Perform a backward pass to calculate the gradients.\n",
    "        output.loss.backward()\n",
    "\n",
    "        # Clip the norm of the gradients to 1.0.\n",
    "        # This is to help prevent the \"exploding gradients\" problem.\n",
    "        torch.nn.utils.clip_grad_norm_(deberta.parameters(), 1.0)\n",
    "\n",
    "        # Update parameters and take a step using the computed gradient.\n",
    "        # The optimizer dictates the \"update rule\"--how the parameters are\n",
    "        # modified based on their gradients, the learning rate, etc.\n",
    "        deberta_optimizer.step()\n",
    "\n",
    "        # Update the learning rate.\n",
    "        deberta_scheduler.step()\n",
    "\n",
    "    # torch.cuda.empty_cache()\n",
    "    # gc.collect()\n",
    "\n",
    "    # Calculate the average loss over all of the batches.\n",
    "    avg_train_loss = total_train_loss / len(train_dataloader)            \n",
    "    \n",
    "    # Measure how long this epoch took.\n",
    "    training_time = format_time(time.time() - t0)\n",
    "\n",
    "    # print(\"\")\n",
    "    # print(\"  Average training loss: {0:.2f}\".format(avg_train_loss))\n",
    "    # print(\"  Training epcoh took: {:}\".format(training_time))\n",
    "        \n",
    "    # ========================================\n",
    "    #               Validation\n",
    "    # ========================================\n",
    "    # After the completion of each training epoch, measure our performance on\n",
    "    # our validation set.\n",
    "\n",
    "    # print(\"\")\n",
    "    # print(\"Running Validation...\")\n",
    "\n",
    "    t0 = time.time()\n",
    "\n",
    "    # Put the model in evaluation mode--the dropout layers behave differently\n",
    "    # during evaluation.\n",
    "    deberta.eval()\n",
    "\n",
    "    # Tracking variables \n",
    "    total_eval_accuracy = 0\n",
    "    total_eval_loss = 0\n",
    "    nb_eval_steps = 0\n",
    "\n",
    "    # Evaluate data for one epoch\n",
    "    tq = tqdm(validation_dataloader)\n",
    "    for batch in tq:\n",
    "        \n",
    "        # Unpack this training batch from our dataloader. \n",
    "        #\n",
    "        # As we unpack the batch, we'll also copy each tensor to the GPU using \n",
    "        # the `to` method.\n",
    "        #\n",
    "        # `batch` contains three pytorch tensors:\n",
    "        #   [0]: input ids \n",
    "        #   [1]: attention masks\n",
    "        #   [2]: labels \n",
    "        b_input_ids = batch[0].to(device, non_blocking=True)\n",
    "        b_input_mask = batch[1].to(device, non_blocking=True)\n",
    "        b_labels = batch[2].to(device, non_blocking=True)\n",
    "        \n",
    "        # Tell pytorch not to bother with constructing the compute graph during\n",
    "        # the forward pass, since this is only needed for backprop (training).\n",
    "        with torch.no_grad():        \n",
    "\n",
    "            # Forward pass, calculate logit predictions.\n",
    "            # token_type_ids is the same as the \"segment ids\", which \n",
    "            # differentiates sentence 1 and 2 in 2-sentence tasks.\n",
    "            # The documentation for this `model` function is here: \n",
    "            # https://huggingface.co/transformers/v2.2.0/model_doc/bert.html#transformers.BertForSequenceClassification\n",
    "            # Get the \"logits\" output by the model. The \"logits\" are the output\n",
    "            # values prior to applying an activation function like the softmax.\n",
    "            output = deberta(b_input_ids, \n",
    "                                   token_type_ids=None, \n",
    "                                   attention_mask=b_input_mask,\n",
    "                                   labels=b_labels)\n",
    "            \n",
    "        # Accumulate the validation loss.\n",
    "        total_eval_loss += output.loss.item()\n",
    "        deberta_losses_val.append(output.loss.item())\n",
    "        tq.set_postfix({'state':'val',\n",
    "                        'loss':deberta_losses_val[-1],\n",
    "                        'mean':np.mean(deberta_losses_val[-100:])})\n",
    "\n",
    "        # Move logits and labels to CPU\n",
    "        logits = output.logits.detach().cpu().numpy()\n",
    "        label_ids = b_labels.to('cpu').numpy()\n",
    "\n",
    "        # Calculate the accuracy for this batch of test sentences, and\n",
    "        # accumulate it over all batches.\n",
    "        total_eval_accuracy += flat_accuracy(logits, label_ids)\n",
    "        \n",
    "    # torch.cuda.empty_cache()\n",
    "    # gc.collect()\n",
    "\n",
    "    # Report the final accuracy for this validation run.\n",
    "    avg_val_accuracy = total_eval_accuracy / len(validation_dataloader)\n",
    "    print(\"  Accuracy: {0:.2f}\".format(avg_val_accuracy))\n",
    "\n",
    "    # Calculate the average loss over all of the batches.\n",
    "    avg_val_loss = total_eval_loss / len(validation_dataloader)\n",
    "    \n",
    "    # Measure how long the validation run took.\n",
    "    validation_time = format_time(time.time() - t0)\n",
    "    \n",
    "    print(\"  Validation Loss: {0:.2f}\".format(avg_val_loss))\n",
    "    print(\"  Validation took: {:}\".format(validation_time))\n",
    "\n",
    "    # Record all statistics from this epoch.\n",
    "    deberta_training_stats.append(\n",
    "        {\n",
    "            'epoch': epoch_i + 1,\n",
    "            'Training Loss': avg_train_loss,\n",
    "            'Valid. Loss': avg_val_loss,\n",
    "            'Valid. Accur.': avg_val_accuracy,\n",
    "            'Training Time': training_time,\n",
    "            'Validation Time': validation_time\n",
    "        }\n",
    "    )\n",
    "\n",
    "print(\"\")\n",
    "print(\"Training complete!\")\n",
    "\n",
    "# print(\"Total training took {:} (h:mm:ss)\".format(format_time(time.time()-total_t0)))"
   ]
  },
  {
   "cell_type": "code",
   "execution_count": 30,
   "metadata": {},
   "outputs": [
    {
     "data": {
      "image/png": "[encoded data removed]",
      "text/plain": [
       "<Figure size 1600x800 with 2 Axes>"
      ]
     },
     "metadata": {},
     "output_type": "display_data"
    }
   ],
   "source": [
    "deberta_rolling_train = [np.mean(deberta_losses_train[i:i+100]) for i in range(0, len(deberta_losses_train), 100)]\n",
    "deberta_rolling_val = [np.mean(deberta_losses_val[i:i+100]) for i in range(0, len(deberta_losses_val), 100)]\n",
    "plt.figure(figsize=(16,8))\n",
    "plt.subplot(2,1,1)\n",
    "plt.plot(deberta_rolling_train)\n",
    "plt.title('train')\n",
    "plt.subplot(2,1,2)\n",
    "plt.plot(deberta_rolling_val)\n",
    "plt.title('val');"
   ]
  },
  {
   "cell_type": "code",
   "execution_count": 54,
   "metadata": {},
   "outputs": [
    {
     "name": "stderr",
     "output_type": "stream",
     "text": [
      "/home/vvkakurin/.conda/envs/608/lib/python3.9/site-packages/transformers/tokenization_utils_base.py:2354: FutureWarning: The `pad_to_max_length` argument is deprecated and will be removed in a future version, use `padding=True` or `padding='longest'` to pad to the longest sequence in the batch, or use `padding='max_length'` to pad to a max length. In this case, you can give a specific length with `max_length` (e.g. `max_length=45`) or leave max_length to None to pad to the maximal input size of the model (e.g. 512 for Bert).\n",
      "  warnings.warn(\n"
     ]
    },
    {
     "name": "stdout",
     "output_type": "stream",
     "text": [
      "Loss: 0.21440726518630981\n",
      "Accuracy: 0.89\n",
      "['ап^ексе', 'зал^япывало', 'г^оночными', 'сп^ектру', 'застр^ачиваюсь', 'бутурл^инских', 'стар^ательнейшие', 'вывор^ачиваются', 'витам^инным', 'тр^онусь', 'похул^ит', 'с^ахоб', 'электробытов^ой', 'криминализ^ируюсь', 'рекр^утской', 'г^оши', 'комфорт-кл^асс', 'пустов^атости', 'ваку^умному', 'втрамб^овывающийся', 'изв^озные', 'артикул^ируешься', 'разгримиров^авший', 'м^ерзко', 'сарм^атов', 'подп^итывавшийся', 'изран^ило', 'муравь^иные', 'усек^ающею', 'алк^аша', 'перепл^атам', 'к^аемочного', 'неш^уточное', 'ашкен^азский', 'сар^аус', 'разоблач^аемом', 'белом^ордыми', 'от^арович', 'каб^олками', 'взим^ающей', 'огруб^ела', 'дав^ыдкину', 'п^озванными', 'запомин^аемом', 'пыл^ит', 'пескар^ях', 'тираж^ировалось', 'марцип^ана', 'вырезн^ыми', 'нал^ичествующими', 'поплю^ю', 'отпр^авившейся', 'шп^ак', 'напис^аю', 'согр^етым', 'крестоцв^етной', 'кривон^огой', 'в^ыученном', 'к^онченом', 'зубор^езные', 'соп^ерничку', 'захорон^ившихся', 'в^ыхаркнем', 'брак^ованном', 'смирн^ешенькою', 'предрожд^ественскую', 'фотосист^ему', 'обж^уливавшими', 'ум^алчивавшегося', 'ль^ющуюся', 'зад^ариваю', 'гимал^айскою', 'вытир^авшеюся', 'перес^иживайтесь', 'междом^етные', 'цинанд^али', 'отш^ибленными', 'дельф^инчике', 'концентр^аторов', 'превзойт^и', 'в^ыпотрошенная', 'ск^атывавшиеся', 'якш^аюсь', 'отпеч^енный', 'уступ^аемой', 'мног^оликое', 'интис^ар', 'высек^ающем', 'выкар^абкивалось', 'подн^явшему', 'намасл^ит', 'гран^ульных', 'нес^ут', 'нег^аснущем', 'в^ыстрочил', 'п^орск', 'бр^атиков', 'однон^иточную', 'зар^авниваешься', 'перемен^яла']\n"
     ]
    }
   ],
   "source": [
    "print(test_model(deberta))"
   ]
  }
 ],
 "metadata": {
  "accelerator": "GPU",
  "colab": {
   "provenance": []
  },
  "gpuClass": "standard",
  "kernelspec": {
   "display_name": "Python [.conda-608]",
   "language": "python",
   "name": "conda-env-.conda-608-py"
  },
  "language_info": {
   "codemirror_mode": {
    "name": "ipython",
    "version": 3
   },
   "file_extension": ".py",
   "mimetype": "text/x-python",
   "name": "python",
   "nbconvert_exporter": "python",
   "pygments_lexer": "ipython3",
   "version": "3.9.15"
  },
  "widgets": {
   "application/vnd.jupyter.widget-state+json": {
    "state": {},
    "version_major": 2,
    "version_minor": 0
   }
  }
 },
 "nbformat": 4,
 "nbformat_minor": 4
}
