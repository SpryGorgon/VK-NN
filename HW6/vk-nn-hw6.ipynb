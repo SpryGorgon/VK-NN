{
 "cells": [
  {
   "cell_type": "markdown",
   "id": "d0f4d0b5",
   "metadata": {
    "id": "m8WMDhxblX0s",
    "papermill": {
     "duration": 0.02596,
     "end_time": "2023-04-04T22:25:43.619566",
     "exception": false,
     "start_time": "2023-04-04T22:25:43.593606",
     "status": "completed"
    },
    "tags": []
   },
   "source": [
    "# Подготовка"
   ]
  },
  {
   "cell_type": "code",
   "execution_count": 1,
   "id": "ca13bf4c",
   "metadata": {
    "execution": {
     "iopub.execute_input": "2023-04-04T22:25:43.670796Z",
     "iopub.status.busy": "2023-04-04T22:25:43.670292Z",
     "iopub.status.idle": "2023-04-04T22:25:44.667992Z",
     "shell.execute_reply": "2023-04-04T22:25:44.666629Z"
    },
    "id": "8ewUNlkAldt7",
    "outputId": "302975fd-95f4-4f05-8cd2-b098b8dbc835",
    "papermill": {
     "duration": 1.025675,
     "end_time": "2023-04-04T22:25:44.670762",
     "exception": false,
     "start_time": "2023-04-04T22:25:43.645087",
     "status": "completed"
    },
    "tags": []
   },
   "outputs": [
    {
     "name": "stdout",
     "output_type": "stream",
     "text": [
      "__notebook__.ipynb\r\n"
     ]
    }
   ],
   "source": [
    "!ls"
   ]
  },
  {
   "cell_type": "code",
   "execution_count": 2,
   "id": "7451a219",
   "metadata": {
    "execution": {
     "iopub.execute_input": "2023-04-04T22:25:44.722590Z",
     "iopub.status.busy": "2023-04-04T22:25:44.721423Z",
     "iopub.status.idle": "2023-04-04T22:25:55.821646Z",
     "shell.execute_reply": "2023-04-04T22:25:55.820428Z"
    },
    "id": "ARPMxmzklfKb",
    "outputId": "b5b714e6-690c-42a3-ea74-019e56161c63",
    "papermill": {
     "duration": 11.128996,
     "end_time": "2023-04-04T22:25:55.824684",
     "exception": false,
     "start_time": "2023-04-04T22:25:44.695688",
     "status": "completed"
    },
    "tags": []
   },
   "outputs": [
    {
     "name": "stdout",
     "output_type": "stream",
     "text": [
      "Cloning into 'dl-course'...\r\n",
      "remote: Enumerating objects: 210, done.\u001b[K\r\n",
      "remote: Counting objects: 100% (210/210), done.\u001b[K\r\n",
      "remote: Compressing objects: 100% (191/191), done.\u001b[K\r\n",
      "remote: Total 210 (delta 31), reused 113 (delta 6), pack-reused 0\u001b[K\r\n",
      "Receiving objects: 100% (210/210), 62.42 MiB | 20.51 MiB/s, done.\r\n",
      "Resolving deltas: 100% (31/31), done.\r\n"
     ]
    }
   ],
   "source": [
    "!git clone -b seminar_6 https://github.com/AlekseySpasenov/dl-course.git"
   ]
  },
  {
   "cell_type": "code",
   "execution_count": 3,
   "id": "40c086b1",
   "metadata": {
    "execution": {
     "iopub.execute_input": "2023-04-04T22:25:55.880535Z",
     "iopub.status.busy": "2023-04-04T22:25:55.879567Z",
     "iopub.status.idle": "2023-04-04T22:25:55.888221Z",
     "shell.execute_reply": "2023-04-04T22:25:55.886617Z"
    },
    "id": "rlaj2ay4liSR",
    "outputId": "512d0aa0-9d6c-4ef3-a637-4e9f543e67f7",
    "papermill": {
     "duration": 0.038722,
     "end_time": "2023-04-04T22:25:55.890389",
     "exception": false,
     "start_time": "2023-04-04T22:25:55.851667",
     "status": "completed"
    },
    "tags": []
   },
   "outputs": [
    {
     "name": "stdout",
     "output_type": "stream",
     "text": [
      "/kaggle/working/dl-course/2023_spring/lecture6\n"
     ]
    }
   ],
   "source": [
    "%cd ./dl-course/2023_spring/lecture6"
   ]
  },
  {
   "cell_type": "code",
   "execution_count": 4,
   "id": "07a4d684",
   "metadata": {
    "execution": {
     "iopub.execute_input": "2023-04-04T22:25:55.945212Z",
     "iopub.status.busy": "2023-04-04T22:25:55.944916Z",
     "iopub.status.idle": "2023-04-04T22:26:50.278789Z",
     "shell.execute_reply": "2023-04-04T22:26:50.277384Z"
    },
    "id": "WgqLDh9Nlptv",
    "outputId": "45ff3c61-78bb-471e-fcea-a81bf2b27cfb",
    "papermill": {
     "duration": 54.36387,
     "end_time": "2023-04-04T22:26:50.281683",
     "exception": false,
     "start_time": "2023-04-04T22:25:55.917813",
     "status": "completed"
    },
    "tags": []
   },
   "outputs": [
    {
     "name": "stdout",
     "output_type": "stream",
     "text": [
      "--2023-04-04 22:25:56--  https://downloader.disk.yandex.ru/disk/868739035ca6b94b8e905317b871814de608e122accfaaa1faa8d4101602a109/642cb558/_Es8VZKUcDX9pScl2Gn8MM7o0_eecLJSWO_uSeTBRXLNpNgyFu4rNgI6qAGLm4h2yP4KDprpkzHelRMRhJhbKg%3D%3D?uid=0&filename=seminar_objdet_retina_oi5_ball.zip&disposition=attachment&hash=/pQQe9cIZeBQzohR3kl0kTNBjUr%2BPRJmm8direLxFftchvert7vGYAaq9sRqB%2BlKq/J6bpmRyOJonT3VoXnDag%3D%3D&limit=0&content_type=application%2Fzip&owner_uid=16238026&fsize=1074595497&hid=e84d8a05378d0a07a5498e7e0b640dc7&media_type=compressed&tknv=v2\r\n",
      "Resolving downloader.disk.yandex.ru (downloader.disk.yandex.ru)... 77.88.21.127, 2a02:6b8::2:127\r\n",
      "Connecting to downloader.disk.yandex.ru (downloader.disk.yandex.ru)|77.88.21.127|:443... connected.\r\n",
      "HTTP request sent, awaiting response... 302 Found\r\n",
      "Location: https://s742sas.storage.yandex.net/rdisk/868739035ca6b94b8e905317b871814de608e122accfaaa1faa8d4101602a109/642cb558/_Es8VZKUcDX9pScl2Gn8MM7o0_eecLJSWO_uSeTBRXLNpNgyFu4rNgI6qAGLm4h2yP4KDprpkzHelRMRhJhbKg==?uid=0&filename=seminar_objdet_retina_oi5_ball.zip&disposition=attachment&hash=/pQQe9cIZeBQzohR3kl0kTNBjUr%2BPRJmm8direLxFftchvert7vGYAaq9sRqB%2BlKq/J6bpmRyOJonT3VoXnDag%3D%3D&limit=0&content_type=application%2Fzip&owner_uid=16238026&fsize=1074595497&hid=e84d8a05378d0a07a5498e7e0b640dc7&media_type=compressed&tknv=v2&rtoken=lNyPpQu4WqN4&force_default=no&ycrid=na-1b5f223e3e1ece0375c8630d0315e859-downloader17e&ts=5f88b32160600&s=a1c13242402316f400d9f156a51853545a657a6291baaaf7ad824f015e67cae3&pb=U2FsdGVkX18v_dDwmpDXWEwsIGUl29IX-GcpweVOzQBdukWNk2MKzYAbXxqLNXYDU9lfu36DtoMbmL6U0WTA2kvhd0B6hdVL13JcmsFu-w4 [following]\r\n",
      "--2023-04-04 22:25:57--  https://s742sas.storage.yandex.net/rdisk/868739035ca6b94b8e905317b871814de608e122accfaaa1faa8d4101602a109/642cb558/_Es8VZKUcDX9pScl2Gn8MM7o0_eecLJSWO_uSeTBRXLNpNgyFu4rNgI6qAGLm4h2yP4KDprpkzHelRMRhJhbKg==?uid=0&filename=seminar_objdet_retina_oi5_ball.zip&disposition=attachment&hash=/pQQe9cIZeBQzohR3kl0kTNBjUr%2BPRJmm8direLxFftchvert7vGYAaq9sRqB%2BlKq/J6bpmRyOJonT3VoXnDag%3D%3D&limit=0&content_type=application%2Fzip&owner_uid=16238026&fsize=1074595497&hid=e84d8a05378d0a07a5498e7e0b640dc7&media_type=compressed&tknv=v2&rtoken=lNyPpQu4WqN4&force_default=no&ycrid=na-1b5f223e3e1ece0375c8630d0315e859-downloader17e&ts=5f88b32160600&s=a1c13242402316f400d9f156a51853545a657a6291baaaf7ad824f015e67cae3&pb=U2FsdGVkX18v_dDwmpDXWEwsIGUl29IX-GcpweVOzQBdukWNk2MKzYAbXxqLNXYDU9lfu36DtoMbmL6U0WTA2kvhd0B6hdVL13JcmsFu-w4\r\n",
      "Resolving s742sas.storage.yandex.net (s742sas.storage.yandex.net)... 5.255.211.211, 2a02:6b8:c02:f71:0:41af:f960:18b0\r\n",
      "Connecting to s742sas.storage.yandex.net (s742sas.storage.yandex.net)|5.255.211.211|:443... connected.\r\n",
      "HTTP request sent, awaiting response... 200 OK\r\n",
      "Length: 1074595497 (1.0G) [application/zip]\r\n",
      "Saving to: ‘seminar_objdet_retina_oi5_ball.zip’\r\n",
      "\r\n",
      "seminar_objdet_reti 100%[===================>]   1.00G  20.8MB/s    in 52s     \r\n",
      "\r\n",
      "2023-04-04 22:26:50 (19.8 MB/s) - ‘seminar_objdet_retina_oi5_ball.zip’ saved [1074595497/1074595497]\r\n",
      "\r\n"
     ]
    }
   ],
   "source": [
    "path = \"https://downloader.disk.yandex.ru/disk/868739035ca6b94b8e905317b871814de608e122accfaaa1faa8d4101602a109/642cb558/_Es8VZKUcDX9pScl2Gn8MM7o0_eecLJSWO_uSeTBRXLNpNgyFu4rNgI6qAGLm4h2yP4KDprpkzHelRMRhJhbKg%3D%3D?uid=0&filename=seminar_objdet_retina_oi5_ball.zip&disposition=attachment&hash=/pQQe9cIZeBQzohR3kl0kTNBjUr%2BPRJmm8direLxFftchvert7vGYAaq9sRqB%2BlKq/J6bpmRyOJonT3VoXnDag%3D%3D&limit=0&content_type=application%2Fzip&owner_uid=16238026&fsize=1074595497&hid=e84d8a05378d0a07a5498e7e0b640dc7&media_type=compressed&tknv=v2\"\n",
    "!wget '{path}' -O seminar_objdet_retina_oi5_ball.zip"
   ]
  },
  {
   "cell_type": "code",
   "execution_count": 5,
   "id": "09eb875b",
   "metadata": {
    "execution": {
     "iopub.execute_input": "2023-04-04T22:26:50.373748Z",
     "iopub.status.busy": "2023-04-04T22:26:50.372566Z",
     "iopub.status.idle": "2023-04-04T22:27:00.993665Z",
     "shell.execute_reply": "2023-04-04T22:27:00.992000Z"
    },
    "id": "NKF0RPtElX0v",
    "papermill": {
     "duration": 10.66424,
     "end_time": "2023-04-04T22:27:00.997165",
     "exception": false,
     "start_time": "2023-04-04T22:26:50.332925",
     "status": "completed"
    },
    "tags": []
   },
   "outputs": [],
   "source": [
    "!unzip -q seminar_objdet_retina_oi5_ball.zip -d seminar_objdet_retina_oi5_ball"
   ]
  },
  {
   "cell_type": "code",
   "execution_count": 6,
   "id": "1a451741",
   "metadata": {
    "execution": {
     "iopub.execute_input": "2023-04-04T22:27:01.125923Z",
     "iopub.status.busy": "2023-04-04T22:27:01.124811Z",
     "iopub.status.idle": "2023-04-04T22:27:02.281591Z",
     "shell.execute_reply": "2023-04-04T22:27:02.280022Z"
    },
    "id": "larx8-bFl5bv",
    "outputId": "18780728-4632-4512-d1f4-d6b48fb54122",
    "papermill": {
     "duration": 1.222694,
     "end_time": "2023-04-04T22:27:02.284220",
     "exception": false,
     "start_time": "2023-04-04T22:27:01.061526",
     "status": "completed"
    },
    "tags": []
   },
   "outputs": [
    {
     "name": "stdout",
     "output_type": "stream",
     "text": [
      "README.md\t  retinanet\t\t\t      workshop.ipynb\r\n",
      "dataset.py\t  seminar_objdet_retina_oi5_ball      workshop_completed.ipynb\r\n",
      "images\t\t  seminar_objdet_retina_oi5_ball.zip\r\n",
      "requirements.txt  visualization.py\r\n"
     ]
    }
   ],
   "source": [
    "!ls"
   ]
  },
  {
   "cell_type": "code",
   "execution_count": 7,
   "id": "24c1f200",
   "metadata": {
    "execution": {
     "iopub.execute_input": "2023-04-04T22:27:02.365162Z",
     "iopub.status.busy": "2023-04-04T22:27:02.364777Z",
     "iopub.status.idle": "2023-04-04T22:27:37.555904Z",
     "shell.execute_reply": "2023-04-04T22:27:37.554696Z"
    },
    "id": "2KN3-zS1lX0y",
    "outputId": "d5d8c29c-24fd-46d4-a324-dd5aae18f6d2",
    "papermill": {
     "duration": 35.233775,
     "end_time": "2023-04-04T22:27:37.558701",
     "exception": false,
     "start_time": "2023-04-04T22:27:02.324926",
     "status": "completed"
    },
    "tags": []
   },
   "outputs": [
    {
     "name": "stdout",
     "output_type": "stream",
     "text": [
      "Requirement already satisfied: torch in /opt/conda/lib/python3.7/site-packages (from -r requirements.txt (line 1)) (1.13.0)\r\n",
      "Requirement already satisfied: torchvision in /opt/conda/lib/python3.7/site-packages (from -r requirements.txt (line 2)) (0.14.0)\r\n",
      "Requirement already satisfied: seaborn in /opt/conda/lib/python3.7/site-packages (from -r requirements.txt (line 3)) (0.12.2)\r\n",
      "Requirement already satisfied: numpy in /opt/conda/lib/python3.7/site-packages (from -r requirements.txt (line 4)) (1.21.6)\r\n",
      "Requirement already satisfied: opencv-python in /opt/conda/lib/python3.7/site-packages (from -r requirements.txt (line 5)) (4.5.4.60)\r\n",
      "Requirement already satisfied: tqdm in /opt/conda/lib/python3.7/site-packages (from -r requirements.txt (line 6)) (4.64.1)\r\n",
      "Requirement already satisfied: Pillow in /opt/conda/lib/python3.7/site-packages (from -r requirements.txt (line 7)) (9.4.0)\r\n",
      "Collecting pycocotools\r\n",
      "  Downloading pycocotools-2.0.6.tar.gz (24 kB)\r\n",
      "  Installing build dependencies ... \u001b[?25l-\b \b\\\b \b|\b \b/\b \b-\b \b\\\b \b|\b \b/\b \bdone\r\n",
      "\u001b[?25h  Getting requirements to build wheel ... \u001b[?25l-\b \bdone\r\n",
      "\u001b[?25h  Preparing metadata (pyproject.toml) ... \u001b[?25l-\b \bdone\r\n",
      "\u001b[?25hRequirement already satisfied: scikit-image in /opt/conda/lib/python3.7/site-packages (from -r requirements.txt (line 9)) (0.19.3)\r\n",
      "Collecting mean_average_precision\r\n",
      "  Downloading mean_average_precision-2021.4.26.0-py3-none-any.whl (14 kB)\r\n",
      "Requirement already satisfied: typing-extensions in /opt/conda/lib/python3.7/site-packages (from torch->-r requirements.txt (line 1)) (4.4.0)\r\n",
      "Requirement already satisfied: requests in /opt/conda/lib/python3.7/site-packages (from torchvision->-r requirements.txt (line 2)) (2.28.2)\r\n",
      "Requirement already satisfied: matplotlib!=3.6.1,>=3.1 in /opt/conda/lib/python3.7/site-packages (from seaborn->-r requirements.txt (line 3)) (3.5.3)\r\n",
      "Requirement already satisfied: pandas>=0.25 in /opt/conda/lib/python3.7/site-packages (from seaborn->-r requirements.txt (line 3)) (1.3.5)\r\n",
      "Requirement already satisfied: imageio>=2.4.1 in /opt/conda/lib/python3.7/site-packages (from scikit-image->-r requirements.txt (line 9)) (2.25.0)\r\n",
      "Requirement already satisfied: networkx>=2.2 in /opt/conda/lib/python3.7/site-packages (from scikit-image->-r requirements.txt (line 9)) (2.6.3)\r\n",
      "Requirement already satisfied: PyWavelets>=1.1.1 in /opt/conda/lib/python3.7/site-packages (from scikit-image->-r requirements.txt (line 9)) (1.3.0)\r\n",
      "Requirement already satisfied: packaging>=20.0 in /opt/conda/lib/python3.7/site-packages (from scikit-image->-r requirements.txt (line 9)) (23.0)\r\n",
      "Requirement already satisfied: tifffile>=2019.7.26 in /opt/conda/lib/python3.7/site-packages (from scikit-image->-r requirements.txt (line 9)) (2021.11.2)\r\n",
      "Requirement already satisfied: scipy>=1.4.1 in /opt/conda/lib/python3.7/site-packages (from scikit-image->-r requirements.txt (line 9)) (1.7.3)\r\n",
      "Requirement already satisfied: kiwisolver>=1.0.1 in /opt/conda/lib/python3.7/site-packages (from matplotlib!=3.6.1,>=3.1->seaborn->-r requirements.txt (line 3)) (1.4.4)\r\n",
      "Requirement already satisfied: cycler>=0.10 in /opt/conda/lib/python3.7/site-packages (from matplotlib!=3.6.1,>=3.1->seaborn->-r requirements.txt (line 3)) (0.11.0)\r\n",
      "Requirement already satisfied: fonttools>=4.22.0 in /opt/conda/lib/python3.7/site-packages (from matplotlib!=3.6.1,>=3.1->seaborn->-r requirements.txt (line 3)) (4.38.0)\r\n",
      "Requirement already satisfied: python-dateutil>=2.7 in /opt/conda/lib/python3.7/site-packages (from matplotlib!=3.6.1,>=3.1->seaborn->-r requirements.txt (line 3)) (2.8.2)\r\n",
      "Requirement already satisfied: pyparsing>=2.2.1 in /opt/conda/lib/python3.7/site-packages (from matplotlib!=3.6.1,>=3.1->seaborn->-r requirements.txt (line 3)) (3.0.9)\r\n",
      "Requirement already satisfied: pytz>=2017.3 in /opt/conda/lib/python3.7/site-packages (from pandas>=0.25->seaborn->-r requirements.txt (line 3)) (2023.2)\r\n",
      "Requirement already satisfied: urllib3<1.27,>=1.21.1 in /opt/conda/lib/python3.7/site-packages (from requests->torchvision->-r requirements.txt (line 2)) (1.26.14)\r\n",
      "Requirement already satisfied: idna<4,>=2.5 in /opt/conda/lib/python3.7/site-packages (from requests->torchvision->-r requirements.txt (line 2)) (3.4)\r\n",
      "Requirement already satisfied: certifi>=2017.4.17 in /opt/conda/lib/python3.7/site-packages (from requests->torchvision->-r requirements.txt (line 2)) (2022.12.7)\r\n",
      "Requirement already satisfied: charset-normalizer<4,>=2 in /opt/conda/lib/python3.7/site-packages (from requests->torchvision->-r requirements.txt (line 2)) (2.1.1)\r\n",
      "Requirement already satisfied: six>=1.5 in /opt/conda/lib/python3.7/site-packages (from python-dateutil>=2.7->matplotlib!=3.6.1,>=3.1->seaborn->-r requirements.txt (line 3)) (1.16.0)\r\n",
      "Building wheels for collected packages: pycocotools\r\n",
      "  Building wheel for pycocotools (pyproject.toml) ... \u001b[?25l-\b \b\\\b \b|\b \b/\b \b-\b \b\\\b \b|\b \bdone\r\n",
      "\u001b[?25h  Created wheel for pycocotools: filename=pycocotools-2.0.6-cp37-cp37m-linux_x86_64.whl size=373914 sha256=53c96cb7a9722f0d495e6e1b6347fb88be4ada23691f4ff041170971fb5d4284\r\n",
      "  Stored in directory: /root/.cache/pip/wheels/d0/90/d4/e9ae0a3cdbd8e0cddf6b5fe8c31774fb9bd0ae4e9754fb2314\r\n",
      "Successfully built pycocotools\r\n",
      "Installing collected packages: pycocotools, mean_average_precision\r\n",
      "Successfully installed mean_average_precision-2021.4.26.0 pycocotools-2.0.6\r\n",
      "\u001b[33mWARNING: Running pip as the 'root' user can result in broken permissions and conflicting behaviour with the system package manager. It is recommended to use a virtual environment instead: https://pip.pypa.io/warnings/venv\u001b[0m\u001b[33m\r\n",
      "\u001b[0m"
     ]
    }
   ],
   "source": [
    "!pip install -r requirements.txt"
   ]
  },
  {
   "cell_type": "code",
   "execution_count": 8,
   "id": "a280c791",
   "metadata": {
    "execution": {
     "iopub.execute_input": "2023-04-04T22:27:37.642434Z",
     "iopub.status.busy": "2023-04-04T22:27:37.641373Z",
     "iopub.status.idle": "2023-04-04T22:27:41.348039Z",
     "shell.execute_reply": "2023-04-04T22:27:41.346854Z"
    },
    "id": "xdMXpQ6ElX0y",
    "outputId": "7bc8fa82-6ad9-40d3-b3ef-f23758da5113",
    "papermill": {
     "duration": 3.751781,
     "end_time": "2023-04-04T22:27:41.350997",
     "exception": false,
     "start_time": "2023-04-04T22:27:37.599216",
     "status": "completed"
    },
    "tags": []
   },
   "outputs": [
    {
     "name": "stdout",
     "output_type": "stream",
     "text": [
      "Device is: cuda\n"
     ]
    }
   ],
   "source": [
    "import os\n",
    "import sys\n",
    "import cv2\n",
    "import json\n",
    "import matplotlib.pyplot as plt\n",
    "\n",
    "import numpy as np\n",
    "import torch\n",
    "from torch import nn\n",
    "from torchvision.transforms.functional import to_tensor, normalize\n",
    "\n",
    "device = \"cuda\" if torch.cuda.is_available() else \"cpu\"\n",
    "print(\"Device is:\", device)\n",
    "\n",
    "\n",
    "from visualization import show_image, draw_predictions"
   ]
  },
  {
   "cell_type": "markdown",
   "id": "075f9ccb",
   "metadata": {
    "id": "Sf-UJPHxlX0y",
    "papermill": {
     "duration": 0.039944,
     "end_time": "2023-04-04T22:27:41.432517",
     "exception": false,
     "start_time": "2023-04-04T22:27:41.392573",
     "status": "completed"
    },
    "tags": []
   },
   "source": [
    "Подгрузим тестовое изображение и сделаем из него батч размера 1. Это пригодится нам для демонстрации работы отдельных компонентов модели."
   ]
  },
  {
   "cell_type": "code",
   "execution_count": 9,
   "id": "f5efd9d1",
   "metadata": {
    "execution": {
     "iopub.execute_input": "2023-04-04T22:27:41.514723Z",
     "iopub.status.busy": "2023-04-04T22:27:41.513415Z",
     "iopub.status.idle": "2023-04-04T22:27:41.520207Z",
     "shell.execute_reply": "2023-04-04T22:27:41.519252Z"
    },
    "id": "gZsBSVJUlX0y",
    "papermill": {
     "duration": 0.049972,
     "end_time": "2023-04-04T22:27:41.522355",
     "exception": false,
     "start_time": "2023-04-04T22:27:41.472383",
     "status": "completed"
    },
    "tags": []
   },
   "outputs": [],
   "source": [
    "def make_tensor(image, device=None):\n",
    "    tensor = to_tensor(image).unsqueeze(0)\n",
    "    tensor = normalize(tensor,\n",
    "                       mean=(0.485, 0.456, 0.406),\n",
    "                       std=(0.229, 0.224, 0.225))\n",
    "    if device:\n",
    "        tensor = tensor.to(device)\n",
    "    return tensor"
   ]
  },
  {
   "cell_type": "code",
   "execution_count": 10,
   "id": "f7eac366",
   "metadata": {
    "execution": {
     "iopub.execute_input": "2023-04-04T22:27:41.604490Z",
     "iopub.status.busy": "2023-04-04T22:27:41.602863Z",
     "iopub.status.idle": "2023-04-04T22:27:45.140082Z",
     "shell.execute_reply": "2023-04-04T22:27:45.138987Z"
    },
    "id": "uiPphwzKlX0z",
    "outputId": "796b640c-9b08-45cb-dd78-399e8cafbe87",
    "papermill": {
     "duration": 3.580581,
     "end_time": "2023-04-04T22:27:45.142627",
     "exception": false,
     "start_time": "2023-04-04T22:27:41.562046",
     "status": "completed"
    },
    "tags": []
   },
   "outputs": [],
   "source": [
    "%%capture\n",
    "image_example = cv2.imread(\"images/zoo.jpg\")\n",
    "\n",
    "\n",
    "image_example = cv2.cvtColor(image_example, cv2.COLOR_BGR2RGB)\n",
    "print(\"Image shape\", image_example.shape)\n",
    "\n",
    "tensor_example = make_tensor(image_example, device)\n",
    "print(\"Tensor size\", tensor_example.size())\n",
    "\n",
    "show_image(image_example)"
   ]
  },
  {
   "cell_type": "markdown",
   "id": "1aabf052",
   "metadata": {
    "id": "QzFaQ4A1lX0z",
    "papermill": {
     "duration": 0.040335,
     "end_time": "2023-04-04T22:27:45.224661",
     "exception": false,
     "start_time": "2023-04-04T22:27:45.184326",
     "status": "completed"
    },
    "tags": []
   },
   "source": [
    "---"
   ]
  },
  {
   "cell_type": "markdown",
   "id": "726c9ed2",
   "metadata": {
    "id": "FZtJe4KRlX0z",
    "papermill": {
     "duration": 0.040747,
     "end_time": "2023-04-04T22:27:45.305262",
     "exception": false,
     "start_time": "2023-04-04T22:27:45.264515",
     "status": "completed"
    },
    "tags": []
   },
   "source": [
    "Поскольку модель имеет несколько отдельных модулей, реализуем их и положим в один композиционный класс:\n",
    "\n",
    "- `RetinaNet`\n",
    "  - `.backbone` - нейросеть для извлечения признаков; модифицированный `ResNet`, возвращающий карты активаций (вместо логитов);\n",
    "  - `.fpn` - нейросеть для построения пирамиды признаков из выходов `.backbone`;\n",
    "  - `.anchor_generator` - класс для построения наборов \"якорных\" боксов (anchors), на основе которых будет производится поиск объектов;\n",
    "  - `.cls_head` - нейросеть для классификации каждого из anchor boxes;\n",
    "  - `.reg_head` - нейросеть для регрессии уточняющих коэффициентов координат каждого из anchor boxes;\n",
    "  - `.focal_loss` - реализация лосс-функции (да, ее можно поместить прямо в модель)."
   ]
  },
  {
   "cell_type": "markdown",
   "id": "62e69c26",
   "metadata": {
    "id": "2LPGRhcnlX0z",
    "papermill": {
     "duration": 0.040089,
     "end_time": "2023-04-04T22:27:45.385438",
     "exception": false,
     "start_time": "2023-04-04T22:27:45.345349",
     "status": "completed"
    },
    "tags": []
   },
   "source": [
    "---"
   ]
  },
  {
   "cell_type": "markdown",
   "id": "70192a18",
   "metadata": {
    "id": "c_4aAZi3lX00",
    "papermill": {
     "duration": 0.039926,
     "end_time": "2023-04-04T22:27:45.465625",
     "exception": false,
     "start_time": "2023-04-04T22:27:45.425699",
     "status": "completed"
    },
    "tags": []
   },
   "source": [
    "#### Backbone: Модифицированный ResNet"
   ]
  },
  {
   "cell_type": "markdown",
   "id": "aba684c0",
   "metadata": {
    "id": "SfG203d_lX00",
    "papermill": {
     "duration": 0.041428,
     "end_time": "2023-04-04T22:27:45.548569",
     "exception": false,
     "start_time": "2023-04-04T22:27:45.507141",
     "status": "completed"
    },
    "tags": []
   },
   "source": [
    "ResNet - семейство архитектур, у которого главная вычислительная единица - это т.н. residual-block:\n",
    "\n",
    "![residuals](https://github.com/POTATOCHKA/temp_repo/blob/main/images/residual.png?raw=1)"
   ]
  },
  {
   "cell_type": "markdown",
   "id": "0d90e70d",
   "metadata": {
    "id": "HeT8goY-lX00",
    "papermill": {
     "duration": 0.041938,
     "end_time": "2023-04-04T22:27:45.630782",
     "exception": false,
     "start_time": "2023-04-04T22:27:45.588844",
     "status": "completed"
    },
    "tags": []
   },
   "source": [
    "Модели `ResNet-*` состоят из блоков, объединенных в четыре слоя (`layerX`); между слоями происходит 1) понижение размерности HW и 2) увеличение \"ширины\" блоков (число каналов в картах).\n",
    "\n",
    "**NB: картинка ниже - для сети ResNet-34, в которой используются \"простые\" all-3x3 residual-блоки, как на картинке выше слева. В ResNet-50 используются `bottleneck`-блоки (соответственно сверху справа).\n",
    "Число слоев у этих моделей одинаковое (а вот число блоков в слоях и их ширина отличаются).**\n",
    "\n",
    "![resnet34](https://github.com/POTATOCHKA/temp_repo/blob/main/images/resnet34.png?raw=1)\n",
    "\n",
    "Обычно (для задач типа классификации или регрессии) на выходе модели оказывается вектор (размера `C` = числу классов или 1 - для регрессии).\n",
    "Но для задачи детектирования понадобятся промежуточные карты активаций, на основе который будет построена пирамида. \n",
    "На рисунке выше указаны карты `C3`, `C4` и `C5` - их и должен вернуть метод `.forward` нашей базовой сети."
   ]
  },
  {
   "cell_type": "markdown",
   "id": "bbb24c3d",
   "metadata": {
    "id": "vhjgt2a3lX00",
    "papermill": {
     "duration": 0.04044,
     "end_time": "2023-04-04T22:27:45.712355",
     "exception": false,
     "start_time": "2023-04-04T22:27:45.671915",
     "status": "completed"
    },
    "tags": []
   },
   "source": [
    "**Задание**: реализовать метод `.forward()`, который должен возвращать карты активаций после слоев `layer2`, `layer3`, `layer4` в виде списка/кортежа."
   ]
  },
  {
   "cell_type": "code",
   "execution_count": 11,
   "id": "1ab34c02",
   "metadata": {
    "execution": {
     "iopub.execute_input": "2023-04-04T22:27:45.794619Z",
     "iopub.status.busy": "2023-04-04T22:27:45.794224Z",
     "iopub.status.idle": "2023-04-04T22:27:45.811710Z",
     "shell.execute_reply": "2023-04-04T22:27:45.810732Z"
    },
    "id": "3DwvMeeblX00",
    "papermill": {
     "duration": 0.061805,
     "end_time": "2023-04-04T22:27:45.814111",
     "exception": false,
     "start_time": "2023-04-04T22:27:45.752306",
     "status": "completed"
    },
    "tags": []
   },
   "outputs": [],
   "source": [
    "from retinanet.utils import BasicBlock, Bottleneck  # See code\n",
    "\n",
    "class ResNet(nn.Module):\n",
    "\n",
    "    def __init__(self, num_classes, block, layers_sizes):\n",
    "        \"\"\"\n",
    "        ResNet constructor.\n",
    "        \n",
    "        Args:\n",
    "            - num_classes: int number of outputs for model.\n",
    "            - block: class to use as residual block in model (BasicBlock or Bottleneck).\n",
    "            - layers_sizes: list of sizes (number of blocks) for each of the 4 layers.\n",
    "        \"\"\"\n",
    "        self.inplanes = 64\n",
    "        super(ResNet, self).__init__()\n",
    "        \n",
    "        # Input convolution: larger (7x7) and with increased stride (2).\n",
    "        self.conv1 = nn.Conv2d(3, 64, kernel_size=7, stride=2, padding=3, bias=False)\n",
    "        self.bn1 = nn.BatchNorm2d(64)\n",
    "        self.relu = nn.ReLU(inplace=True)\n",
    "        self.maxpool = nn.MaxPool2d(kernel_size=3, stride=2, padding=1)\n",
    "        \n",
    "        # Four layers with residual blocks. Each layer has similar structure\n",
    "        self.layer1 = self._make_layer(block, 64, layers_sizes[0])\n",
    "        self.layer2 = self._make_layer(block, 128, layers_sizes[1], stride=2)\n",
    "        self.layer3 = self._make_layer(block, 256, layers_sizes[2], stride=2)\n",
    "        self.layer4 = self._make_layer(block, 512, layers_sizes[3], stride=2)\n",
    "        \n",
    "    def _make_layer(self, block, planes, num_blocks, stride=1):\n",
    "        \"\"\"\n",
    "        Method to create layer for ResNet using residual blocks.\n",
    "        \n",
    "        Args:\n",
    "            - block: class to use as residual block in model (BasicBlock or Bottleneck).\n",
    "            - planes: number of channels in layer's activation maps (also known as layer 'width').\n",
    "            - num_blocks: number of blocks in layer.\n",
    "            \n",
    "        Returns:\n",
    "            nn.Sequential object containing residual blocks.\n",
    "        \"\"\"\n",
    "        downsample = None\n",
    "        if stride != 1 or self.inplanes != planes * block.expansion:\n",
    "            downsample = nn.Sequential(\n",
    "                nn.Conv2d(self.inplanes, planes * block.expansion,\n",
    "                          kernel_size=1, stride=stride, bias=False),\n",
    "                nn.BatchNorm2d(planes * block.expansion),\n",
    "            )\n",
    "\n",
    "        layers = [block(self.inplanes, planes, stride, downsample)]\n",
    "        self.inplanes = planes * block.expansion\n",
    "        for i in range(1, num_blocks):\n",
    "            layers.append(block(self.inplanes, planes))\n",
    "\n",
    "        return nn.Sequential(*layers)\n",
    "    \n",
    "    def forward(self, inputs):\n",
    "        \"\"\"\n",
    "        Method for \"__call__\".\n",
    "        \n",
    "        Args:\n",
    "            - inputs: batch of images shaped Bx3xHxW.\n",
    "            \n",
    "        Returns:\n",
    "            List of feature maps tensors from layers 2, 3, 4.\n",
    "        \"\"\"\n",
    "        \n",
    "        # TODO: \n",
    "        # Write code to run all the model layers (do not forget to run input convolution/bn/activation/pooling) \n",
    "        # and to return feature maps from layer2, layer3, layer4.\n",
    "        \n",
    "        ### YOUR CODE HERE\n",
    "        x = self.conv1(inputs)\n",
    "        x = self.bn1(x)\n",
    "        x = self.relu(x)\n",
    "        x = self.maxpool(x)\n",
    "        \n",
    "        x1 = self.layer1(x)\n",
    "        x2 = self.layer2(x1)\n",
    "        x3 = self.layer3(x2)\n",
    "        x4 = self.layer4(x3)\n",
    "        \n",
    "        ### END OF YOUR CODE\n",
    "        \n",
    "        return (x2, x3, x4)"
   ]
  },
  {
   "cell_type": "code",
   "execution_count": 12,
   "id": "5b11c262",
   "metadata": {
    "execution": {
     "iopub.execute_input": "2023-04-04T22:27:45.895267Z",
     "iopub.status.busy": "2023-04-04T22:27:45.894983Z",
     "iopub.status.idle": "2023-04-04T22:27:46.199936Z",
     "shell.execute_reply": "2023-04-04T22:27:46.198611Z"
    },
    "id": "cdk4TBeQlX01",
    "outputId": "aab3bd32-8252-4dd7-b1a1-103ffe980707",
    "papermill": {
     "duration": 0.350223,
     "end_time": "2023-04-04T22:27:46.204723",
     "exception": false,
     "start_time": "2023-04-04T22:27:45.854500",
     "status": "completed"
    },
    "tags": []
   },
   "outputs": [
    {
     "name": "stdout",
     "output_type": "stream",
     "text": [
      "ResNet50:\n",
      "ResNet(\n",
      "  (conv1): Conv2d(3, 64, kernel_size=(7, 7), stride=(2, 2), padding=(3, 3), bias=False)\n",
      "  (bn1): BatchNorm2d(64, eps=1e-05, momentum=0.1, affine=True, track_running_stats=True)\n",
      "  (relu): ReLU(inplace=True)\n",
      "  (maxpool): MaxPool2d(kernel_size=3, stride=2, padding=1, dilation=1, ceil_mode=False)\n",
      "  (layer1): Sequential(\n",
      "    (0): Bottleneck(\n",
      "      (conv1): Conv2d(64, 64, kernel_size=(1, 1), stride=(1, 1), bias=False)\n",
      "      (bn1): BatchNorm2d(64, eps=1e-05, momentum=0.1, affine=True, track_running_stats=True)\n",
      "      (conv2): Conv2d(64, 64, kernel_size=(3, 3), stride=(1, 1), padding=(1, 1), bias=False)\n",
      "      (bn2): BatchNorm2d(64, eps=1e-05, momentum=0.1, affine=True, track_running_stats=True)\n",
      "      (conv3): Conv2d(64, 256, kernel_size=(1, 1), stride=(1, 1), bias=False)\n",
      "      (bn3): BatchNorm2d(256, eps=1e-05, momentum=0.1, affine=True, track_running_stats=True)\n",
      "      (relu): ReLU(inplace=True)\n",
      "      (downsample): Sequential(\n",
      "        (0): Conv2d(64, 256, kernel_size=(1, 1), stride=(1, 1), bias=False)\n",
      "        (1): BatchNorm2d(256, eps=1e-05, momentum=0.1, affine=True, track_running_stats=True)\n",
      "      )\n",
      "    )\n",
      "    (1): Bottleneck(\n",
      "      (conv1): Conv2d(256, 64, kernel_size=(1, 1), stride=(1, 1), bias=False)\n",
      "      (bn1): BatchNorm2d(64, eps=1e-05, momentum=0.1, affine=True, track_running_stats=True)\n",
      "      (conv2): Conv2d(64, 64, kernel_size=(3, 3), stride=(1, 1), padding=(1, 1), bias=False)\n",
      "      (bn2): BatchNorm2d(64, eps=1e-05, momentum=0.1, affine=True, track_running_stats=True)\n",
      "      (conv3): Conv2d(64, 256, kernel_size=(1, 1), stride=(1, 1), bias=False)\n",
      "      (bn3): BatchNorm2d(256, eps=1e-05, momentum=0.1, affine=True, track_running_stats=True)\n",
      "      (relu): ReLU(inplace=True)\n",
      "    )\n",
      "    (2): Bottleneck(\n",
      "      (conv1): Conv2d(256, 64, kernel_size=(1, 1), stride=(1, 1), bias=False)\n",
      "      (bn1): BatchNorm2d(64, eps=1e-05, momentum=0.1, affine=True, track_running_stats=True)\n",
      "      (conv2): Conv2d(64, 64, kernel_size=(3, 3), stride=(1, 1), padding=(1, 1), bias=False)\n",
      "      (bn2): BatchNorm2d(64, eps=1e-05, momentum=0.1, affine=True, track_running_stats=True)\n",
      "      (conv3): Conv2d(64, 256, kernel_size=(1, 1), stride=(1, 1), bias=False)\n",
      "      (bn3): BatchNorm2d(256, eps=1e-05, momentum=0.1, affine=True, track_running_stats=True)\n",
      "      (relu): ReLU(inplace=True)\n",
      "    )\n",
      "  )\n",
      "  (layer2): Sequential(\n",
      "    (0): Bottleneck(\n",
      "      (conv1): Conv2d(256, 128, kernel_size=(1, 1), stride=(1, 1), bias=False)\n",
      "      (bn1): BatchNorm2d(128, eps=1e-05, momentum=0.1, affine=True, track_running_stats=True)\n",
      "      (conv2): Conv2d(128, 128, kernel_size=(3, 3), stride=(2, 2), padding=(1, 1), bias=False)\n",
      "      (bn2): BatchNorm2d(128, eps=1e-05, momentum=0.1, affine=True, track_running_stats=True)\n",
      "      (conv3): Conv2d(128, 512, kernel_size=(1, 1), stride=(1, 1), bias=False)\n",
      "      (bn3): BatchNorm2d(512, eps=1e-05, momentum=0.1, affine=True, track_running_stats=True)\n",
      "      (relu): ReLU(inplace=True)\n",
      "      (downsample): Sequential(\n",
      "        (0): Conv2d(256, 512, kernel_size=(1, 1), stride=(2, 2), bias=False)\n",
      "        (1): BatchNorm2d(512, eps=1e-05, momentum=0.1, affine=True, track_running_stats=True)\n",
      "      )\n",
      "    )\n",
      "    (1): Bottleneck(\n",
      "      (conv1): Conv2d(512, 128, kernel_size=(1, 1), stride=(1, 1), bias=False)\n",
      "      (bn1): BatchNorm2d(128, eps=1e-05, momentum=0.1, affine=True, track_running_stats=True)\n",
      "      (conv2): Conv2d(128, 128, kernel_size=(3, 3), stride=(1, 1), padding=(1, 1), bias=False)\n",
      "      (bn2): BatchNorm2d(128, eps=1e-05, momentum=0.1, affine=True, track_running_stats=True)\n",
      "      (conv3): Conv2d(128, 512, kernel_size=(1, 1), stride=(1, 1), bias=False)\n",
      "      (bn3): BatchNorm2d(512, eps=1e-05, momentum=0.1, affine=True, track_running_stats=True)\n",
      "      (relu): ReLU(inplace=True)\n",
      "    )\n",
      "    (2): Bottleneck(\n",
      "      (conv1): Conv2d(512, 128, kernel_size=(1, 1), stride=(1, 1), bias=False)\n",
      "      (bn1): BatchNorm2d(128, eps=1e-05, momentum=0.1, affine=True, track_running_stats=True)\n",
      "      (conv2): Conv2d(128, 128, kernel_size=(3, 3), stride=(1, 1), padding=(1, 1), bias=False)\n",
      "      (bn2): BatchNorm2d(128, eps=1e-05, momentum=0.1, affine=True, track_running_stats=True)\n",
      "      (conv3): Conv2d(128, 512, kernel_size=(1, 1), stride=(1, 1), bias=False)\n",
      "      (bn3): BatchNorm2d(512, eps=1e-05, momentum=0.1, affine=True, track_running_stats=True)\n",
      "      (relu): ReLU(inplace=True)\n",
      "    )\n",
      "    (3): Bottleneck(\n",
      "      (conv1): Conv2d(512, 128, kernel_size=(1, 1), stride=(1, 1), bias=False)\n",
      "      (bn1): BatchNorm2d(128, eps=1e-05, momentum=0.1, affine=True, track_running_stats=True)\n",
      "      (conv2): Conv2d(128, 128, kernel_size=(3, 3), stride=(1, 1), padding=(1, 1), bias=False)\n",
      "      (bn2): BatchNorm2d(128, eps=1e-05, momentum=0.1, affine=True, track_running_stats=True)\n",
      "      (conv3): Conv2d(128, 512, kernel_size=(1, 1), stride=(1, 1), bias=False)\n",
      "      (bn3): BatchNorm2d(512, eps=1e-05, momentum=0.1, affine=True, track_running_stats=True)\n",
      "      (relu): ReLU(inplace=True)\n",
      "    )\n",
      "  )\n",
      "  (layer3): Sequential(\n",
      "    (0): Bottleneck(\n",
      "      (conv1): Conv2d(512, 256, kernel_size=(1, 1), stride=(1, 1), bias=False)\n",
      "      (bn1): BatchNorm2d(256, eps=1e-05, momentum=0.1, affine=True, track_running_stats=True)\n",
      "      (conv2): Conv2d(256, 256, kernel_size=(3, 3), stride=(2, 2), padding=(1, 1), bias=False)\n",
      "      (bn2): BatchNorm2d(256, eps=1e-05, momentum=0.1, affine=True, track_running_stats=True)\n",
      "      (conv3): Conv2d(256, 1024, kernel_size=(1, 1), stride=(1, 1), bias=False)\n",
      "      (bn3): BatchNorm2d(1024, eps=1e-05, momentum=0.1, affine=True, track_running_stats=True)\n",
      "      (relu): ReLU(inplace=True)\n",
      "      (downsample): Sequential(\n",
      "        (0): Conv2d(512, 1024, kernel_size=(1, 1), stride=(2, 2), bias=False)\n",
      "        (1): BatchNorm2d(1024, eps=1e-05, momentum=0.1, affine=True, track_running_stats=True)\n",
      "      )\n",
      "    )\n",
      "    (1): Bottleneck(\n",
      "      (conv1): Conv2d(1024, 256, kernel_size=(1, 1), stride=(1, 1), bias=False)\n",
      "      (bn1): BatchNorm2d(256, eps=1e-05, momentum=0.1, affine=True, track_running_stats=True)\n",
      "      (conv2): Conv2d(256, 256, kernel_size=(3, 3), stride=(1, 1), padding=(1, 1), bias=False)\n",
      "      (bn2): BatchNorm2d(256, eps=1e-05, momentum=0.1, affine=True, track_running_stats=True)\n",
      "      (conv3): Conv2d(256, 1024, kernel_size=(1, 1), stride=(1, 1), bias=False)\n",
      "      (bn3): BatchNorm2d(1024, eps=1e-05, momentum=0.1, affine=True, track_running_stats=True)\n",
      "      (relu): ReLU(inplace=True)\n",
      "    )\n",
      "    (2): Bottleneck(\n",
      "      (conv1): Conv2d(1024, 256, kernel_size=(1, 1), stride=(1, 1), bias=False)\n",
      "      (bn1): BatchNorm2d(256, eps=1e-05, momentum=0.1, affine=True, track_running_stats=True)\n",
      "      (conv2): Conv2d(256, 256, kernel_size=(3, 3), stride=(1, 1), padding=(1, 1), bias=False)\n",
      "      (bn2): BatchNorm2d(256, eps=1e-05, momentum=0.1, affine=True, track_running_stats=True)\n",
      "      (conv3): Conv2d(256, 1024, kernel_size=(1, 1), stride=(1, 1), bias=False)\n",
      "      (bn3): BatchNorm2d(1024, eps=1e-05, momentum=0.1, affine=True, track_running_stats=True)\n",
      "      (relu): ReLU(inplace=True)\n",
      "    )\n",
      "    (3): Bottleneck(\n",
      "      (conv1): Conv2d(1024, 256, kernel_size=(1, 1), stride=(1, 1), bias=False)\n",
      "      (bn1): BatchNorm2d(256, eps=1e-05, momentum=0.1, affine=True, track_running_stats=True)\n",
      "      (conv2): Conv2d(256, 256, kernel_size=(3, 3), stride=(1, 1), padding=(1, 1), bias=False)\n",
      "      (bn2): BatchNorm2d(256, eps=1e-05, momentum=0.1, affine=True, track_running_stats=True)\n",
      "      (conv3): Conv2d(256, 1024, kernel_size=(1, 1), stride=(1, 1), bias=False)\n",
      "      (bn3): BatchNorm2d(1024, eps=1e-05, momentum=0.1, affine=True, track_running_stats=True)\n",
      "      (relu): ReLU(inplace=True)\n",
      "    )\n",
      "    (4): Bottleneck(\n",
      "      (conv1): Conv2d(1024, 256, kernel_size=(1, 1), stride=(1, 1), bias=False)\n",
      "      (bn1): BatchNorm2d(256, eps=1e-05, momentum=0.1, affine=True, track_running_stats=True)\n",
      "      (conv2): Conv2d(256, 256, kernel_size=(3, 3), stride=(1, 1), padding=(1, 1), bias=False)\n",
      "      (bn2): BatchNorm2d(256, eps=1e-05, momentum=0.1, affine=True, track_running_stats=True)\n",
      "      (conv3): Conv2d(256, 1024, kernel_size=(1, 1), stride=(1, 1), bias=False)\n",
      "      (bn3): BatchNorm2d(1024, eps=1e-05, momentum=0.1, affine=True, track_running_stats=True)\n",
      "      (relu): ReLU(inplace=True)\n",
      "    )\n",
      "    (5): Bottleneck(\n",
      "      (conv1): Conv2d(1024, 256, kernel_size=(1, 1), stride=(1, 1), bias=False)\n",
      "      (bn1): BatchNorm2d(256, eps=1e-05, momentum=0.1, affine=True, track_running_stats=True)\n",
      "      (conv2): Conv2d(256, 256, kernel_size=(3, 3), stride=(1, 1), padding=(1, 1), bias=False)\n",
      "      (bn2): BatchNorm2d(256, eps=1e-05, momentum=0.1, affine=True, track_running_stats=True)\n",
      "      (conv3): Conv2d(256, 1024, kernel_size=(1, 1), stride=(1, 1), bias=False)\n",
      "      (bn3): BatchNorm2d(1024, eps=1e-05, momentum=0.1, affine=True, track_running_stats=True)\n",
      "      (relu): ReLU(inplace=True)\n",
      "    )\n",
      "  )\n",
      "  (layer4): Sequential(\n",
      "    (0): Bottleneck(\n",
      "      (conv1): Conv2d(1024, 512, kernel_size=(1, 1), stride=(1, 1), bias=False)\n",
      "      (bn1): BatchNorm2d(512, eps=1e-05, momentum=0.1, affine=True, track_running_stats=True)\n",
      "      (conv2): Conv2d(512, 512, kernel_size=(3, 3), stride=(2, 2), padding=(1, 1), bias=False)\n",
      "      (bn2): BatchNorm2d(512, eps=1e-05, momentum=0.1, affine=True, track_running_stats=True)\n",
      "      (conv3): Conv2d(512, 2048, kernel_size=(1, 1), stride=(1, 1), bias=False)\n",
      "      (bn3): BatchNorm2d(2048, eps=1e-05, momentum=0.1, affine=True, track_running_stats=True)\n",
      "      (relu): ReLU(inplace=True)\n",
      "      (downsample): Sequential(\n",
      "        (0): Conv2d(1024, 2048, kernel_size=(1, 1), stride=(2, 2), bias=False)\n",
      "        (1): BatchNorm2d(2048, eps=1e-05, momentum=0.1, affine=True, track_running_stats=True)\n",
      "      )\n",
      "    )\n",
      "    (1): Bottleneck(\n",
      "      (conv1): Conv2d(2048, 512, kernel_size=(1, 1), stride=(1, 1), bias=False)\n",
      "      (bn1): BatchNorm2d(512, eps=1e-05, momentum=0.1, affine=True, track_running_stats=True)\n",
      "      (conv2): Conv2d(512, 512, kernel_size=(3, 3), stride=(1, 1), padding=(1, 1), bias=False)\n",
      "      (bn2): BatchNorm2d(512, eps=1e-05, momentum=0.1, affine=True, track_running_stats=True)\n",
      "      (conv3): Conv2d(512, 2048, kernel_size=(1, 1), stride=(1, 1), bias=False)\n",
      "      (bn3): BatchNorm2d(2048, eps=1e-05, momentum=0.1, affine=True, track_running_stats=True)\n",
      "      (relu): ReLU(inplace=True)\n",
      "    )\n",
      "    (2): Bottleneck(\n",
      "      (conv1): Conv2d(2048, 512, kernel_size=(1, 1), stride=(1, 1), bias=False)\n",
      "      (bn1): BatchNorm2d(512, eps=1e-05, momentum=0.1, affine=True, track_running_stats=True)\n",
      "      (conv2): Conv2d(512, 512, kernel_size=(3, 3), stride=(1, 1), padding=(1, 1), bias=False)\n",
      "      (bn2): BatchNorm2d(512, eps=1e-05, momentum=0.1, affine=True, track_running_stats=True)\n",
      "      (conv3): Conv2d(512, 2048, kernel_size=(1, 1), stride=(1, 1), bias=False)\n",
      "      (bn3): BatchNorm2d(2048, eps=1e-05, momentum=0.1, affine=True, track_running_stats=True)\n",
      "      (relu): ReLU(inplace=True)\n",
      "    )\n",
      "  )\n",
      ")\n"
     ]
    }
   ],
   "source": [
    "num_classes = 80\n",
    "\n",
    "print(\"ResNet50:\")\n",
    "resnet50_layers_sizes = [3, 4, 6, 3]      \n",
    "resnet50 = ResNet(num_classes=num_classes, block=Bottleneck, layers_sizes=resnet50_layers_sizes).to(device)\n",
    "\n",
    "print(resnet50)"
   ]
  },
  {
   "cell_type": "code",
   "execution_count": 13,
   "id": "4239a19e",
   "metadata": {
    "execution": {
     "iopub.execute_input": "2023-04-04T22:27:46.287206Z",
     "iopub.status.busy": "2023-04-04T22:27:46.286866Z",
     "iopub.status.idle": "2023-04-04T22:27:48.994573Z",
     "shell.execute_reply": "2023-04-04T22:27:48.993170Z"
    },
    "id": "jViKFI6FlX01",
    "outputId": "219db404-d606-4315-c47d-40e756f8788c",
    "papermill": {
     "duration": 2.751038,
     "end_time": "2023-04-04T22:27:48.996898",
     "exception": false,
     "start_time": "2023-04-04T22:27:46.245860",
     "status": "completed"
    },
    "tags": []
   },
   "outputs": [
    {
     "name": "stdout",
     "output_type": "stream",
     "text": [
      "Feature maps sizes from layer2-4 of ResNet50:\n",
      "torch.Size([1, 512, 68, 100])\n",
      "torch.Size([1, 1024, 34, 50])\n",
      "torch.Size([1, 2048, 17, 25])\n"
     ]
    }
   ],
   "source": [
    "print(\"Feature maps sizes from layer2-4 of ResNet50:\")\n",
    "feature_maps_example = resnet50(tensor_example)\n",
    "for fm in feature_maps_example:\n",
    "    print(fm.size())"
   ]
  },
  {
   "cell_type": "markdown",
   "id": "75e99597",
   "metadata": {
    "id": "_nRS1kO3lX01",
    "papermill": {
     "duration": 0.042809,
     "end_time": "2023-04-04T22:27:49.082958",
     "exception": false,
     "start_time": "2023-04-04T22:27:49.040149",
     "status": "completed"
    },
    "tags": []
   },
   "source": [
    "---"
   ]
  },
  {
   "cell_type": "markdown",
   "id": "968b1ffb",
   "metadata": {
    "id": "mVngtTSGlX01",
    "papermill": {
     "duration": 0.042852,
     "end_time": "2023-04-04T22:27:49.170032",
     "exception": false,
     "start_time": "2023-04-04T22:27:49.127180",
     "status": "completed"
    },
    "tags": []
   },
   "source": [
    "#### Feature Pyramid: собираем пирамиду активаций"
   ]
  },
  {
   "cell_type": "markdown",
   "id": "95f806b4",
   "metadata": {
    "id": "CQt2E4UolX01",
    "papermill": {
     "duration": 0.041387,
     "end_time": "2023-04-04T22:27:49.253757",
     "exception": false,
     "start_time": "2023-04-04T22:27:49.212370",
     "status": "completed"
    },
    "tags": []
   },
   "source": [
    "Теперь перейдем к модулю, который сделает из последовательности карт активаций пирамиду.\n",
    "\n",
    "Идея `Feature Pyramid` в том, чтобы, скомбинировав карты с разных слоев основной сети (`backbone`), получить карты одновременно \"семантически богатые\" и с большим рецептивным полем.\n",
    "\n",
    "![fpn](https://github.com/POTATOCHKA/temp_repo/blob/main/images/fpn.png?raw=1)\n",
    "\n",
    "На рисунке выше изображена пирамида из 3 уровней. Авторы [оригинальной статьи](https://arxiv.org/pdf/1708.02002.pdf) указывают (примечание на стр.4), что в их пирамиде 5 слоев, которые обозначаются от $P_3$ до $P_7$. При этом соответствие слоев пирамиды картам активации такое: $C_3 - P_3$, $C_4 - P_4$, $C_5 - P_5$, а два дополнительных слоя пирамиды $P_6$ и $P_7$ получаются последовательно свертками из $P_5$ (уже без сложения с низкоуровневыми картами)\n",
    "\n",
    "Каждая из карт $C_i$ ($C_5$ - $C_3$):\n",
    "1. Сворачивается с ядром 1х1, получается $C'_i$\n",
    "2. Суммируется с выходной картой выше $C'_{i+1}$ (нет у $C_5$), увеличенной вдвое, и после свертки с ядром 3х3 отправляется на выход ($P_i$)."
   ]
  },
  {
   "cell_type": "markdown",
   "id": "241e00ae",
   "metadata": {
    "id": "YeSGJSpUlX01",
    "papermill": {
     "duration": 0.041957,
     "end_time": "2023-04-04T22:27:49.337481",
     "exception": false,
     "start_time": "2023-04-04T22:27:49.295524",
     "status": "completed"
    },
    "tags": []
   },
   "source": [
    "**Задание**: реализовать кусок метода `.forward()` для вычисления `P3` (по аналогии с `P5` & `P4`)."
   ]
  },
  {
   "cell_type": "code",
   "execution_count": 14,
   "id": "27159f36",
   "metadata": {
    "execution": {
     "iopub.execute_input": "2023-04-04T22:27:49.420639Z",
     "iopub.status.busy": "2023-04-04T22:27:49.420264Z",
     "iopub.status.idle": "2023-04-04T22:27:49.433432Z",
     "shell.execute_reply": "2023-04-04T22:27:49.432355Z"
    },
    "id": "ApX0Si2FlX02",
    "papermill": {
     "duration": 0.057293,
     "end_time": "2023-04-04T22:27:49.435772",
     "exception": false,
     "start_time": "2023-04-04T22:27:49.378479",
     "status": "completed"
    },
    "tags": []
   },
   "outputs": [],
   "source": [
    "class PyramidFeatures(nn.Module):\n",
    "    \n",
    "    def __init__(self, C3_size, C4_size, C5_size, feature_size=256):\n",
    "        \"\"\"\n",
    "        FPN constructor.\n",
    "        \n",
    "        Args:\n",
    "            - C3_size: num features in C3 map.\n",
    "            - C4_size: num features in C4 map.\n",
    "            - C5_size: num features in C5 map.\n",
    "            - feature_size: num features in output maps.\n",
    "        \"\"\"\n",
    "        super(PyramidFeatures, self).__init__()\n",
    "\n",
    "        # For P5\n",
    "        self.P5_1 = nn.Conv2d(C5_size, feature_size, kernel_size=1, stride=1, padding=0)\n",
    "        self.P5_upsampled = nn.Upsample(scale_factor=2, mode='nearest')\n",
    "        self.P5_2 = nn.Conv2d(feature_size, feature_size, kernel_size=3, stride=1, padding=1)\n",
    "\n",
    "        # For P4\n",
    "        self.P4_1 = nn.Conv2d(C4_size, feature_size, kernel_size=1, stride=1, padding=0)\n",
    "        self.P4_upsampled = nn.Upsample(scale_factor=2, mode='nearest')\n",
    "        self.P4_2 = nn.Conv2d(feature_size, feature_size, kernel_size=3, stride=1, padding=1)\n",
    "\n",
    "        # For P3\n",
    "        self.P3_1 = nn.Conv2d(C3_size, feature_size, kernel_size=1, stride=1, padding=0)\n",
    "        self.P3_2 = nn.Conv2d(feature_size, feature_size, kernel_size=3, stride=1, padding=1)\n",
    "        \n",
    "        # For P6 \n",
    "        # \"P6 is obtained via a 3x3 stride-2 conv on C5\"\n",
    "        self.P6 = nn.Conv2d(C5_size, feature_size, kernel_size=3, stride=2, padding=1)\n",
    "\n",
    "        # For P7\n",
    "        # \"P7 is computed by applying ReLU followed by a 3x3 stride-2 conv on P6\"\n",
    "        self.P7_1 = nn.ReLU()\n",
    "        self.P7_2 = nn.Conv2d(feature_size, feature_size, kernel_size=3, stride=2, padding=1)\n",
    "\n",
    "    def forward(self, inputs):\n",
    "        \"\"\"\n",
    "        Method for \"__call__\".\n",
    "        \n",
    "        Args:\n",
    "            - inputs: List of C3, C4, C5 activation maps from backbone.\n",
    "            \n",
    "        Returns:\n",
    "            List of pyramid feature maps from P3 to P7.\n",
    "        \"\"\"\n",
    "        C3, C4, C5 = inputs\n",
    "\n",
    "        P5_x = self.P5_1(C5)\n",
    "        P5_upsampled_x = self.P5_upsampled(P5_x)\n",
    "        P5_x = self.P5_2(P5_x)\n",
    "\n",
    "        P4_x = self.P4_1(C4)\n",
    "        P4_x = P5_upsampled_x + P4_x\n",
    "        P4_upsampled_x = self.P4_upsampled(P4_x)\n",
    "        P4_x = self.P4_2(P4_x)\n",
    "        \n",
    "        # TODO: \n",
    "        # Write code to compute P3_x output map.\n",
    "        # Almost like P4_x & P5_x, but no need for upsampling itself\n",
    "        # (as we do not have 'lower' map P2)\n",
    "        \n",
    "        # YOUR CODE HERE\n",
    "        P3_x = self.P3_1(C3)\n",
    "        P3_x = P4_upsampled_x + P3_x\n",
    "        P3_x = self.P3_2(P3_x)\n",
    "        # END OF YOUR CODE\n",
    "        \n",
    "        P6_x = self.P6(C5)\n",
    "\n",
    "        P7_x = self.P7_1(P6_x)\n",
    "        P7_x = self.P7_2(P7_x)\n",
    "\n",
    "        return (P3_x, P4_x, P5_x, P6_x, P7_x)"
   ]
  },
  {
   "cell_type": "code",
   "execution_count": 15,
   "id": "2c9eb3aa",
   "metadata": {
    "execution": {
     "iopub.execute_input": "2023-04-04T22:27:49.518035Z",
     "iopub.status.busy": "2023-04-04T22:27:49.517188Z",
     "iopub.status.idle": "2023-04-04T22:27:49.623024Z",
     "shell.execute_reply": "2023-04-04T22:27:49.621527Z"
    },
    "id": "6OvG-xVRlX02",
    "outputId": "097539cd-d39a-4676-c8d2-02a86dc4c7b2",
    "papermill": {
     "duration": 0.149304,
     "end_time": "2023-04-04T22:27:49.625410",
     "exception": false,
     "start_time": "2023-04-04T22:27:49.476106",
     "status": "completed"
    },
    "tags": []
   },
   "outputs": [
    {
     "name": "stdout",
     "output_type": "stream",
     "text": [
      "Feature pyramid sizes:\n",
      "torch.Size([1, 256, 68, 100])\n",
      "torch.Size([1, 256, 34, 50])\n",
      "torch.Size([1, 256, 17, 25])\n",
      "torch.Size([1, 256, 9, 13])\n",
      "torch.Size([1, 256, 5, 7])\n"
     ]
    }
   ],
   "source": [
    "fpn_sizes = (512, 1024, 2048)  # ResNet50\n",
    "fpn = PyramidFeatures(*fpn_sizes).to(device)\n",
    "\n",
    "print(\"Feature pyramid sizes:\")\n",
    "features_pyramid_example = fpn(feature_maps_example)\n",
    "for fp in features_pyramid_example:\n",
    "    print(fp.size())"
   ]
  },
  {
   "cell_type": "markdown",
   "id": "49f0f0cd",
   "metadata": {
    "id": "NgRnlczElX03",
    "papermill": {
     "duration": 0.040579,
     "end_time": "2023-04-04T22:27:49.707169",
     "exception": false,
     "start_time": "2023-04-04T22:27:49.666590",
     "status": "completed"
    },
    "tags": []
   },
   "source": [
    "Обратим внимание:\n",
    "* У первого слоя (который мы называем $P_3$) линейные размеры в 8 = $2^3$ раз меньше, чем у оригинального изображения.\n",
    "* На каждом слое пирамиды линейные размеры уменьшаются вдвое.\n",
    "\n",
    "То есть размеры слоя $P_i$ меньше размеров исходного изображения в $2^i$ раз."
   ]
  },
  {
   "cell_type": "markdown",
   "id": "3b348772",
   "metadata": {
    "id": "V923P1DFlX03",
    "papermill": {
     "duration": 0.04025,
     "end_time": "2023-04-04T22:27:49.788418",
     "exception": false,
     "start_time": "2023-04-04T22:27:49.748168",
     "status": "completed"
    },
    "tags": []
   },
   "source": [
    "---"
   ]
  },
  {
   "cell_type": "markdown",
   "id": "401b7ac5",
   "metadata": {
    "id": "TihtTx-jlX03",
    "papermill": {
     "duration": 0.041768,
     "end_time": "2023-04-04T22:27:49.871012",
     "exception": false,
     "start_time": "2023-04-04T22:27:49.829244",
     "status": "completed"
    },
    "tags": []
   },
   "source": [
    "На данный момент у нас есть инструменты для извлечения карт признаков из изображения. \n",
    "\n",
    "Теперь, если бы мы работали в парадигме, например, `Fast R-CNN` (не надо так), мы бы запустили на этих признаках алгоритм `SelectiveSearch`, получили координаты предполагаемых локаций с объектами (в виде обрамляющих прямоугольников), \"вырезали\" их проекции из каждого слоя пирамиды признаков и подали в подсети для определения классов и регрессии относительных координат.\n",
    "\n",
    "Но, поскольку мы работаем в парадигме single-shot-детектирования, мы сделаем все за один проход. \n",
    "С каждым супер-пикселем любого из слоев пирамиды (супер-пиксель - это одна точка (x, y) на карте признаков) мы ассоциируем некоторую область на исходном изображении, и для каждой такой области назначим набор т.н. `proposals`, то есть предполагаемых обрамляющих прямоугольников, лежащих в этой области.\n",
    "\n",
    "![subnet2](https://github.com/POTATOCHKA/temp_repo/blob/main/images/subnet_receptive_2.jpeg?raw=1) ![subnet](https://github.com/POTATOCHKA/temp_repo/blob/main/images/subnet_receptive.jpeg?raw=1)\n"
   ]
  },
  {
   "cell_type": "markdown",
   "id": "f8430401",
   "metadata": {
    "id": "l9BiA6SSlX04",
    "papermill": {
     "duration": 0.040687,
     "end_time": "2023-04-04T22:27:49.952785",
     "exception": false,
     "start_time": "2023-04-04T22:27:49.912098",
     "status": "completed"
    },
    "tags": []
   },
   "source": [
    "Эти наборы нужны для того, чтобы связать суперпиксели активационных карт с ground-truth объектами при обучении. "
   ]
  },
  {
   "cell_type": "markdown",
   "id": "2a9b0342",
   "metadata": {
    "id": "LLHldO-KlX04",
    "papermill": {
     "duration": 0.042367,
     "end_time": "2023-04-04T22:27:50.037202",
     "exception": false,
     "start_time": "2023-04-04T22:27:49.994835",
     "status": "completed"
    },
    "tags": []
   },
   "source": [
    "---"
   ]
  },
  {
   "cell_type": "markdown",
   "id": "233d240c",
   "metadata": {
    "id": "ugFOrgaqlX04",
    "papermill": {
     "duration": 0.04201,
     "end_time": "2023-04-04T22:27:50.121839",
     "exception": false,
     "start_time": "2023-04-04T22:27:50.079829",
     "status": "completed"
    },
    "tags": []
   },
   "source": [
    "#### Anchors generator\n",
    "\n",
    "В качестве основы для набора `proposals` возьмем три прямоугольника: \"горизонтальный\" (соотношение сторон H:W = 1:2, в коде - `ratio`), \"квадрат\" (H:W = 1:2) и \"вертикальный\" (H:W = 2:1).\n",
    "\n",
    "Если кроме 3 вариантов соотношения сторон взять 3 варианта для масштаба, получим набор из 9 прямоугольников. \n",
    "\n",
    "![1](https://github.com/POTATOCHKA/temp_repo/blob/main/images/proposals.png?raw=1)\n",
    "\n",
    "\n",
    "После того, как зафиксирован набор `proposals` для одного супер-пикселя, нужно отобразить все прямоугольники (для всех супер-пикселей на всех уровнях пирамиды) на исходное изображение, чтобы связать их с ground-truth прямоугольниками объектов."
   ]
  },
  {
   "cell_type": "markdown",
   "id": "10df9be7",
   "metadata": {
    "id": "Yn2O_y9wlX04",
    "papermill": {
     "duration": 0.042504,
     "end_time": "2023-04-04T22:27:50.205844",
     "exception": false,
     "start_time": "2023-04-04T22:27:50.163340",
     "status": "completed"
    },
    "tags": []
   },
   "source": [
    "Класс `AnchorsGenerator` нужен затем, чтобы сгенерировать наборы `proposals` для всех слоев, раскидать их по сетке и спроецировать на исходное изображение.\n",
    "\n",
    "**NB: Конкретные положения прямоугольников зависят как от гипер-параметров генератора, так и от размеров изображения!**"
   ]
  },
  {
   "cell_type": "code",
   "execution_count": 16,
   "id": "13ffa6f1",
   "metadata": {
    "execution": {
     "iopub.execute_input": "2023-04-04T22:27:50.291302Z",
     "iopub.status.busy": "2023-04-04T22:27:50.290836Z",
     "iopub.status.idle": "2023-04-04T22:27:50.313400Z",
     "shell.execute_reply": "2023-04-04T22:27:50.311423Z"
    },
    "id": "sARx_GiElX04",
    "papermill": {
     "duration": 0.06917,
     "end_time": "2023-04-04T22:27:50.317855",
     "exception": false,
     "start_time": "2023-04-04T22:27:50.248685",
     "status": "completed"
    },
    "tags": []
   },
   "outputs": [],
   "source": [
    "from retinanet.anchors import generate_anchors, shift \n",
    "\n",
    "\n",
    "class AnchorsGenerator(nn.Module):\n",
    "    \n",
    "    def __init__(self, pyramid_levels=None, strides=None, sizes=None, ratios=None, scales=None, device=None):\n",
    "        \"\"\"\n",
    "        AnchorGenerator constructor.\n",
    "        \n",
    "        Args:\n",
    "            - pyramid_levels: list of log_2(image_width / pyramid_level_width) for every pyramid level.\n",
    "            - strides: list of step sizes for sliding each anchor box set for every pyramid level.\n",
    "            - sizes: list of basic sizes for anchor boxes for every pyramid level.\n",
    "            - ratios: list of anchor boxes aspect ratio sets for every pyramid level.\n",
    "            - scales: list of anchor boxes scale sets for every pyramid level.\n",
    "            - device: device to move results to.\n",
    "        \"\"\"\n",
    "        super(AnchorsGenerator, self).__init__()\n",
    "\n",
    "        if pyramid_levels is None:\n",
    "            self.pyramid_levels = [3, 4, 5, 6, 7]\n",
    "        if strides is None:\n",
    "            self.strides = [2 ** x for x in self.pyramid_levels]\n",
    "        if sizes is None:\n",
    "            self.sizes = [2 ** (x + 2) for x in self.pyramid_levels]\n",
    "        if ratios is None:\n",
    "            self.ratios = np.array([0.5, 1, 2])\n",
    "        if scales is None:\n",
    "            self.scales = np.array([2 ** 0, 2 ** (1.0 / 3.0), 2 ** (2.0 / 3.0)])\n",
    "\n",
    "        if device is None:\n",
    "            device = torch.cuda.is_available() and 'cuda' or 'cpu'\n",
    "        self.device = device\n",
    "\n",
    "    def forward(self, image, verbose=False):\n",
    "        \"\"\"\n",
    "        Method for \"__call__\".\n",
    "        \n",
    "        Args:\n",
    "            - image: tensor of shape B x C x H x W.\n",
    "            \n",
    "        Returns:\n",
    "            tensor of computed anchor box coordinatates, size total_num_anchors x 4.\n",
    "        \"\"\"\n",
    "        image_shape = image.shape[2:]  # h, w\n",
    "        image_shape = np.array(image_shape)\n",
    "        image_shapes = [(image_shape + 2 ** x - 1) // (2 ** x) for x in self.pyramid_levels]\n",
    "\n",
    "        # Compute anchors over all pyramid levels\n",
    "        \n",
    "        all_anchors = np.zeros((0, 4)).astype(np.float32)\n",
    "\n",
    "        for idx, p in enumerate(self.pyramid_levels):\n",
    "            \n",
    "            # Generate 9 anchors\n",
    "            anchors = generate_anchors(base_size=self.sizes[idx], ratios=self.ratios, scales=self.scales)\n",
    "            \n",
    "            # Grid all over the shape with stride\n",
    "            shifted_anchors = shift(image_shapes[idx], self.strides[idx], anchors)\n",
    "            \n",
    "            if verbose:\n",
    "                print(f\"{idx}\\tpyr_level = {p}\\tstride = {self.strides[idx]:3d}\\tsize={self.sizes[idx]:3d}\\tanchors shape = {shifted_anchors.shape}\")\n",
    "            \n",
    "            all_anchors = np.append(all_anchors, shifted_anchors, axis=0)\n",
    "\n",
    "        all_anchors = np.expand_dims(all_anchors, axis=0)\n",
    "\n",
    "        return torch.from_numpy(all_anchors.astype(np.float32)).to(self.device)"
   ]
  },
  {
   "cell_type": "code",
   "execution_count": 17,
   "id": "923eea83",
   "metadata": {
    "execution": {
     "iopub.execute_input": "2023-04-04T22:27:50.401515Z",
     "iopub.status.busy": "2023-04-04T22:27:50.401123Z",
     "iopub.status.idle": "2023-04-04T22:27:50.416179Z",
     "shell.execute_reply": "2023-04-04T22:27:50.414748Z"
    },
    "id": "31O3q9WUlX05",
    "outputId": "a88e1726-5246-4a29-a10d-0fa8a949b3a2",
    "papermill": {
     "duration": 0.059254,
     "end_time": "2023-04-04T22:27:50.418411",
     "exception": false,
     "start_time": "2023-04-04T22:27:50.359157",
     "status": "completed"
    },
    "tags": []
   },
   "outputs": [
    {
     "name": "stdout",
     "output_type": "stream",
     "text": [
      "0\tpyr_level = 3\tstride =   8\tsize= 32\tanchors shape = (61200, 4)\n",
      "1\tpyr_level = 4\tstride =  16\tsize= 64\tanchors shape = (15300, 4)\n",
      "2\tpyr_level = 5\tstride =  32\tsize=128\tanchors shape = (3825, 4)\n",
      "3\tpyr_level = 6\tstride =  64\tsize=256\tanchors shape = (1053, 4)\n",
      "4\tpyr_level = 7\tstride = 128\tsize=512\tanchors shape = (315, 4)\n",
      "\n",
      "torch.Size([81693, 4])\n"
     ]
    }
   ],
   "source": [
    "anchors_generator = AnchorsGenerator(device=device)\n",
    "\n",
    "anchors_example = anchors_generator(tensor_example, verbose=True)[0].cpu()\n",
    "print()\n",
    "print(anchors_example.size())"
   ]
  },
  {
   "cell_type": "markdown",
   "id": "e4bf226c",
   "metadata": {
    "id": "pg_yQIUylX05",
    "papermill": {
     "duration": 0.040584,
     "end_time": "2023-04-04T22:27:50.500118",
     "exception": false,
     "start_time": "2023-04-04T22:27:50.459534",
     "status": "completed"
    },
    "tags": []
   },
   "source": [
    "Получили общее число `proposals`, каждый из которых задается четырьмя числами - x1, y1, x2, y2.\n",
    "\n",
    "Отрисуем по несколько полученных прямоугольников с каждого слоя на исходном изображении."
   ]
  },
  {
   "cell_type": "code",
   "execution_count": 18,
   "id": "e7a02c96",
   "metadata": {
    "execution": {
     "iopub.execute_input": "2023-04-04T22:27:50.584621Z",
     "iopub.status.busy": "2023-04-04T22:27:50.583496Z",
     "iopub.status.idle": "2023-04-04T22:27:52.542978Z",
     "shell.execute_reply": "2023-04-04T22:27:52.541832Z"
    },
    "id": "6tpHMTaolX05",
    "outputId": "6839c642-59a4-4e0a-dd78-3bbb72266f93",
    "papermill": {
     "duration": 2.00488,
     "end_time": "2023-04-04T22:27:52.545950",
     "exception": false,
     "start_time": "2023-04-04T22:27:50.541070",
     "status": "completed"
    },
    "tags": []
   },
   "outputs": [],
   "source": [
    "%%capture\n",
    "anchors_num_per_level = [61200, 15300, 3825, 1053, 315]\n",
    "anchors_per_level = np.split(anchors_example, np.cumsum(anchors_num_per_level)[:-1])\n",
    "\n",
    "num_to_show = 32\n",
    "for anchor_boxes_level in anchors_per_level:\n",
    "    image_example_with_anchors = image_example.copy()\n",
    "    for i in np.random.choice(len(anchor_boxes_level), size=num_to_show):\n",
    "        anchor_box = anchor_boxes_level[i]\n",
    "        x1, y1, x2, y2 = anchor_box.numpy().astype(np.int32)\n",
    "        cv2.rectangle(image_example_with_anchors, (x1, y1), (x2, y2), np.random.randint(255, size=3).tolist(), 2)\n",
    "    \n",
    "    show_image(image_example_with_anchors)"
   ]
  },
  {
   "cell_type": "markdown",
   "id": "d5e2f411",
   "metadata": {
    "id": "6uUXTi6ClX06",
    "papermill": {
     "duration": 0.044708,
     "end_time": "2023-04-04T22:27:52.631318",
     "exception": false,
     "start_time": "2023-04-04T22:27:52.586610",
     "status": "completed"
    },
    "tags": []
   },
   "source": [
    "Теперь, когда у нас есть модуль для генерации якорных прямоугольников, можем перейти к сеткам для классификации и регрессии на их основе."
   ]
  },
  {
   "cell_type": "markdown",
   "id": "f79c64fd",
   "metadata": {
    "id": "L7450RjjlX06",
    "papermill": {
     "duration": 0.040116,
     "end_time": "2023-04-04T22:27:52.711504",
     "exception": false,
     "start_time": "2023-04-04T22:27:52.671388",
     "status": "completed"
    },
    "tags": []
   },
   "source": [
    "---"
   ]
  },
  {
   "cell_type": "markdown",
   "id": "c5394306",
   "metadata": {
    "id": "LpUcPtTmlX06",
    "papermill": {
     "duration": 0.098094,
     "end_time": "2023-04-04T22:27:52.849587",
     "exception": false,
     "start_time": "2023-04-04T22:27:52.751493",
     "status": "completed"
    },
    "tags": []
   },
   "source": [
    "#### Regression & Classification subnets"
   ]
  },
  {
   "cell_type": "markdown",
   "id": "7d8d2240",
   "metadata": {
    "id": "haN-Ye6-lX06",
    "papermill": {
     "duration": 0.039972,
     "end_time": "2023-04-04T22:27:52.930172",
     "exception": false,
     "start_time": "2023-04-04T22:27:52.890200",
     "status": "completed"
    },
    "tags": []
   },
   "source": [
    "Классификацию (объект одного из классов или фон) и регрессию (уточнение координат объекта относительно `anchor box`) будет делать в сверточной манере."
   ]
  },
  {
   "cell_type": "markdown",
   "id": "80d10e0d",
   "metadata": {
    "id": "0cI9QxAGlX06",
    "papermill": {
     "duration": 0.042501,
     "end_time": "2023-04-04T22:27:53.013127",
     "exception": false,
     "start_time": "2023-04-04T22:27:52.970626",
     "status": "completed"
    },
    "tags": []
   },
   "source": [
    "![overall](https://github.com/POTATOCHKA/temp_repo/blob/main/images/overall.png?raw=1)"
   ]
  },
  {
   "cell_type": "markdown",
   "id": "096f2dfb",
   "metadata": {
    "id": "td9G-iIWlX06",
    "papermill": {
     "duration": 0.041726,
     "end_time": "2023-04-04T22:27:53.097128",
     "exception": false,
     "start_time": "2023-04-04T22:27:53.055402",
     "status": "completed"
    },
    "tags": []
   },
   "source": [
    "* Регрессия\n",
    "\n",
    "Поскольку с каждым супер-пикселем у нас ассоциировано 9 разных `proposals`, каждый из которых задан с помощью 4 чисел, то для регрессии нам потребуется 9 x 4 = 36 чисел в каждом суперпикселе. Значит, сделаем полносверточную сеть, которая не меняет размера карт активаций (то есть нет `pooling`-слоев и `stride`=1) и имеет на выходе 36 каналов. Таким образом, в каждом из `HxW` суперпикселей выходной карты будут храниться все необходимые таргеты."
   ]
  },
  {
   "cell_type": "markdown",
   "id": "d181cb88",
   "metadata": {
    "id": "akjx-FxUlX06",
    "papermill": {
     "duration": 0.042157,
     "end_time": "2023-04-04T22:27:53.180688",
     "exception": false,
     "start_time": "2023-04-04T22:27:53.138531",
     "status": "completed"
    },
    "tags": []
   },
   "source": [
    "**Задание:** напишите код для преобразования тензора с результатами из вида `B x (num_anchors * 4) x H x W` к виду `B x total_num_anchors x 4`."
   ]
  },
  {
   "cell_type": "code",
   "execution_count": 19,
   "id": "f978cefa",
   "metadata": {
    "execution": {
     "iopub.execute_input": "2023-04-04T22:27:53.266647Z",
     "iopub.status.busy": "2023-04-04T22:27:53.266200Z",
     "iopub.status.idle": "2023-04-04T22:27:53.277708Z",
     "shell.execute_reply": "2023-04-04T22:27:53.276725Z"
    },
    "id": "FcrwBUOxlX06",
    "papermill": {
     "duration": 0.057132,
     "end_time": "2023-04-04T22:27:53.280075",
     "exception": false,
     "start_time": "2023-04-04T22:27:53.222943",
     "status": "completed"
    },
    "tags": []
   },
   "outputs": [],
   "source": [
    "class RegressionModel(nn.Module):\n",
    "    \n",
    "    def __init__(self, num_features_in, num_anchors=9, feature_size=256):\n",
    "        \"\"\"\n",
    "        RegressionModel consctructor. \n",
    "        \n",
    "        RegressionModel is a fully-convolutional neural network that takes single feature pyramid level and\n",
    "        outputs tensor of size total_number_of_anchors x 4.\n",
    "        \n",
    "        Args:\n",
    "            - num_features_in: number of channels in every feature pyramid level.\n",
    "            - num_anchors: size of anchor boxes set.\n",
    "            - feature_size: size of internal activation maps.\n",
    "        \"\"\"\n",
    "        super(RegressionModel, self).__init__()\n",
    "\n",
    "        self.conv1 = nn.Conv2d(num_features_in, feature_size, kernel_size=3, padding=1)\n",
    "        self.act1 = nn.ReLU()\n",
    "\n",
    "        self.conv2 = nn.Conv2d(feature_size, feature_size, kernel_size=3, padding=1)\n",
    "        self.act2 = nn.ReLU()\n",
    "\n",
    "        self.conv3 = nn.Conv2d(feature_size, feature_size, kernel_size=3, padding=1)\n",
    "        self.act3 = nn.ReLU()\n",
    "\n",
    "        self.conv4 = nn.Conv2d(feature_size, feature_size, kernel_size=3, padding=1)\n",
    "        self.act4 = nn.ReLU()\n",
    "\n",
    "        self.output = nn.Conv2d(feature_size, num_anchors * 4, kernel_size=3, padding=1)\n",
    "\n",
    "    def forward(self, x):\n",
    "        \"\"\"\n",
    "        Run regression on single feature pyramid level.\n",
    "        \n",
    "        Args:\n",
    "            - x: feature pyramid level of shape B x num_features_in x H x W.\n",
    "            \n",
    "        Returns:\n",
    "            tensor of size B x (H * W * num_anchors) x 4.\n",
    "        \"\"\"\n",
    "        out = self.conv1(x)\n",
    "        out = self.act1(out)\n",
    "\n",
    "        out = self.conv2(out)\n",
    "        out = self.act2(out)\n",
    "\n",
    "        out = self.conv3(out)\n",
    "        out = self.act3(out)\n",
    "\n",
    "        out = self.conv4(out)\n",
    "        out = self.act4(out)\n",
    "\n",
    "        out = self.output(out)\n",
    "        # out is B x C x H x W, with C = 4 * num_anchors\n",
    "        \n",
    "        # TODO: change shape of `out` tensor to be `B x total_num_anchors x 4`.\n",
    "        \n",
    "        # YOUR CODE HERE\n",
    "        out = out.permute(0, 2, 3, 1).reshape(len(out), -1, 4)\n",
    "\n",
    "        # END OF YOUR CODE\n",
    "        \n",
    "        return out"
   ]
  },
  {
   "cell_type": "code",
   "execution_count": 20,
   "id": "cd6f4691",
   "metadata": {
    "execution": {
     "iopub.execute_input": "2023-04-04T22:27:53.368647Z",
     "iopub.status.busy": "2023-04-04T22:27:53.368253Z",
     "iopub.status.idle": "2023-04-04T22:27:53.415861Z",
     "shell.execute_reply": "2023-04-04T22:27:53.414755Z"
    },
    "id": "EfH1KdAslX06",
    "outputId": "047c6ed9-32e3-4f2b-dccb-d0dfac1d4295",
    "papermill": {
     "duration": 0.092486,
     "end_time": "2023-04-04T22:27:53.418235",
     "exception": false,
     "start_time": "2023-04-04T22:27:53.325749",
     "status": "completed"
    },
    "tags": []
   },
   "outputs": [
    {
     "name": "stdout",
     "output_type": "stream",
     "text": [
      "input: torch.Size([1, 256, 68, 100])\t output: torch.Size([1, 61200, 4])\n",
      "input: torch.Size([1, 256, 34, 50])\t output: torch.Size([1, 15300, 4])\n",
      "input: torch.Size([1, 256, 17, 25])\t output: torch.Size([1, 3825, 4])\n",
      "input: torch.Size([1, 256, 9, 13])\t output: torch.Size([1, 1053, 4])\n",
      "input: torch.Size([1, 256, 5, 7])\t output: torch.Size([1, 315, 4])\n"
     ]
    }
   ],
   "source": [
    "num_features_in = 256\n",
    "regression_head = RegressionModel(num_features_in).to(device)\n",
    "\n",
    "regression_predictions = []\n",
    "for features in features_pyramid_example:\n",
    "    regression_predictions_at_level = regression_head(features)\n",
    "    regression_predictions.append(regression_predictions_at_level)\n",
    "    print(f\"input: {features.size()}\\t output: {regression_predictions_at_level.size()}\")\n",
    "regression_predictions = torch.cat(regression_predictions, dim=1) # batch x anchors x 4 [4 for bbox]"
   ]
  },
  {
   "cell_type": "markdown",
   "id": "1d291447",
   "metadata": {
    "id": "GfO0J1tvlX07",
    "papermill": {
     "duration": 0.040519,
     "end_time": "2023-04-04T22:27:53.500275",
     "exception": false,
     "start_time": "2023-04-04T22:27:53.459756",
     "status": "completed"
    },
    "tags": []
   },
   "source": [
    "* Классификация\n",
    "\n",
    "Архитектурно голова классификации идентична голове регрессии, отличие только в размере выхода (и активации): модель возвращает столько значений для каждого бокса, сколько классов в датасете, причем с активацией `Sigmoid`."
   ]
  },
  {
   "cell_type": "code",
   "execution_count": 21,
   "id": "8dca4484",
   "metadata": {
    "execution": {
     "iopub.execute_input": "2023-04-04T22:27:53.585673Z",
     "iopub.status.busy": "2023-04-04T22:27:53.584564Z",
     "iopub.status.idle": "2023-04-04T22:27:53.597827Z",
     "shell.execute_reply": "2023-04-04T22:27:53.596780Z"
    },
    "id": "4YQAaCR2lX07",
    "papermill": {
     "duration": 0.058341,
     "end_time": "2023-04-04T22:27:53.600162",
     "exception": false,
     "start_time": "2023-04-04T22:27:53.541821",
     "status": "completed"
    },
    "tags": []
   },
   "outputs": [],
   "source": [
    "class ClassificationModel(nn.Module):\n",
    "    \n",
    "    def __init__(self, num_features_in, num_anchors=9, num_classes=80, prior=0.01, feature_size=256):\n",
    "        \"\"\"\n",
    "        ClassificationModel consctructor. \n",
    "        \n",
    "        ClassificationModel is a fully-convolutional neural network that takes single feature pyramid level and\n",
    "        outputs tensor of size total_number_of_anchors x num_classes.\n",
    "        \n",
    "        Args:\n",
    "            - num_features_in: number of channels in every feature pyramid level.\n",
    "            - num_anchors: size of anchor boxes set.\n",
    "            - num_classes: number of classes in dataset (do not count the `background` class!).\n",
    "            - prior: float number to use in weights initializatin.\n",
    "            - feature_size: size of internal activation maps.\n",
    "        \"\"\"\n",
    "        super(ClassificationModel, self).__init__()\n",
    "\n",
    "        self.num_classes = num_classes\n",
    "        self.num_anchors = num_anchors\n",
    "\n",
    "        self.conv1 = nn.Conv2d(num_features_in, feature_size, kernel_size=3, padding=1)\n",
    "        self.act1 = nn.ReLU()\n",
    "\n",
    "        self.conv2 = nn.Conv2d(feature_size, feature_size, kernel_size=3, padding=1)\n",
    "        self.act2 = nn.ReLU()\n",
    "\n",
    "        self.conv3 = nn.Conv2d(feature_size, feature_size, kernel_size=3, padding=1)\n",
    "        self.act3 = nn.ReLU()\n",
    "\n",
    "        self.conv4 = nn.Conv2d(feature_size, feature_size, kernel_size=3, padding=1)\n",
    "        self.act4 = nn.ReLU()\n",
    "\n",
    "        self.output = nn.Conv2d(feature_size, num_anchors * num_classes, kernel_size=3, padding=1)\n",
    "        self.output_act = nn.Sigmoid()\n",
    "\n",
    "    def forward(self, x):        \n",
    "        \"\"\"\n",
    "        Run classification on single feature pyramid level.\n",
    "        \n",
    "        Args:\n",
    "            - x: feature pyramid level of shape B x num_features_in x H x W.\n",
    "            \n",
    "        Returns:\n",
    "            tensor of size B x (H * W * num_anchors) x num_classes.\n",
    "        \"\"\"\n",
    "        out = self.conv1(x)\n",
    "        out = self.act1(out)\n",
    "\n",
    "        out = self.conv2(out)\n",
    "        out = self.act2(out)\n",
    "\n",
    "        out = self.conv3(out)\n",
    "        out = self.act3(out)\n",
    "\n",
    "        out = self.conv4(out)\n",
    "        out = self.act4(out)\n",
    "\n",
    "        out = self.output(out)\n",
    "        out = self.output_act(out)\n",
    "        # out is B x C x W x H, with C = num_classes * num_anchors\n",
    "        \n",
    "        out1 = out.permute(0, 2, 3, 1)\n",
    "        batch_size, width, height, channels = out1.shape\n",
    "        out2 = out1.reshape(batch_size, width, height, self.num_anchors, self.num_classes)\n",
    "\n",
    "        return out2.reshape(x.shape[0], -1, self.num_classes)"
   ]
  },
  {
   "cell_type": "code",
   "execution_count": 22,
   "id": "8a5a106c",
   "metadata": {
    "execution": {
     "iopub.execute_input": "2023-04-04T22:27:53.685014Z",
     "iopub.status.busy": "2023-04-04T22:27:53.684280Z",
     "iopub.status.idle": "2023-04-04T22:27:53.746440Z",
     "shell.execute_reply": "2023-04-04T22:27:53.744840Z"
    },
    "id": "NrZe-jLtlX07",
    "outputId": "c2c28f26-a9cd-4c94-90ff-a5838fa20e3b",
    "papermill": {
     "duration": 0.106446,
     "end_time": "2023-04-04T22:27:53.748638",
     "exception": false,
     "start_time": "2023-04-04T22:27:53.642192",
     "status": "completed"
    },
    "tags": []
   },
   "outputs": [
    {
     "name": "stdout",
     "output_type": "stream",
     "text": [
      "input: torch.Size([1, 256, 68, 100])\t output: torch.Size([1, 61200, 80])\n",
      "input: torch.Size([1, 256, 34, 50])\t output: torch.Size([1, 15300, 80])\n",
      "input: torch.Size([1, 256, 17, 25])\t output: torch.Size([1, 3825, 80])\n",
      "input: torch.Size([1, 256, 9, 13])\t output: torch.Size([1, 1053, 80])\n",
      "input: torch.Size([1, 256, 5, 7])\t output: torch.Size([1, 315, 80])\n"
     ]
    }
   ],
   "source": [
    "classification_head = ClassificationModel(num_features_in, num_classes=num_classes).to(device)\n",
    "classification_results = []\n",
    "\n",
    "for feature in features_pyramid_example:\n",
    "    classification_results_at_level = classification_head(feature)\n",
    "    classification_results.append(classification_results_at_level)\n",
    "    print(f\"input: {feature.size()}\\t output: {classification_results_at_level.size()}\")\n",
    "classification_results = torch.cat(classification_results, dim=1) # batch x anchors x classes"
   ]
  },
  {
   "cell_type": "markdown",
   "id": "f14b8fe4",
   "metadata": {
    "id": "xDthtNr4lX07",
    "papermill": {
     "duration": 0.040136,
     "end_time": "2023-04-04T22:27:53.830234",
     "exception": false,
     "start_time": "2023-04-04T22:27:53.790098",
     "status": "completed"
    },
    "tags": []
   },
   "source": [
    "Теперь мы можем объединить все в одну композицию, класс `RetinaNet`."
   ]
  },
  {
   "cell_type": "markdown",
   "id": "4445fc16",
   "metadata": {
    "id": "_Fmc0EGwlX07",
    "papermill": {
     "duration": 0.040353,
     "end_time": "2023-04-04T22:27:53.911197",
     "exception": false,
     "start_time": "2023-04-04T22:27:53.870844",
     "status": "completed"
    },
    "tags": []
   },
   "source": [
    "---"
   ]
  },
  {
   "cell_type": "markdown",
   "id": "85c0ab5e",
   "metadata": {
    "id": "_mM3-arilX07",
    "papermill": {
     "duration": 0.040829,
     "end_time": "2023-04-04T22:27:53.992695",
     "exception": false,
     "start_time": "2023-04-04T22:27:53.951866",
     "status": "completed"
    },
    "tags": []
   },
   "source": [
    "#### RetinaNet"
   ]
  },
  {
   "cell_type": "code",
   "execution_count": 23,
   "id": "e701ecd0",
   "metadata": {
    "execution": {
     "iopub.execute_input": "2023-04-04T22:27:54.082396Z",
     "iopub.status.busy": "2023-04-04T22:27:54.081290Z",
     "iopub.status.idle": "2023-04-04T22:27:54.090875Z",
     "shell.execute_reply": "2023-04-04T22:27:54.089882Z"
    },
    "id": "k8Dpxal1lX07",
    "papermill": {
     "duration": 0.056872,
     "end_time": "2023-04-04T22:27:54.093128",
     "exception": false,
     "start_time": "2023-04-04T22:27:54.036256",
     "status": "completed"
    },
    "tags": []
   },
   "outputs": [],
   "source": [
    "from retinanet.utils import BBoxTransform, ClipBoxes\n",
    "from retinanet.losses import FocalLoss\n",
    "from torchvision.ops import nms"
   ]
  },
  {
   "cell_type": "markdown",
   "id": "ba4f0240",
   "metadata": {
    "id": "kea814m8lX07",
    "papermill": {
     "duration": 0.040829,
     "end_time": "2023-04-04T22:27:54.176976",
     "exception": false,
     "start_time": "2023-04-04T22:27:54.136147",
     "status": "completed"
    },
    "tags": []
   },
   "source": [
    "Из интересного: метод `.forward()` работает по разному во время обучения и во время инференса:\n",
    "- Во время обучения (`self.training = True`) функция возвращает список из двух лоссов - регрессионного и классификационного.\n",
    "- Во время инференса функция возвращает предсказания: скоры, индексы классов и координаты боксов. "
   ]
  },
  {
   "cell_type": "markdown",
   "id": "1e7815f0",
   "metadata": {
    "id": "ZxtfrAG_lX07",
    "papermill": {
     "duration": 0.040766,
     "end_time": "2023-04-04T22:27:54.260020",
     "exception": false,
     "start_time": "2023-04-04T22:27:54.219254",
     "status": "completed"
    },
    "tags": []
   },
   "source": [
    "Как было сказано ранне основной фичей RetinaNet является Focal loss ([paper](https://arxiv.org/pdf/1708.02002.pdf)):\n",
    "\n",
    "$$\\text{FL}(p_t) = -(1-p_t)^\\gamma \\log p_t$$\n",
    "\n",
    "где $p_t = \\text{sigmoid}(x)$ для позитивного класса и $p_t = 1- \\text{sigmoid}(x) = \\text{sigmoid}(-x)$ для негативного. "
   ]
  },
  {
   "cell_type": "markdown",
   "id": "23d6523b",
   "metadata": {
    "id": "xcCYD2AdlX07",
    "papermill": {
     "duration": 0.087229,
     "end_time": "2023-04-04T22:27:54.389912",
     "exception": false,
     "start_time": "2023-04-04T22:27:54.302683",
     "status": "completed"
    },
    "tags": []
   },
   "source": [
    "Также помимо уже разобранных модулей будут использоваться:\n",
    "- `BBoxTransform`: класс для сборки боксов из предсказаний регрессионной головы и набора якорных боксов.\n",
    "- `ClipBoxes`: класс для усечения координат боксов при выходе за границы изображения.\n",
    "- `FocalLoss`: класс для вычисления сложной функции потерь (на самом деле, в нем вычисляются оба лосса - для классификации и для регрессии).\n",
    "  Внутри него происходит, например, ассоциация GT-боксов с якорными боксами."
   ]
  },
  {
   "cell_type": "code",
   "execution_count": 24,
   "id": "16cc617b",
   "metadata": {
    "execution": {
     "iopub.execute_input": "2023-04-04T22:27:54.532336Z",
     "iopub.status.busy": "2023-04-04T22:27:54.531300Z",
     "iopub.status.idle": "2023-04-04T22:27:54.550958Z",
     "shell.execute_reply": "2023-04-04T22:27:54.549905Z"
    },
    "id": "Mg_JVq0MlX07",
    "papermill": {
     "duration": 0.079822,
     "end_time": "2023-04-04T22:27:54.553117",
     "exception": false,
     "start_time": "2023-04-04T22:27:54.473295",
     "status": "completed"
    },
    "tags": []
   },
   "outputs": [],
   "source": [
    "class RetinaNet(nn.Module):\n",
    "    \n",
    "    def __init__(self, num_classes, backbone=\"resnet50\", fpn_feature_size=256, subnets_feature_size=256, device=None):\n",
    "        super(RetinaNet, self).__init__()\n",
    "        \n",
    "        self.device = device\n",
    "        if backbone == \"resnet50\":\n",
    "            self.backbone = ResNet(num_classes=num_classes, block=Bottleneck, layers_sizes=(3, 4, 6, 3)).to(device)\n",
    "            self.fpn = PyramidFeatures(512, 1024, 2048, fpn_feature_size).to(device)\n",
    "            \n",
    "        else:\n",
    "            raise NotImplementedError(backbone)\n",
    "            \n",
    "        self.regression_head = RegressionModel(num_features_in=fpn_feature_size, feature_size=subnets_feature_size).to(device)\n",
    "        self.classification_head = ClassificationModel(num_features_in=fpn_feature_size, num_classes=num_classes, feature_size=subnets_feature_size).to(self.device)\n",
    "        self._init_weights()\n",
    "        \n",
    "        self.anchors_generator = AnchorsGenerator(device=device)\n",
    "        self.transform_bboxes = BBoxTransform(device=device)\n",
    "        self.clip_bboxes = ClipBoxes()\n",
    "        self.loss_fn = FocalLoss(device=device)\n",
    "        \n",
    "\n",
    "    def forward(self, inputs):\n",
    "        \"\"\"\n",
    "        Apply RetinaNet pipeline to inputs.\n",
    "        \n",
    "        Args:\n",
    "            - inputs: Either (images_batch, annotations) in training mode or images_batch otherwise. \n",
    "            images_batch is of shape (B x C x H x W), annotations of shape (B x N x 5) where N is a number of \n",
    "            GT boxes and 5 = 4 coords + 1 class label.\n",
    "        \n",
    "        Returns:\n",
    "            Either (classification_loss, regression_loss) in training mode or (scores, nms_class, boxes) otherwise.\n",
    "        \"\"\"\n",
    "        \n",
    "        if self.training:\n",
    "            images_batch, annotations = inputs\n",
    "        else:\n",
    "            images_batch = inputs\n",
    "        \n",
    "        features = self.backbone(images_batch.to(device))\n",
    "        features_pyramid = self.fpn(features)\n",
    "        classification_results = torch.cat([self.classification_head(f) for f in features_pyramid], dim=1)\n",
    "        regression_results = torch.cat([self.regression_head(f) for f in features_pyramid], dim=1)\n",
    "        \n",
    "        anchors = self.anchors_generator(images_batch)\n",
    "        \n",
    "        if self.training:\n",
    "            return self.loss_fn(classification_results, regression_results, anchors, annotations)\n",
    "        \n",
    "        transformed_anchors = self.transform_bboxes(anchors, regression_results)\n",
    "        transformed_anchors = self.clip_bboxes(transformed_anchors, images_batch)\n",
    "\n",
    "        scores = torch.max(classification_results, dim=2, keepdim=True)[0]\n",
    "        scores_over_thresh = (scores > 0.3)[0, :, 0]\n",
    "\n",
    "        if scores_over_thresh.sum() == 0:\n",
    "            # no boxes to NMS, just return\n",
    "            return [torch.zeros(0), torch.zeros(0), torch.zeros(0, 4)]\n",
    "\n",
    "        # NMS iteratively removes lower scoring boxes which have an\n",
    "        # IoU greater than iou_threshold with another (higher scoring) box\n",
    "        classification_results = classification_results[:, scores_over_thresh, :]\n",
    "        transformed_anchors = transformed_anchors[:, scores_over_thresh, :]\n",
    "        scores = scores[:, scores_over_thresh, :]\n",
    "\n",
    "        anchors_nms_idx = nms(transformed_anchors[0,:,:], scores[0,:,0], 0.5)\n",
    "\n",
    "        nms_scores, nms_class = classification_results[0, anchors_nms_idx, :].max(dim=1)\n",
    "\n",
    "        return [nms_scores, nms_class, transformed_anchors[0, anchors_nms_idx, :]]\n",
    "    \n",
    "    def _init_weights(self):\n",
    "        \n",
    "        for m in self.modules():\n",
    "            if isinstance(m, nn.Conv2d):\n",
    "                n = m.kernel_size[0] * m.kernel_size[1] * m.out_channels\n",
    "                m.weight.data.normal_(0, np.sqrt(2. / n))\n",
    "            elif isinstance(m, nn.BatchNorm2d):\n",
    "                m.weight.data.fill_(1)\n",
    "                m.bias.data.zero_()\n",
    "\n",
    "        prior = 0.01\n",
    "\n",
    "        self.classification_head.output.weight.data.fill_(0)\n",
    "        self.classification_head.output.bias.data.fill_(-np.log((1.0 - prior) / prior))\n",
    "\n",
    "        self.regression_head.output.weight.data.fill_(0)\n",
    "        self.regression_head.output.bias.data.fill_(0)"
   ]
  },
  {
   "cell_type": "markdown",
   "id": "95c40275",
   "metadata": {
    "id": "3V-rzO6clX08",
    "papermill": {
     "duration": 0.041246,
     "end_time": "2023-04-04T22:27:54.636361",
     "exception": false,
     "start_time": "2023-04-04T22:27:54.595115",
     "status": "completed"
    },
    "tags": []
   },
   "source": [
    "Подгрузим веса из оригинального репозитория (модифицированные для нашего класса) и сделаем пробный прогон на тестовом изображении. Веса получены обучением модели на датасете COCO."
   ]
  },
  {
   "cell_type": "code",
   "execution_count": 25,
   "id": "45bb0ced",
   "metadata": {
    "execution": {
     "iopub.execute_input": "2023-04-04T22:27:54.720454Z",
     "iopub.status.busy": "2023-04-04T22:27:54.719489Z",
     "iopub.status.idle": "2023-04-04T22:27:55.139301Z",
     "shell.execute_reply": "2023-04-04T22:27:55.138055Z"
    },
    "id": "O1mQoZGKlX08",
    "papermill": {
     "duration": 0.465352,
     "end_time": "2023-04-04T22:27:55.142317",
     "exception": false,
     "start_time": "2023-04-04T22:27:54.676965",
     "status": "completed"
    },
    "tags": []
   },
   "outputs": [],
   "source": [
    "retinanet = RetinaNet(num_classes=80, device=device)\n",
    "retinanet.eval();"
   ]
  },
  {
   "cell_type": "code",
   "execution_count": 26,
   "id": "7e434e85",
   "metadata": {
    "execution": {
     "iopub.execute_input": "2023-04-04T22:27:55.229642Z",
     "iopub.status.busy": "2023-04-04T22:27:55.229131Z",
     "iopub.status.idle": "2023-04-04T22:27:55.371680Z",
     "shell.execute_reply": "2023-04-04T22:27:55.369473Z"
    },
    "id": "kzKXyt25lX08",
    "outputId": "27ec6cfa-0f20-44a6-975d-0f2e7180f69d",
    "papermill": {
     "duration": 0.188538,
     "end_time": "2023-04-04T22:27:55.374682",
     "exception": false,
     "start_time": "2023-04-04T22:27:55.186144",
     "status": "completed"
    },
    "tags": []
   },
   "outputs": [
    {
     "data": {
      "text/plain": [
       "<All keys matched successfully>"
      ]
     },
     "execution_count": 26,
     "metadata": {},
     "output_type": "execute_result"
    }
   ],
   "source": [
    "with open(\"./seminar_objdet_retina_oi5_ball/FIXED_coco_resnet_50_map_0_335_state_dict.pt\", \"rb\") as fp:\n",
    "    state_dict = torch.load(fp, map_location=\"cpu\")\n",
    "retinanet.load_state_dict(state_dict)"
   ]
  },
  {
   "cell_type": "markdown",
   "id": "5b183ef9",
   "metadata": {
    "id": "fnJZYG0GlX08",
    "papermill": {
     "duration": 0.042156,
     "end_time": "2023-04-04T22:27:55.461542",
     "exception": false,
     "start_time": "2023-04-04T22:27:55.419386",
     "status": "completed"
    },
    "tags": []
   },
   "source": [
    "Взглянем на результат работы модели на тестовом примере:"
   ]
  },
  {
   "cell_type": "code",
   "execution_count": 27,
   "id": "c3506e28",
   "metadata": {
    "execution": {
     "iopub.execute_input": "2023-04-04T22:27:55.549037Z",
     "iopub.status.busy": "2023-04-04T22:27:55.548643Z",
     "iopub.status.idle": "2023-04-04T22:27:55.557807Z",
     "shell.execute_reply": "2023-04-04T22:27:55.556631Z"
    },
    "id": "OD3zNrYKlX08",
    "papermill": {
     "duration": 0.05582,
     "end_time": "2023-04-04T22:27:55.560188",
     "exception": false,
     "start_time": "2023-04-04T22:27:55.504368",
     "status": "completed"
    },
    "tags": []
   },
   "outputs": [],
   "source": [
    "def run_and_show(model, image_or_tensor, threshold, class_to_label_map, verbose=False):\n",
    "    if isinstance(image_or_tensor, np.ndarray):\n",
    "        tensor = make_tensor(image_or_tensor)\n",
    "        image = image_or_tensor\n",
    "    elif isinstance(image_or_tensor, torch.Tensor):\n",
    "        image = (image_or_tensor.numpy()[0] * 0.25) + 0.5\n",
    "        tensor = image_or_tensor.permute(0, 3, 1, 2)\n",
    "    else:\n",
    "        raise NotImplementedError(type(image_or_tensor))\n",
    "        \n",
    "    with torch.no_grad():\n",
    "        nms_scores, nms_classes, bboxes = model(tensor)\n",
    "    \n",
    "    nms_scores = nms_scores.cpu()\n",
    "    nms_classes = nms_classes.cpu()\n",
    "    bboxes = bboxes.cpu()\n",
    "    \n",
    "    if verbose:\n",
    "        print(nms_scores.size(), nms_scores[:8])\n",
    "        print(nms_classes.size(), nms_classes[:8])\n",
    "        print(bboxes.size(), bboxes[:8])\n",
    "        \n",
    "    image_with_predictions = draw_predictions(image, bboxes, nms_scores, nms_classes, class_to_label_map, threshold=threshold)\n",
    "    show_image(image_with_predictions)"
   ]
  },
  {
   "cell_type": "code",
   "execution_count": 28,
   "id": "041921bb",
   "metadata": {
    "execution": {
     "iopub.execute_input": "2023-04-04T22:27:55.647747Z",
     "iopub.status.busy": "2023-04-04T22:27:55.646624Z",
     "iopub.status.idle": "2023-04-04T22:27:55.653887Z",
     "shell.execute_reply": "2023-04-04T22:27:55.652821Z"
    },
    "id": "x0KV6o7YlX08",
    "papermill": {
     "duration": 0.05433,
     "end_time": "2023-04-04T22:27:55.656264",
     "exception": false,
     "start_time": "2023-04-04T22:27:55.601934",
     "status": "completed"
    },
    "tags": []
   },
   "outputs": [],
   "source": [
    "with open(\"./seminar_objdet_retina_oi5_ball/coco_id_to_name.json\", \"rt\") as fp:\n",
    "    coco_class_to_label_map = json.load(fp)\n",
    "coco_class_to_label_map = {int(k) - 1: v for k, v in coco_class_to_label_map.items()}"
   ]
  },
  {
   "cell_type": "code",
   "execution_count": 29,
   "id": "412c52ae",
   "metadata": {
    "execution": {
     "iopub.execute_input": "2023-04-04T22:27:55.747730Z",
     "iopub.status.busy": "2023-04-04T22:27:55.746940Z",
     "iopub.status.idle": "2023-04-04T22:27:56.252718Z",
     "shell.execute_reply": "2023-04-04T22:27:56.251660Z"
    },
    "id": "my3k-DbmlX08",
    "outputId": "8a479e80-5827-401f-dd14-27c64a11e517",
    "papermill": {
     "duration": 0.555025,
     "end_time": "2023-04-04T22:27:56.255673",
     "exception": false,
     "start_time": "2023-04-04T22:27:55.700648",
     "status": "completed"
    },
    "tags": []
   },
   "outputs": [],
   "source": [
    "%%capture\n",
    "run_and_show(retinanet, image_example, 0.5, coco_class_to_label_map, verbose=True)"
   ]
  },
  {
   "cell_type": "markdown",
   "id": "5574d1fc",
   "metadata": {
    "id": "a9gHBNsClX08",
    "papermill": {
     "duration": 0.041559,
     "end_time": "2023-04-04T22:27:56.340102",
     "exception": false,
     "start_time": "2023-04-04T22:27:56.298543",
     "status": "completed"
    },
    "tags": []
   },
   "source": [
    "---"
   ]
  },
  {
   "cell_type": "markdown",
   "id": "2f3bb98f",
   "metadata": {
    "id": "fWrKQdKnlX08",
    "papermill": {
     "duration": 0.041315,
     "end_time": "2023-04-04T22:27:56.424604",
     "exception": false,
     "start_time": "2023-04-04T22:27:56.383289",
     "status": "completed"
    },
    "tags": []
   },
   "source": [
    "#### 3. Дообучение RetinaNet"
   ]
  },
  {
   "cell_type": "markdown",
   "id": "355a943a",
   "metadata": {
    "id": "CFXE3dpalX08",
    "papermill": {
     "duration": 0.040476,
     "end_time": "2023-04-04T22:27:56.506175",
     "exception": false,
     "start_time": "2023-04-04T22:27:56.465699",
     "status": "completed"
    },
    "tags": []
   },
   "source": [
    "Наконец, убедимся в том, что наша модель может обучаться. \n",
    "\n",
    "У нас есть кусок датасета [OpenImages](https://storage.googleapis.com/openimages/web/index.html), которая содержит примеры класса `Ball`.\n",
    "Будем обучать нашу модель детектировать 1 класс - мячи, шары и т.д."
   ]
  },
  {
   "cell_type": "markdown",
   "id": "59e82589",
   "metadata": {
    "id": "zDs74fYDlX09",
    "papermill": {
     "duration": 0.042329,
     "end_time": "2023-04-04T22:27:56.589776",
     "exception": false,
     "start_time": "2023-04-04T22:27:56.547447",
     "status": "completed"
    },
    "tags": []
   },
   "source": [
    "\n",
    "Подгрузка данных:"
   ]
  },
  {
   "cell_type": "code",
   "execution_count": 30,
   "id": "d0aa6e58",
   "metadata": {
    "execution": {
     "iopub.execute_input": "2023-04-04T22:27:56.674534Z",
     "iopub.status.busy": "2023-04-04T22:27:56.673366Z",
     "iopub.status.idle": "2023-04-04T22:27:57.271220Z",
     "shell.execute_reply": "2023-04-04T22:27:57.270093Z"
    },
    "id": "wn0nXcOqlX09",
    "papermill": {
     "duration": 0.64274,
     "end_time": "2023-04-04T22:27:57.273792",
     "exception": false,
     "start_time": "2023-04-04T22:27:56.631052",
     "status": "completed"
    },
    "tags": []
   },
   "outputs": [],
   "source": [
    "%reload_ext autoreload\n",
    "\n",
    "import tqdm\n",
    "\n",
    "from torchvision import transforms\n",
    "from torch.utils.data import DataLoader\n",
    "\n",
    "from dataset import DetectionDataset\n",
    "\n",
    "from retinanet.dataloader import Normalizer, Resizer, Augmenter, collater, AspectRatioBasedSampler, UnNormalizer"
   ]
  },
  {
   "cell_type": "markdown",
   "id": "cec491e1",
   "metadata": {
    "id": "bOote0TUlX09",
    "papermill": {
     "duration": 0.040383,
     "end_time": "2023-04-04T22:27:57.357776",
     "exception": false,
     "start_time": "2023-04-04T22:27:57.317393",
     "status": "completed"
    },
    "tags": []
   },
   "source": [
    "#### Аугментации"
   ]
  },
  {
   "cell_type": "markdown",
   "id": "32453e84",
   "metadata": {
    "id": "Uv6Vq3MalX09",
    "papermill": {
     "duration": 0.040083,
     "end_time": "2023-04-04T22:27:57.438967",
     "exception": false,
     "start_time": "2023-04-04T22:27:57.398884",
     "status": "completed"
    },
    "tags": []
   },
   "source": [
    "В задачах компьютерного зрения от набора обучающих данных зависит качество работы сети. Данных требуется много и хочется, чтобы они были наиболее разнородными. Собирать новые данные дорого и долго, поэтому часто используют аугментацию изображений.\n",
    "\n",
    "Аугментация — создание новых данных на основе какого-то базиса. Можно взять несколько шаблонов / «идеальных» примеров (те данные, которые есть) и с помощью различных искажений расширить набор изображений. \n",
    "Можно использовать следующие искажения:\n",
    "* Геометрические (афинные, проективные, ...).\n",
    "* Яркостные/цветовые.\n",
    "* Замена фона.\n",
    "* Искажения, характерные для решаемой задачи: блики, шумы, размытие и т. д.\n",
    "\n",
    "Популярные библиотеки для аугментации изображений:\n",
    "* https://pytorch.org/vision/stable/transforms.html\n",
    "* https://albumentations.ai"
   ]
  },
  {
   "cell_type": "markdown",
   "id": "c383f900",
   "metadata": {
    "id": "2u6hAwqolX09",
    "papermill": {
     "duration": 0.040182,
     "end_time": "2023-04-04T22:27:57.520578",
     "exception": false,
     "start_time": "2023-04-04T22:27:57.480396",
     "status": "completed"
    },
    "tags": []
   },
   "source": [
    "![overall](https://github.com/POTATOCHKA/temp_repo/blob/main/images/examples_grid.jpg?raw=1)"
   ]
  },
  {
   "cell_type": "code",
   "execution_count": 31,
   "id": "09e8665f",
   "metadata": {
    "execution": {
     "iopub.execute_input": "2023-04-04T22:27:57.605372Z",
     "iopub.status.busy": "2023-04-04T22:27:57.604942Z",
     "iopub.status.idle": "2023-04-04T22:27:58.303116Z",
     "shell.execute_reply": "2023-04-04T22:27:58.302023Z"
    },
    "id": "luRhVKyYtTcS",
    "outputId": "4e4f7c6d-5f28-4df6-af37-54213078f4b8",
    "papermill": {
     "duration": 0.745323,
     "end_time": "2023-04-04T22:27:58.306125",
     "exception": false,
     "start_time": "2023-04-04T22:27:57.560802",
     "status": "completed"
    },
    "tags": []
   },
   "outputs": [],
   "source": [
    "%%capture\n",
    "inv_normalize = transforms.Normalize(\n",
    "    mean=[-0.485/0.229, -0.456/0.224, -0.406/0.255],\n",
    "    std=[1/0.229, 1/0.224, 1/0.255]\n",
    ")\n",
    "\n",
    "example_transforms = transforms.Compose([\n",
    "    Normalizer(), Resizer()\n",
    "])\n",
    "example_dataset = DetectionDataset(data_dict_file=\"./seminar_objdet_retina_oi5_ball/oi5_ball_filename_to_bbox_train.json\", \n",
    "                                 transforms=example_transforms, add_path = './seminar_objdet_retina_oi5_ball/')\n",
    "iterator = iter(example_dataset)\n",
    "exp_img = next(iterator)['img']\n",
    "inv_tensor = inv_normalize(exp_img.permute(2,1,0))\n",
    "show_image(inv_tensor.permute(2,1,0).numpy())"
   ]
  },
  {
   "cell_type": "code",
   "execution_count": 32,
   "id": "3526aca2",
   "metadata": {
    "execution": {
     "iopub.execute_input": "2023-04-04T22:27:58.390952Z",
     "iopub.status.busy": "2023-04-04T22:27:58.390394Z",
     "iopub.status.idle": "2023-04-04T22:27:58.911499Z",
     "shell.execute_reply": "2023-04-04T22:27:58.910444Z"
    },
    "id": "a3bodj7elX09",
    "outputId": "6e553ad5-4b0b-42a5-c156-218118ed88f1",
    "papermill": {
     "duration": 0.566272,
     "end_time": "2023-04-04T22:27:58.914389",
     "exception": false,
     "start_time": "2023-04-04T22:27:58.348117",
     "status": "completed"
    },
    "tags": []
   },
   "outputs": [],
   "source": [
    "%%capture\n",
    "class RandomGrayscale:\n",
    "\n",
    "    def __init__(self, p = 1):\n",
    "        self.proba = p\n",
    "        self.to_gray = transforms.RandomGrayscale(p=self.proba)\n",
    "\n",
    "    def __call__(self, sample):\n",
    "\n",
    "        image, annots = sample['img'], sample['annot']\n",
    "        image = self.to_gray(image.permute(2,1,0))\n",
    "        return {'img':image, 'annot': annots}\n",
    "\n",
    "example_transforms = transforms.Compose([\n",
    "    Normalizer(), Resizer(), RandomGrayscale()\n",
    "])\n",
    "example_dataset = DetectionDataset(data_dict_file=\"./seminar_objdet_retina_oi5_ball/oi5_ball_filename_to_bbox_train.json\", \n",
    "                                 transforms=example_transforms, add_path = './seminar_objdet_retina_oi5_ball/')\n",
    "iterator = iter(example_dataset)\n",
    "exp_img = next(iterator)['img']\n",
    "inv_tensor = inv_normalize(exp_img)\n",
    "show_image(inv_tensor.permute(2,1,0).numpy())"
   ]
  },
  {
   "cell_type": "code",
   "execution_count": 33,
   "id": "c1aafa8d",
   "metadata": {
    "execution": {
     "iopub.execute_input": "2023-04-04T22:27:59.000978Z",
     "iopub.status.busy": "2023-04-04T22:27:58.999834Z",
     "iopub.status.idle": "2023-04-04T22:27:59.006807Z",
     "shell.execute_reply": "2023-04-04T22:27:59.005641Z"
    },
    "id": "nLfh4WCntEF8",
    "papermill": {
     "duration": 0.05269,
     "end_time": "2023-04-04T22:27:59.009304",
     "exception": false,
     "start_time": "2023-04-04T22:27:58.956614",
     "status": "completed"
    },
    "tags": []
   },
   "outputs": [],
   "source": [
    "train_transforms = transforms.Compose([\n",
    "    Normalizer(), Augmenter(), Resizer()\n",
    "])\n",
    "\n",
    "val_transforms = transforms.Compose([\n",
    "    Normalizer(), Resizer()\n",
    "])"
   ]
  },
  {
   "cell_type": "markdown",
   "id": "795947a1",
   "metadata": {
    "id": "YqVfxJ-xlX09",
    "papermill": {
     "duration": 0.043893,
     "end_time": "2023-04-04T22:27:59.099121",
     "exception": false,
     "start_time": "2023-04-04T22:27:59.055228",
     "status": "completed"
    },
    "tags": []
   },
   "source": [
    "Теперь к созданию датасетов и даталоадеров.\n",
    "\n",
    "Обратите внимание на `AspectRatioBasedSampler`: \n",
    "* Для обучения моделей в `pytorch` необходимо, чтобы все элементы в батче были одного размера.\n",
    "* Поскольку мы учим полносверточную архитектуру на полных изображениях (а не на кропах, как в классификации), то нам нужно отресайзить их к одному размеру. \n",
    "Если у изображений разное соотношение сторон, мы будем добавлять рамки (padding).\n",
    "* `AspectRatioBasedSampler` группирует изображения в датасете таким образом, чтобы в батч попадали изображения с как можно более похожим соотношением сторон, чтобы не делать слишком большие паддинги.\n",
    "\n",
    "Датасеты устроены так, чтобы возвращать тензор изображения и тензор аннотаций к нему."
   ]
  },
  {
   "cell_type": "code",
   "execution_count": 34,
   "id": "2bca24cd",
   "metadata": {
    "execution": {
     "iopub.execute_input": "2023-04-04T22:27:59.183719Z",
     "iopub.status.busy": "2023-04-04T22:27:59.183158Z",
     "iopub.status.idle": "2023-04-04T22:28:39.823352Z",
     "shell.execute_reply": "2023-04-04T22:28:39.822099Z"
    },
    "id": "i0j1ddcnlX09",
    "papermill": {
     "duration": 40.684795,
     "end_time": "2023-04-04T22:28:39.826340",
     "exception": false,
     "start_time": "2023-04-04T22:27:59.141545",
     "status": "completed"
    },
    "tags": []
   },
   "outputs": [],
   "source": [
    "train_dataset = DetectionDataset(data_dict_file=\"./seminar_objdet_retina_oi5_ball/oi5_ball_filename_to_bbox_train.json\", \n",
    "                                 transforms=train_transforms, add_path = './seminar_objdet_retina_oi5_ball/')\n",
    "train_sampler = AspectRatioBasedSampler(train_dataset, batch_size=4, drop_last=False) # deepdive\n",
    "train_dataloader = DataLoader(train_dataset, num_workers=8, collate_fn=collater, batch_sampler=train_sampler)\n",
    "\n",
    "val_dataset = DetectionDataset(data_dict_file=\"./seminar_objdet_retina_oi5_ball/oi5_ball_filename_to_bbox_val.json\", \n",
    "                               transforms=val_transforms, add_path = './seminar_objdet_retina_oi5_ball/')\n",
    "val_sampler = AspectRatioBasedSampler(val_dataset, batch_size=4, drop_last=False)\n",
    "val_dataloader = DataLoader(val_dataset, num_workers=8, collate_fn=collater, batch_sampler=val_sampler)"
   ]
  },
  {
   "cell_type": "code",
   "execution_count": 35,
   "id": "c1c87973",
   "metadata": {
    "execution": {
     "iopub.execute_input": "2023-04-04T22:28:39.922149Z",
     "iopub.status.busy": "2023-04-04T22:28:39.920169Z",
     "iopub.status.idle": "2023-04-04T22:28:40.076160Z",
     "shell.execute_reply": "2023-04-04T22:28:40.074883Z"
    },
    "id": "TPjp_7WslX09",
    "outputId": "afcc6bb8-b6c8-4bd0-9341-b222fcbb582b",
    "papermill": {
     "duration": 0.205626,
     "end_time": "2023-04-04T22:28:40.079056",
     "exception": false,
     "start_time": "2023-04-04T22:28:39.873430",
     "status": "completed"
    },
    "tags": []
   },
   "outputs": [
    {
     "name": "stdout",
     "output_type": "stream",
     "text": [
      "torch.Size([640, 992, 3])\n",
      "torch.Size([6, 5])\n"
     ]
    }
   ],
   "source": [
    "item = train_dataset[0]\n",
    "print(item[\"img\"].size())    # H x W x 3\n",
    "print(item[\"annot\"].size())  # N x 5; 4 coords + 1 label."
   ]
  },
  {
   "cell_type": "markdown",
   "id": "ec7920a7",
   "metadata": {
    "id": "LrB7shE1lX09",
    "papermill": {
     "duration": 0.046226,
     "end_time": "2023-04-04T22:28:40.172882",
     "exception": false,
     "start_time": "2023-04-04T22:28:40.126656",
     "status": "completed"
    },
    "tags": []
   },
   "source": [
    "Теперь непосредственно к модели.\n",
    "\n",
    "Во-первых, нужно заменить головы для классификации и регрессии для дообучения.\n",
    "При этом у классификационной головы нужно указать число классов - 1."
   ]
  },
  {
   "cell_type": "code",
   "execution_count": 36,
   "id": "e33bc13e",
   "metadata": {
    "execution": {
     "iopub.execute_input": "2023-04-04T22:28:40.260214Z",
     "iopub.status.busy": "2023-04-04T22:28:40.259847Z",
     "iopub.status.idle": "2023-04-04T22:28:40.323192Z",
     "shell.execute_reply": "2023-04-04T22:28:40.322050Z"
    },
    "id": "wIQ03BO4lX09",
    "papermill": {
     "duration": 0.108791,
     "end_time": "2023-04-04T22:28:40.325764",
     "exception": false,
     "start_time": "2023-04-04T22:28:40.216973",
     "status": "completed"
    },
    "tags": []
   },
   "outputs": [],
   "source": [
    "retinanet.classification_head = ClassificationModel(num_features_in, num_classes=1)\n",
    "retinanet.regression_head = RegressionModel(num_features_in)\n",
    "retinanet.to(device);"
   ]
  },
  {
   "cell_type": "markdown",
   "id": "44dd2770",
   "metadata": {
    "id": "Y1AIBZ5YlX09",
    "papermill": {
     "duration": 0.045042,
     "end_time": "2023-04-04T22:28:40.412407",
     "exception": false,
     "start_time": "2023-04-04T22:28:40.367365",
     "status": "completed"
    },
    "tags": []
   },
   "source": [
    "Во-вторых, потребуется функция для переключения модулей нашей сети в режим обучения; сделаем так, чтобы можно было учить отдельные модули.\n",
    "\n",
    "**Вопрос**: зачем \"замораживать\" BN?"
   ]
  },
  {
   "cell_type": "code",
   "execution_count": 37,
   "id": "921e478a",
   "metadata": {
    "execution": {
     "iopub.execute_input": "2023-04-04T22:28:40.500592Z",
     "iopub.status.busy": "2023-04-04T22:28:40.499539Z",
     "iopub.status.idle": "2023-04-04T22:28:40.509083Z",
     "shell.execute_reply": "2023-04-04T22:28:40.507914Z"
    },
    "id": "Je28r0dKlX09",
    "papermill": {
     "duration": 0.054323,
     "end_time": "2023-04-04T22:28:40.511260",
     "exception": false,
     "start_time": "2023-04-04T22:28:40.456937",
     "status": "completed"
    },
    "tags": []
   },
   "outputs": [],
   "source": [
    "def set_to_training(model, backbone=False, fpn=False, regression_head=True, classification_head=True, freeze_bn=False):\n",
    "    model.train()\n",
    "    model.requires_grad_(True)\n",
    "    \n",
    "    if not backbone:\n",
    "        model.backbone.eval()\n",
    "        model.backbone.requires_grad_(False)\n",
    "    \n",
    "    elif freeze_bn:\n",
    "        for layer in model.backbone.modules():\n",
    "            if isinstance(layer, nn.BatchNorm2d):\n",
    "                layer.eval()\n",
    "    \n",
    "    if not fpn:\n",
    "        model.fpn.eval()\n",
    "        model.fpn.requires_grad_(False)\n",
    "    \n",
    "    if not regression_head:\n",
    "        model.regression_head.eval()\n",
    "        model.regression_head.requires_grad_(False)\n",
    "\n",
    "    if not classification_head:\n",
    "        model.classification_head.eval()\n",
    "        model.classification_head.requires_grad_(False)"
   ]
  },
  {
   "cell_type": "markdown",
   "id": "c5b92419",
   "metadata": {
    "id": "gVon4FwelX0-",
    "papermill": {
     "duration": 0.040225,
     "end_time": "2023-04-04T22:28:40.592281",
     "exception": false,
     "start_time": "2023-04-04T22:28:40.552056",
     "status": "completed"
    },
    "tags": []
   },
   "source": [
    "И простая функция для обучения на 1 эпохе."
   ]
  },
  {
   "cell_type": "code",
   "execution_count": 38,
   "id": "1e81a011",
   "metadata": {
    "execution": {
     "iopub.execute_input": "2023-04-04T22:28:40.676124Z",
     "iopub.status.busy": "2023-04-04T22:28:40.675798Z",
     "iopub.status.idle": "2023-04-04T22:28:40.688148Z",
     "shell.execute_reply": "2023-04-04T22:28:40.687134Z"
    },
    "id": "idG4lE2JlX0-",
    "papermill": {
     "duration": 0.057126,
     "end_time": "2023-04-04T22:28:40.690644",
     "exception": false,
     "start_time": "2023-04-04T22:28:40.633518",
     "status": "completed"
    },
    "tags": []
   },
   "outputs": [],
   "source": [
    "import numpy as np\n",
    "from mean_average_precision import MetricBuilder\n",
    "import gc"
   ]
  },
  {
   "cell_type": "code",
   "execution_count": 39,
   "id": "ce00add4",
   "metadata": {
    "execution": {
     "iopub.execute_input": "2023-04-04T22:28:40.773193Z",
     "iopub.status.busy": "2023-04-04T22:28:40.772870Z",
     "iopub.status.idle": "2023-04-04T22:28:40.786387Z",
     "shell.execute_reply": "2023-04-04T22:28:40.785207Z"
    },
    "id": "_qfVXmLylX0-",
    "papermill": {
     "duration": 0.057643,
     "end_time": "2023-04-04T22:28:40.788727",
     "exception": false,
     "start_time": "2023-04-04T22:28:40.731084",
     "status": "completed"
    },
    "tags": []
   },
   "outputs": [],
   "source": [
    "def val_step(model, dataloader):\n",
    "    model.eval()\n",
    "    metric_fn = MetricBuilder.build_evaluation_metric(\"map_2d\", async_mode=False, num_classes=1)\n",
    "    for iter_num, data in tqdm.tqdm(enumerate(dataloader), total=len(dataloader)):\n",
    "      for img, gt in zip(data['img'], data['annot']):\n",
    "        with torch.no_grad():\n",
    "          nms_scores, nms_classes, bboxes = model(img.unsqueeze(0))\n",
    "        preds = torch.cat([bboxes, nms_classes.unsqueeze(0).T, nms_scores.unsqueeze(0).T], dim = 1).cpu().detach().numpy()\n",
    "        zeros = torch.zeros((gt.shape[0], 1))\n",
    "        gt = torch.cat([gt, zeros, zeros], 1).cpu().detach().numpy()\n",
    "        metric_fn.add(preds, gt)\n",
    "\n",
    "        del img, gt, preds, zeros, nms_scores, nms_classes, bboxes\n",
    "      gc.collect()\n",
    "      torch.cuda.empty_cache()\n",
    "    print(f\"validation mAP in all points: {metric_fn.value(iou_thresholds=0.5)['mAP']}\")\n",
    "\n",
    "    \n",
    "def routine(retina_model, scheduler, train_loader, val_loader):\n",
    "    epoch_loss = []\n",
    "    torch.cuda.empty_cache()\n",
    "    for iter_num, data in tqdm.tqdm(enumerate(train_dataloader), total=len(train_dataloader)):\n",
    "        \n",
    "        optimizer.zero_grad()\n",
    "        \n",
    "        classification_loss, regression_loss = retina_model([data['img'].to(device).float(), data['annot'].to(device)])\n",
    "        classification_loss = classification_loss.mean()\n",
    "        regression_loss = regression_loss.mean()\n",
    "\n",
    "        loss = classification_loss + regression_loss\n",
    "\n",
    "        if bool(loss == 0):\n",
    "            continue\n",
    "\n",
    "        loss.backward()\n",
    "        torch.nn.utils.clip_grad_norm_(retina_model.parameters(), 0.1)\n",
    "        optimizer.step()\n",
    "\n",
    "        epoch_loss.append(float(loss.item()))\n",
    "        del data\n",
    "\n",
    "    gc.collect()\n",
    "    torch.cuda.empty_cache()\n",
    "        \n",
    "    print('Epoch: {} | Iteration: {} | Train classification loss: {:1.5f} | train regression loss: {:1.5f} | Epoch loss: {:1.5f}'\\\n",
    "          .format(epoch_num, iter_num, float(classification_loss), float(regression_loss), np.mean(epoch_loss)))\n",
    "    scheduler.step(np.mean(epoch_loss)) # should be val loss"
   ]
  },
  {
   "cell_type": "markdown",
   "id": "3efc1a01",
   "metadata": {
    "id": "4D52JGESlX0-",
    "papermill": {
     "duration": 0.04139,
     "end_time": "2023-04-04T22:28:40.870938",
     "exception": false,
     "start_time": "2023-04-04T22:28:40.829548",
     "status": "completed"
    },
    "tags": []
   },
   "source": [
    "Сначала обучим только новые головы в течение 1 эпохи:"
   ]
  },
  {
   "cell_type": "code",
   "execution_count": 40,
   "id": "21c984b8",
   "metadata": {
    "execution": {
     "iopub.execute_input": "2023-04-04T22:28:40.956290Z",
     "iopub.status.busy": "2023-04-04T22:28:40.955333Z",
     "iopub.status.idle": "2023-04-04T22:28:40.965159Z",
     "shell.execute_reply": "2023-04-04T22:28:40.964184Z"
    },
    "id": "jumlYSGjlX0_",
    "papermill": {
     "duration": 0.05537,
     "end_time": "2023-04-04T22:28:40.967501",
     "exception": false,
     "start_time": "2023-04-04T22:28:40.912131",
     "status": "completed"
    },
    "tags": []
   },
   "outputs": [],
   "source": [
    "set_to_training(retinanet, backbone=False, fpn=False, regression_head=True, classification_head=True, freeze_bn=True)"
   ]
  },
  {
   "cell_type": "code",
   "execution_count": 41,
   "id": "b444009c",
   "metadata": {
    "execution": {
     "iopub.execute_input": "2023-04-04T22:28:41.054520Z",
     "iopub.status.busy": "2023-04-04T22:28:41.054122Z",
     "iopub.status.idle": "2023-04-04T22:28:41.061609Z",
     "shell.execute_reply": "2023-04-04T22:28:41.060447Z"
    },
    "id": "-GsqnygJlX0_",
    "papermill": {
     "duration": 0.054965,
     "end_time": "2023-04-04T22:28:41.064065",
     "exception": false,
     "start_time": "2023-04-04T22:28:41.009100",
     "status": "completed"
    },
    "tags": []
   },
   "outputs": [],
   "source": [
    "params = [p for p in retinanet.parameters() if p.requires_grad]\n",
    "optimizer = torch.optim.Adam(params, lr=3e-4)\n",
    "scheduler = torch.optim.lr_scheduler.ReduceLROnPlateau(optimizer, patience=3, verbose=True)"
   ]
  },
  {
   "cell_type": "code",
   "execution_count": 42,
   "id": "75f58639",
   "metadata": {
    "execution": {
     "iopub.execute_input": "2023-04-04T22:28:41.152383Z",
     "iopub.status.busy": "2023-04-04T22:28:41.151297Z",
     "iopub.status.idle": "2023-04-04T22:28:41.157189Z",
     "shell.execute_reply": "2023-04-04T22:28:41.156151Z"
    },
    "id": "vrXTmhhulX0_",
    "papermill": {
     "duration": 0.05237,
     "end_time": "2023-04-04T22:28:41.159585",
     "exception": false,
     "start_time": "2023-04-04T22:28:41.107215",
     "status": "completed"
    },
    "tags": []
   },
   "outputs": [],
   "source": [
    "# epochs = 1\n",
    "# for epoch_num in range(epochs):\n",
    "#     routine(retinanet, scheduler, train_dataloader, val_dataloader)"
   ]
  },
  {
   "cell_type": "code",
   "execution_count": 43,
   "id": "6f931cd8",
   "metadata": {
    "execution": {
     "iopub.execute_input": "2023-04-04T22:28:41.244371Z",
     "iopub.status.busy": "2023-04-04T22:28:41.243404Z",
     "iopub.status.idle": "2023-04-04T22:28:41.248796Z",
     "shell.execute_reply": "2023-04-04T22:28:41.247685Z"
    },
    "id": "LgJRxDRylX0_",
    "papermill": {
     "duration": 0.04962,
     "end_time": "2023-04-04T22:28:41.250962",
     "exception": false,
     "start_time": "2023-04-04T22:28:41.201342",
     "status": "completed"
    },
    "tags": []
   },
   "outputs": [],
   "source": [
    "# val_step(retinanet, val_dataloader)"
   ]
  },
  {
   "cell_type": "markdown",
   "id": "4607f341",
   "metadata": {
    "id": "7omqapcLlX0_",
    "papermill": {
     "duration": 0.042318,
     "end_time": "2023-04-04T22:28:41.334531",
     "exception": false,
     "start_time": "2023-04-04T22:28:41.292213",
     "status": "completed"
    },
    "tags": []
   },
   "source": [
    "И потом обучим всю сеть (с \"замороженными\" BN) - уже подольше."
   ]
  },
  {
   "cell_type": "code",
   "execution_count": 44,
   "id": "2e4ac7ad",
   "metadata": {
    "execution": {
     "iopub.execute_input": "2023-04-04T22:28:41.418984Z",
     "iopub.status.busy": "2023-04-04T22:28:41.418586Z",
     "iopub.status.idle": "2023-04-04T22:28:41.426088Z",
     "shell.execute_reply": "2023-04-04T22:28:41.424870Z"
    },
    "id": "0SO2dCW-lX0_",
    "papermill": {
     "duration": 0.051812,
     "end_time": "2023-04-04T22:28:41.428175",
     "exception": false,
     "start_time": "2023-04-04T22:28:41.376363",
     "status": "completed"
    },
    "tags": []
   },
   "outputs": [],
   "source": [
    "set_to_training(retinanet, backbone=True, fpn=True, regression_head=True, classification_head=True, freeze_bn=False)"
   ]
  },
  {
   "cell_type": "code",
   "execution_count": 45,
   "id": "4aecf0a2",
   "metadata": {
    "execution": {
     "iopub.execute_input": "2023-04-04T22:28:41.511591Z",
     "iopub.status.busy": "2023-04-04T22:28:41.510718Z",
     "iopub.status.idle": "2023-04-04T22:28:41.518383Z",
     "shell.execute_reply": "2023-04-04T22:28:41.517374Z"
    },
    "id": "8BBsfgFElX0_",
    "papermill": {
     "duration": 0.05147,
     "end_time": "2023-04-04T22:28:41.520539",
     "exception": false,
     "start_time": "2023-04-04T22:28:41.469069",
     "status": "completed"
    },
    "tags": []
   },
   "outputs": [],
   "source": [
    "params = [p for p in retinanet.parameters() if p.requires_grad]\n",
    "optimizer = torch.optim.Adam(params, lr=3e-4)\n",
    "scheduler = torch.optim.lr_scheduler.ReduceLROnPlateau(optimizer, patience=3, verbose=True)"
   ]
  },
  {
   "cell_type": "code",
   "execution_count": 46,
   "id": "f2bcdfec",
   "metadata": {
    "execution": {
     "iopub.execute_input": "2023-04-04T22:28:41.603707Z",
     "iopub.status.busy": "2023-04-04T22:28:41.602627Z",
     "iopub.status.idle": "2023-04-04T22:28:41.608371Z",
     "shell.execute_reply": "2023-04-04T22:28:41.607374Z"
    },
    "id": "LExKbeFTlX0_",
    "papermill": {
     "duration": 0.049607,
     "end_time": "2023-04-04T22:28:41.610621",
     "exception": false,
     "start_time": "2023-04-04T22:28:41.561014",
     "status": "completed"
    },
    "tags": []
   },
   "outputs": [],
   "source": [
    "# epochs = 4\n",
    "# for epoch_num in range(epochs):\n",
    "#     routine(retinanet, scheduler, train_dataloader, val_dataloader)\n",
    "    \n",
    "#     if epoch_num % 10 == 0 or epoch_num + 1 == epochs:\n",
    "#         torch.save(retinanet.state_dict(), f\"dev_balls_retinanet_{epoch_num}.pt\")        "
   ]
  },
  {
   "cell_type": "code",
   "execution_count": 47,
   "id": "2daab767",
   "metadata": {
    "execution": {
     "iopub.execute_input": "2023-04-04T22:28:41.696449Z",
     "iopub.status.busy": "2023-04-04T22:28:41.696131Z",
     "iopub.status.idle": "2023-04-04T22:28:41.700941Z",
     "shell.execute_reply": "2023-04-04T22:28:41.699908Z"
    },
    "id": "hNpIJu3FvM86",
    "papermill": {
     "duration": 0.051025,
     "end_time": "2023-04-04T22:28:41.703170",
     "exception": false,
     "start_time": "2023-04-04T22:28:41.652145",
     "status": "completed"
    },
    "tags": []
   },
   "outputs": [],
   "source": [
    "# val_step(retinanet, val_dataloader)"
   ]
  },
  {
   "cell_type": "markdown",
   "id": "4eec972d",
   "metadata": {
    "id": "R9HfBgtnlX0_",
    "papermill": {
     "duration": 0.041032,
     "end_time": "2023-04-04T22:28:41.785089",
     "exception": false,
     "start_time": "2023-04-04T22:28:41.744057",
     "status": "completed"
    },
    "tags": []
   },
   "source": [
    "Для иллюстрации результатов выберем случайные изображения из выборки и отрисуем предсказания."
   ]
  },
  {
   "cell_type": "code",
   "execution_count": 48,
   "id": "e63bd955",
   "metadata": {
    "execution": {
     "iopub.execute_input": "2023-04-04T22:28:41.869196Z",
     "iopub.status.busy": "2023-04-04T22:28:41.868103Z",
     "iopub.status.idle": "2023-04-04T22:28:42.001536Z",
     "shell.execute_reply": "2023-04-04T22:28:42.000293Z"
    },
    "id": "xKDOiBBFlX0_",
    "outputId": "c23747e4-f4bf-497a-d757-e34aa39f3c4c",
    "papermill": {
     "duration": 0.179204,
     "end_time": "2023-04-04T22:28:42.004628",
     "exception": false,
     "start_time": "2023-04-04T22:28:41.825424",
     "status": "completed"
    },
    "tags": []
   },
   "outputs": [
    {
     "data": {
      "text/plain": [
       "<All keys matched successfully>"
      ]
     },
     "execution_count": 48,
     "metadata": {},
     "output_type": "execute_result"
    }
   ],
   "source": [
    "with open(\"./seminar_objdet_retina_oi5_ball/oi5_ball_retinanet_ep=10.pt\", \"rb\") as fp:\n",
    "    state_dict = torch.load(fp, map_location=\"cpu\")\n",
    "retinanet.load_state_dict(state_dict)"
   ]
  },
  {
   "cell_type": "code",
   "execution_count": 49,
   "id": "1f21d6ce",
   "metadata": {
    "execution": {
     "iopub.execute_input": "2023-04-04T22:28:42.096325Z",
     "iopub.status.busy": "2023-04-04T22:28:42.095220Z",
     "iopub.status.idle": "2023-04-04T22:28:42.102588Z",
     "shell.execute_reply": "2023-04-04T22:28:42.101537Z"
    },
    "id": "xcAh4XN3lX1A",
    "papermill": {
     "duration": 0.055652,
     "end_time": "2023-04-04T22:28:42.105056",
     "exception": false,
     "start_time": "2023-04-04T22:28:42.049404",
     "status": "completed"
    },
    "tags": []
   },
   "outputs": [],
   "source": [
    "retinanet.eval();"
   ]
  },
  {
   "cell_type": "code",
   "execution_count": 50,
   "id": "e54a6882",
   "metadata": {
    "execution": {
     "iopub.execute_input": "2023-04-04T22:28:42.194533Z",
     "iopub.status.busy": "2023-04-04T22:28:42.193514Z",
     "iopub.status.idle": "2023-04-04T22:29:36.352995Z",
     "shell.execute_reply": "2023-04-04T22:29:36.351727Z"
    },
    "id": "YbWTXMtR2Gl-",
    "outputId": "0476160e-51d1-4eff-b1d4-c810c1c1a451",
    "papermill": {
     "duration": 54.207229,
     "end_time": "2023-04-04T22:29:36.356056",
     "exception": false,
     "start_time": "2023-04-04T22:28:42.148827",
     "status": "completed"
    },
    "tags": []
   },
   "outputs": [
    {
     "name": "stderr",
     "output_type": "stream",
     "text": [
      "100%|██████████| 57/57 [00:53<00:00,  1.06it/s]"
     ]
    },
    {
     "name": "stdout",
     "output_type": "stream",
     "text": [
      "validation mAP in all points: 0.41292092204093933\n"
     ]
    },
    {
     "name": "stderr",
     "output_type": "stream",
     "text": [
      "\n"
     ]
    }
   ],
   "source": [
    "val_step(retinanet, val_dataloader)"
   ]
  },
  {
   "cell_type": "code",
   "execution_count": 51,
   "id": "e33678be",
   "metadata": {
    "execution": {
     "iopub.execute_input": "2023-04-04T22:29:36.446284Z",
     "iopub.status.busy": "2023-04-04T22:29:36.445961Z",
     "iopub.status.idle": "2023-04-04T22:29:44.607186Z",
     "shell.execute_reply": "2023-04-04T22:29:44.606090Z"
    },
    "id": "fVEOHV-xlX1A",
    "outputId": "375084f2-b1cb-4d9d-caf0-4a0f111bdf7d",
    "papermill": {
     "duration": 8.209043,
     "end_time": "2023-04-04T22:29:44.609966",
     "exception": false,
     "start_time": "2023-04-04T22:29:36.400923",
     "status": "completed"
    },
    "tags": []
   },
   "outputs": [],
   "source": [
    "%%capture\n",
    "for i in range(10):\n",
    "    index = np.random.randint(len(train_dataset))\n",
    "    tensor = train_dataset[index][\"img\"].unsqueeze(0)\n",
    "    run_and_show(retinanet, tensor, 0.5, {0: \"ball\"}, verbose=True)"
   ]
  },
  {
   "cell_type": "markdown",
   "id": "3b70099a",
   "metadata": {
    "id": "QtlymSozlX1A",
    "papermill": {
     "duration": 0.045575,
     "end_time": "2023-04-04T22:29:44.700491",
     "exception": false,
     "start_time": "2023-04-04T22:29:44.654916",
     "status": "completed"
    },
    "tags": []
   },
   "source": [
    "Пример из валидации:"
   ]
  },
  {
   "cell_type": "code",
   "execution_count": 52,
   "id": "27ae5c9f",
   "metadata": {
    "execution": {
     "iopub.execute_input": "2023-04-04T22:29:44.790625Z",
     "iopub.status.busy": "2023-04-04T22:29:44.790248Z",
     "iopub.status.idle": "2023-04-04T22:29:52.182254Z",
     "shell.execute_reply": "2023-04-04T22:29:52.181036Z"
    },
    "id": "WmirOjA1lX1A",
    "outputId": "6bcace4e-2daf-42e5-b402-bbfbec0ea545",
    "papermill": {
     "duration": 7.439751,
     "end_time": "2023-04-04T22:29:52.184927",
     "exception": false,
     "start_time": "2023-04-04T22:29:44.745176",
     "status": "completed"
    },
    "tags": []
   },
   "outputs": [],
   "source": [
    "%%capture\n",
    "for i in range(10):\n",
    "    index = np.random.randint(len(val_dataset))\n",
    "    tensor = val_dataset[index][\"img\"].unsqueeze(0)\n",
    "    run_and_show(retinanet, tensor, 0.5, {0: \"ball\"}, verbose=True)"
   ]
  },
  {
   "cell_type": "markdown",
   "id": "24aeddce",
   "metadata": {
    "id": "9OgZB-KylX1A",
    "papermill": {
     "duration": 0.043593,
     "end_time": "2023-04-04T22:29:52.273764",
     "exception": false,
     "start_time": "2023-04-04T22:29:52.230171",
     "status": "completed"
    },
    "tags": []
   },
   "source": [
    "### Резюме"
   ]
  },
  {
   "cell_type": "markdown",
   "id": "abb2f55f",
   "metadata": {
    "id": "j8MHtJZclX1A",
    "papermill": {
     "duration": 0.044342,
     "end_time": "2023-04-04T22:29:52.363714",
     "exception": false,
     "start_time": "2023-04-04T22:29:52.319372",
     "status": "completed"
    },
    "tags": []
   },
   "source": [
    "Если бы мы учили детектор для какой-то конкретной задачи, то:\n",
    "\n",
    "1. Учились бы на нескольких `GPU` (для адекватного размера батча)\n",
    "2. Более аккуратно подбирали якорные боксы\n",
    "3. По возможности использовали библиотечные модели (а не кустарные)"
   ]
  },
  {
   "cell_type": "markdown",
   "id": "7930f9a9",
   "metadata": {
    "id": "RA3eIMrIyRoZ",
    "papermill": {
     "duration": 0.044009,
     "end_time": "2023-04-04T22:29:52.452176",
     "exception": false,
     "start_time": "2023-04-04T22:29:52.408167",
     "status": "completed"
    },
    "tags": []
   },
   "source": [
    "### Домшниее задание\n",
    "\n",
    "Решить задачу детекции мячей с помощью другой модели\n",
    "1. потребуется загрузить предобученную модель: https://pytorch.org/vision/stable/models.html , https://paperswithcode.com/sota/object-detection-on-coco\n",
    "2. Создать класс датасета и даталоадера\n",
    "3. Добавить аугментаций\n",
    "4. Дообучить несколько эпох и посмотреть на качество"
   ]
  },
  {
   "cell_type": "code",
   "execution_count": 53,
   "id": "88728be2",
   "metadata": {
    "execution": {
     "iopub.execute_input": "2023-04-04T22:29:52.542973Z",
     "iopub.status.busy": "2023-04-04T22:29:52.541766Z",
     "iopub.status.idle": "2023-04-04T22:30:07.239798Z",
     "shell.execute_reply": "2023-04-04T22:30:07.238416Z"
    },
    "id": "2kbMEmkILe7g",
    "outputId": "a45c8790-7e99-4e4a-ba6b-256db7c9557c",
    "papermill": {
     "duration": 14.746598,
     "end_time": "2023-04-04T22:30:07.242745",
     "exception": false,
     "start_time": "2023-04-04T22:29:52.496147",
     "status": "completed"
    },
    "tags": []
   },
   "outputs": [],
   "source": [
    "%%capture\n",
    "!pip install boto3"
   ]
  },
  {
   "cell_type": "code",
   "execution_count": 54,
   "id": "fec5c360",
   "metadata": {
    "execution": {
     "iopub.execute_input": "2023-04-04T22:30:07.335907Z",
     "iopub.status.busy": "2023-04-04T22:30:07.334990Z",
     "iopub.status.idle": "2023-04-04T22:30:08.164774Z",
     "shell.execute_reply": "2023-04-04T22:30:08.163693Z"
    },
    "id": "yOx7IeKalX1A",
    "papermill": {
     "duration": 0.879893,
     "end_time": "2023-04-04T22:30:08.168048",
     "exception": false,
     "start_time": "2023-04-04T22:30:07.288155",
     "status": "completed"
    },
    "tags": []
   },
   "outputs": [],
   "source": [
    "from torchvision.models.detection import ssdlite320_mobilenet_v3_large, SSDLite320_MobileNet_V3_Large_Weights\n",
    "import pandas as pd\n",
    "from tqdm import tqdm\n",
    "import PIL\n",
    "import torchvision.utils as vutils\n",
    "from torchvision.models.detection import fcos_resnet50_fpn, FCOS_ResNet50_FPN_Weights\n",
    "import albumentations as A\n",
    "import cv2"
   ]
  },
  {
   "cell_type": "code",
   "execution_count": 55,
   "id": "ff47a175",
   "metadata": {
    "execution": {
     "iopub.execute_input": "2023-04-04T22:30:08.260315Z",
     "iopub.status.busy": "2023-04-04T22:30:08.259971Z",
     "iopub.status.idle": "2023-04-04T22:30:08.268363Z",
     "shell.execute_reply": "2023-04-04T22:30:08.267183Z"
    },
    "id": "oUHc4dMLCnBC",
    "outputId": "a1f83e4c-7634-44b2-d68e-aa5cffd9a002",
    "papermill": {
     "duration": 0.056601,
     "end_time": "2023-04-04T22:30:08.270613",
     "exception": false,
     "start_time": "2023-04-04T22:30:08.214012",
     "status": "completed"
    },
    "tags": []
   },
   "outputs": [
    {
     "name": "stdout",
     "output_type": "stream",
     "text": [
      "/kaggle/working\n"
     ]
    }
   ],
   "source": [
    "%cd /kaggle/working/"
   ]
  },
  {
   "cell_type": "code",
   "execution_count": 56,
   "id": "7064cd9c",
   "metadata": {
    "execution": {
     "iopub.execute_input": "2023-04-04T22:30:08.361286Z",
     "iopub.status.busy": "2023-04-04T22:30:08.360934Z",
     "iopub.status.idle": "2023-04-04T22:30:15.251757Z",
     "shell.execute_reply": "2023-04-04T22:30:15.250269Z"
    },
    "id": "5u5sw80BDsor",
    "outputId": "64b3e51b-8f03-4308-86dd-0d0e8b843d83",
    "papermill": {
     "duration": 6.939383,
     "end_time": "2023-04-04T22:30:15.254658",
     "exception": false,
     "start_time": "2023-04-04T22:30:08.315275",
     "status": "completed"
    },
    "tags": []
   },
   "outputs": [],
   "source": [
    "%%capture\n",
    "!wget https://raw.githubusercontent.com/openimages/dataset/master/downloader.py\n",
    "!wget https://storage.googleapis.com/openimages/2018_04/validation/validation-images-with-rotation.csv\n",
    "!wget https://storage.googleapis.com/openimages/v5/validation-annotations-human-imagelabels-boxable.csv\n",
    "!wget https://storage.googleapis.com/openimages/v5/validation-annotations-bbox.csv\n",
    "!wget https://storage.googleapis.com/openimages/v7/oidv7-class-descriptions-boxable.csv"
   ]
  },
  {
   "cell_type": "code",
   "execution_count": 57,
   "id": "1d068631",
   "metadata": {
    "execution": {
     "iopub.execute_input": "2023-04-04T22:30:15.363647Z",
     "iopub.status.busy": "2023-04-04T22:30:15.362833Z",
     "iopub.status.idle": "2023-04-04T22:30:51.235802Z",
     "shell.execute_reply": "2023-04-04T22:30:51.234491Z"
    },
    "id": "6sDOUpu7FfBn",
    "outputId": "f9ba602c-bd41-4853-8e7c-ee0ada0e7087",
    "papermill": {
     "duration": 35.971328,
     "end_time": "2023-04-04T22:30:51.283202",
     "exception": false,
     "start_time": "2023-04-04T22:30:15.311874",
     "status": "completed"
    },
    "tags": []
   },
   "outputs": [
    {
     "data": {
      "text/html": [
       "<div>\n",
       "<style scoped>\n",
       "    .dataframe tbody tr th:only-of-type {\n",
       "        vertical-align: middle;\n",
       "    }\n",
       "\n",
       "    .dataframe tbody tr th {\n",
       "        vertical-align: top;\n",
       "    }\n",
       "\n",
       "    .dataframe thead th {\n",
       "        text-align: right;\n",
       "    }\n",
       "</style>\n",
       "<table border=\"1\" class=\"dataframe\">\n",
       "  <thead>\n",
       "    <tr style=\"text-align: right;\">\n",
       "      <th></th>\n",
       "      <th>ImageID</th>\n",
       "      <th>Source</th>\n",
       "      <th>LabelName</th>\n",
       "      <th>Confidence</th>\n",
       "      <th>XMin</th>\n",
       "      <th>XMax</th>\n",
       "      <th>YMin</th>\n",
       "      <th>YMax</th>\n",
       "      <th>IsOccluded</th>\n",
       "      <th>IsTruncated</th>\n",
       "      <th>IsGroupOf</th>\n",
       "      <th>IsDepiction</th>\n",
       "      <th>IsInside</th>\n",
       "      <th>y</th>\n",
       "    </tr>\n",
       "  </thead>\n",
       "  <tbody>\n",
       "    <tr>\n",
       "      <th>427</th>\n",
       "      <td>0052ea56ee869426</td>\n",
       "      <td>xclick</td>\n",
       "      <td>/m/018xm</td>\n",
       "      <td>1</td>\n",
       "      <td>0.000000</td>\n",
       "      <td>0.337500</td>\n",
       "      <td>0.033333</td>\n",
       "      <td>0.835417</td>\n",
       "      <td>0</td>\n",
       "      <td>1</td>\n",
       "      <td>0</td>\n",
       "      <td>0</td>\n",
       "      <td>0</td>\n",
       "      <td>True</td>\n",
       "    </tr>\n",
       "    <tr>\n",
       "      <th>428</th>\n",
       "      <td>0052ea56ee869426</td>\n",
       "      <td>xclick</td>\n",
       "      <td>/m/018xm</td>\n",
       "      <td>1</td>\n",
       "      <td>0.526563</td>\n",
       "      <td>0.848437</td>\n",
       "      <td>0.229167</td>\n",
       "      <td>0.658333</td>\n",
       "      <td>0</td>\n",
       "      <td>0</td>\n",
       "      <td>0</td>\n",
       "      <td>0</td>\n",
       "      <td>0</td>\n",
       "      <td>True</td>\n",
       "    </tr>\n",
       "    <tr>\n",
       "      <th>2542</th>\n",
       "      <td>01eeeccf29b85fa0</td>\n",
       "      <td>xclick</td>\n",
       "      <td>/m/018xm</td>\n",
       "      <td>1</td>\n",
       "      <td>0.343750</td>\n",
       "      <td>0.951562</td>\n",
       "      <td>0.079167</td>\n",
       "      <td>0.881250</td>\n",
       "      <td>0</td>\n",
       "      <td>0</td>\n",
       "      <td>0</td>\n",
       "      <td>0</td>\n",
       "      <td>0</td>\n",
       "      <td>True</td>\n",
       "    </tr>\n",
       "    <tr>\n",
       "      <th>2949</th>\n",
       "      <td>022caa5e84da4026</td>\n",
       "      <td>xclick</td>\n",
       "      <td>/m/018xm</td>\n",
       "      <td>1</td>\n",
       "      <td>0.345029</td>\n",
       "      <td>0.387427</td>\n",
       "      <td>0.162946</td>\n",
       "      <td>0.223214</td>\n",
       "      <td>1</td>\n",
       "      <td>0</td>\n",
       "      <td>0</td>\n",
       "      <td>0</td>\n",
       "      <td>0</td>\n",
       "      <td>True</td>\n",
       "    </tr>\n",
       "    <tr>\n",
       "      <th>3194</th>\n",
       "      <td>02760ace01bd113f</td>\n",
       "      <td>xclick</td>\n",
       "      <td>/m/018xm</td>\n",
       "      <td>1</td>\n",
       "      <td>0.000000</td>\n",
       "      <td>1.000000</td>\n",
       "      <td>0.000000</td>\n",
       "      <td>1.000000</td>\n",
       "      <td>0</td>\n",
       "      <td>0</td>\n",
       "      <td>1</td>\n",
       "      <td>0</td>\n",
       "      <td>0</td>\n",
       "      <td>True</td>\n",
       "    </tr>\n",
       "    <tr>\n",
       "      <th>...</th>\n",
       "      <td>...</td>\n",
       "      <td>...</td>\n",
       "      <td>...</td>\n",
       "      <td>...</td>\n",
       "      <td>...</td>\n",
       "      <td>...</td>\n",
       "      <td>...</td>\n",
       "      <td>...</td>\n",
       "      <td>...</td>\n",
       "      <td>...</td>\n",
       "      <td>...</td>\n",
       "      <td>...</td>\n",
       "      <td>...</td>\n",
       "      <td>...</td>\n",
       "    </tr>\n",
       "    <tr>\n",
       "      <th>298384</th>\n",
       "      <td>fb3fed6d3c8c3276</td>\n",
       "      <td>xclick</td>\n",
       "      <td>/m/018xm</td>\n",
       "      <td>1</td>\n",
       "      <td>0.228125</td>\n",
       "      <td>0.301563</td>\n",
       "      <td>0.116667</td>\n",
       "      <td>0.218750</td>\n",
       "      <td>0</td>\n",
       "      <td>0</td>\n",
       "      <td>0</td>\n",
       "      <td>0</td>\n",
       "      <td>0</td>\n",
       "      <td>True</td>\n",
       "    </tr>\n",
       "    <tr>\n",
       "      <th>298385</th>\n",
       "      <td>fb3fed6d3c8c3276</td>\n",
       "      <td>xclick</td>\n",
       "      <td>/m/018xm</td>\n",
       "      <td>1</td>\n",
       "      <td>0.485938</td>\n",
       "      <td>0.515625</td>\n",
       "      <td>0.152083</td>\n",
       "      <td>0.193750</td>\n",
       "      <td>0</td>\n",
       "      <td>0</td>\n",
       "      <td>0</td>\n",
       "      <td>0</td>\n",
       "      <td>0</td>\n",
       "      <td>True</td>\n",
       "    </tr>\n",
       "    <tr>\n",
       "      <th>298386</th>\n",
       "      <td>fb3fed6d3c8c3276</td>\n",
       "      <td>xclick</td>\n",
       "      <td>/m/018xm</td>\n",
       "      <td>1</td>\n",
       "      <td>0.768750</td>\n",
       "      <td>0.934375</td>\n",
       "      <td>0.260417</td>\n",
       "      <td>0.477083</td>\n",
       "      <td>0</td>\n",
       "      <td>0</td>\n",
       "      <td>0</td>\n",
       "      <td>0</td>\n",
       "      <td>0</td>\n",
       "      <td>True</td>\n",
       "    </tr>\n",
       "    <tr>\n",
       "      <th>300379</th>\n",
       "      <td>fd1150844d3a7732</td>\n",
       "      <td>xclick</td>\n",
       "      <td>/m/018xm</td>\n",
       "      <td>1</td>\n",
       "      <td>0.408555</td>\n",
       "      <td>0.532448</td>\n",
       "      <td>0.561947</td>\n",
       "      <td>0.745575</td>\n",
       "      <td>1</td>\n",
       "      <td>0</td>\n",
       "      <td>0</td>\n",
       "      <td>0</td>\n",
       "      <td>0</td>\n",
       "      <td>True</td>\n",
       "    </tr>\n",
       "    <tr>\n",
       "      <th>301103</th>\n",
       "      <td>fd64659b9f5af02a</td>\n",
       "      <td>xclick</td>\n",
       "      <td>/m/018xm</td>\n",
       "      <td>1</td>\n",
       "      <td>0.326951</td>\n",
       "      <td>0.964654</td>\n",
       "      <td>0.046563</td>\n",
       "      <td>1.000000</td>\n",
       "      <td>0</td>\n",
       "      <td>0</td>\n",
       "      <td>0</td>\n",
       "      <td>0</td>\n",
       "      <td>0</td>\n",
       "      <td>True</td>\n",
       "    </tr>\n",
       "  </tbody>\n",
       "</table>\n",
       "<p>343 rows × 14 columns</p>\n",
       "</div>"
      ],
      "text/plain": [
       "                 ImageID  Source LabelName  Confidence      XMin      XMax  \\\n",
       "427     0052ea56ee869426  xclick  /m/018xm           1  0.000000  0.337500   \n",
       "428     0052ea56ee869426  xclick  /m/018xm           1  0.526563  0.848437   \n",
       "2542    01eeeccf29b85fa0  xclick  /m/018xm           1  0.343750  0.951562   \n",
       "2949    022caa5e84da4026  xclick  /m/018xm           1  0.345029  0.387427   \n",
       "3194    02760ace01bd113f  xclick  /m/018xm           1  0.000000  1.000000   \n",
       "...                  ...     ...       ...         ...       ...       ...   \n",
       "298384  fb3fed6d3c8c3276  xclick  /m/018xm           1  0.228125  0.301563   \n",
       "298385  fb3fed6d3c8c3276  xclick  /m/018xm           1  0.485938  0.515625   \n",
       "298386  fb3fed6d3c8c3276  xclick  /m/018xm           1  0.768750  0.934375   \n",
       "300379  fd1150844d3a7732  xclick  /m/018xm           1  0.408555  0.532448   \n",
       "301103  fd64659b9f5af02a  xclick  /m/018xm           1  0.326951  0.964654   \n",
       "\n",
       "            YMin      YMax  IsOccluded  IsTruncated  IsGroupOf  IsDepiction  \\\n",
       "427     0.033333  0.835417           0            1          0            0   \n",
       "428     0.229167  0.658333           0            0          0            0   \n",
       "2542    0.079167  0.881250           0            0          0            0   \n",
       "2949    0.162946  0.223214           1            0          0            0   \n",
       "3194    0.000000  1.000000           0            0          1            0   \n",
       "...          ...       ...         ...          ...        ...          ...   \n",
       "298384  0.116667  0.218750           0            0          0            0   \n",
       "298385  0.152083  0.193750           0            0          0            0   \n",
       "298386  0.260417  0.477083           0            0          0            0   \n",
       "300379  0.561947  0.745575           1            0          0            0   \n",
       "301103  0.046563  1.000000           0            0          0            0   \n",
       "\n",
       "        IsInside     y  \n",
       "427            0  True  \n",
       "428            0  True  \n",
       "2542           0  True  \n",
       "2949           0  True  \n",
       "3194           0  True  \n",
       "...          ...   ...  \n",
       "298384         0  True  \n",
       "298385         0  True  \n",
       "298386         0  True  \n",
       "300379         0  True  \n",
       "301103         0  True  \n",
       "\n",
       "[343 rows x 14 columns]"
      ]
     },
     "execution_count": 57,
     "metadata": {},
     "output_type": "execute_result"
    }
   ],
   "source": [
    "df = pd.read_csv('validation-annotations-bbox.csv')\n",
    "# data = df[data.Confidence==1]\n",
    "gc.collect()\n",
    "df['y'] = df.LabelName=='/m/018xm'\n",
    "# mask = [(i<1000 or df.iloc[i].y==True) for i in range(df.shape[0])]\n",
    "mask = [(df.iloc[i].y==True) for i in range(df.shape[0])]\n",
    "df = df[mask]\n",
    "gc.collect()\n",
    "df.reset_index(drop=True)\n",
    "df"
   ]
  },
  {
   "cell_type": "code",
   "execution_count": 58,
   "id": "04cf2d0f",
   "metadata": {
    "execution": {
     "iopub.execute_input": "2023-04-04T22:30:51.377038Z",
     "iopub.status.busy": "2023-04-04T22:30:51.376184Z",
     "iopub.status.idle": "2023-04-04T22:30:51.384940Z",
     "shell.execute_reply": "2023-04-04T22:30:51.383954Z"
    },
    "id": "ZN8PopIQNfkA",
    "outputId": "9b031dd8-58dc-4daf-dd97-f529a4f5e96e",
    "papermill": {
     "duration": 0.058274,
     "end_time": "2023-04-04T22:30:51.387324",
     "exception": false,
     "start_time": "2023-04-04T22:30:51.329050",
     "status": "completed"
    },
    "tags": []
   },
   "outputs": [
    {
     "data": {
      "text/plain": [
       "343"
      ]
     },
     "execution_count": 58,
     "metadata": {},
     "output_type": "execute_result"
    }
   ],
   "source": [
    "df.y.sum()"
   ]
  },
  {
   "cell_type": "code",
   "execution_count": 59,
   "id": "ee4beaef",
   "metadata": {
    "execution": {
     "iopub.execute_input": "2023-04-04T22:30:51.480639Z",
     "iopub.status.busy": "2023-04-04T22:30:51.479599Z",
     "iopub.status.idle": "2023-04-04T22:30:51.491917Z",
     "shell.execute_reply": "2023-04-04T22:30:51.490536Z"
    },
    "id": "lF-XOeAmIHJo",
    "outputId": "5514a42e-95dd-445a-e5ff-e4cb1a366ca0",
    "papermill": {
     "duration": 0.060912,
     "end_time": "2023-04-04T22:30:51.494137",
     "exception": false,
     "start_time": "2023-04-04T22:30:51.433225",
     "status": "completed"
    },
    "tags": []
   },
   "outputs": [
    {
     "name": "stderr",
     "output_type": "stream",
     "text": [
      "100%|██████████| 343/343 [00:00<00:00, 261572.05it/s]\n"
     ]
    }
   ],
   "source": [
    "with open('filter.txt', 'w') as f:\n",
    "    for id in tqdm(df.ImageID):\n",
    "        f.write(f\"validation/{id}\\n\")"
   ]
  },
  {
   "cell_type": "code",
   "execution_count": 60,
   "id": "46e5a0ed",
   "metadata": {
    "execution": {
     "iopub.execute_input": "2023-04-04T22:30:51.588099Z",
     "iopub.status.busy": "2023-04-04T22:30:51.587436Z",
     "iopub.status.idle": "2023-04-04T22:31:12.917907Z",
     "shell.execute_reply": "2023-04-04T22:31:12.916516Z"
    },
    "id": "oAm4oiSeLQfx",
    "outputId": "f2fe34d4-aa3b-40ac-fb71-e7b4baecc727",
    "papermill": {
     "duration": 21.379363,
     "end_time": "2023-04-04T22:31:12.920763",
     "exception": false,
     "start_time": "2023-04-04T22:30:51.541400",
     "status": "completed"
    },
    "tags": []
   },
   "outputs": [
    {
     "name": "stdout",
     "output_type": "stream",
     "text": [
      "Downloading images: 100%|█████████████████████| 343/343 [00:19<00:00, 17.32it/s]\r\n"
     ]
    }
   ],
   "source": [
    "!python downloader.py filter.txt --download_folder=OpenImages --num_processes=2"
   ]
  },
  {
   "cell_type": "code",
   "execution_count": 61,
   "id": "4951e650",
   "metadata": {
    "execution": {
     "iopub.execute_input": "2023-04-04T22:31:13.031560Z",
     "iopub.status.busy": "2023-04-04T22:31:13.030520Z",
     "iopub.status.idle": "2023-04-04T22:31:16.058187Z",
     "shell.execute_reply": "2023-04-04T22:31:16.056957Z"
    },
    "id": "67ukZ540BadO",
    "papermill": {
     "duration": 3.086508,
     "end_time": "2023-04-04T22:31:16.061044",
     "exception": false,
     "start_time": "2023-04-04T22:31:12.974536",
     "status": "completed"
    },
    "tags": []
   },
   "outputs": [
    {
     "name": "stderr",
     "output_type": "stream",
     "text": [
      "Downloading: \"https://download.pytorch.org/models/fcos_resnet50_fpn_coco-99b0c9b7.pth\" to /root/.cache/torch/hub/checkpoints/fcos_resnet50_fpn_coco-99b0c9b7.pth\n"
     ]
    },
    {
     "data": {
      "application/vnd.jupyter.widget-view+json": {
       "model_id": "efd434f7ca0e4cc59c7a084f77506352",
       "version_major": 2,
       "version_minor": 0
      },
      "text/plain": [
       "  0%|          | 0.00/124M [00:00<?, ?B/s]"
      ]
     },
     "metadata": {},
     "output_type": "display_data"
    }
   ],
   "source": [
    "# weights = SSDLite320_MobileNet_V3_Large_Weights.DEFAULT\n",
    "# model = ssdlite320_mobilenet_v3_large(weights=weights,\n",
    "#                                       trainable_backbone_layers=4\n",
    "#                                       )\n",
    "weights = FCOS_ResNet50_FPN_Weights.COCO_V1\n",
    "model = fcos_resnet50_fpn(weights=weights, trainable_backbone_layers=1)"
   ]
  },
  {
   "cell_type": "code",
   "execution_count": 62,
   "id": "9064a90b",
   "metadata": {
    "execution": {
     "iopub.execute_input": "2023-04-04T22:31:16.174639Z",
     "iopub.status.busy": "2023-04-04T22:31:16.173959Z",
     "iopub.status.idle": "2023-04-04T22:31:16.188596Z",
     "shell.execute_reply": "2023-04-04T22:31:16.187398Z"
    },
    "id": "HZpUho3FBwU_",
    "papermill": {
     "duration": 0.072759,
     "end_time": "2023-04-04T22:31:16.190812",
     "exception": false,
     "start_time": "2023-04-04T22:31:16.118053",
     "status": "completed"
    },
    "tags": []
   },
   "outputs": [],
   "source": [
    "class CustomImageDataset(torch.utils.data.Dataset):\n",
    "    def __init__(self, img_dir, labels, alb_transform=None, transform=None):\n",
    "        self.img_dir = img_dir\n",
    "        self.labels = labels\n",
    "        \n",
    "        self.alb_transform = alb_transform\n",
    "        self.transform = transform\n",
    "\n",
    "    def __len__(self):\n",
    "        return self.labels.shape[0]\n",
    "\n",
    "    def __getitem__(self, idx):\n",
    "        img_path = os.path.join(self.img_dir, self.labels.iloc[idx].ImageID + '.jpg')\n",
    "#         print(img_path)\n",
    "        image = PIL.Image.open(img_path).convert('RGB')\n",
    "        label = np.array(self.labels[self.labels.ImageID==self.labels.iloc[idx].ImageID])[:, [4,5,6,7,13]]\n",
    "        # label[1]-=label[0]; label[3]-=label[2]\n",
    "        label = label[:, [0,2,1,3,4]]\n",
    "        label[:, 4] = 1 - label[:, 4]\n",
    "        label[:, 0]*=image.size[0]; label[:, 1]*=image.size[1]\n",
    "        label[:, 2]*=image.size[0]; label[:, 3]*=image.size[1]\n",
    "        label = label.astype(float)\n",
    "#         print(image.shape)\n",
    "        # print(self.labels.iloc[idx])\n",
    "              \n",
    "        image = np.asarray(image)\n",
    "        label = label.reshape((label.shape[0],-1))\n",
    "        if self.alb_transform:\n",
    "            transformed = self.alb_transform(image=image, bboxes=label)\n",
    "            image_ = transformed['image']\n",
    "            label_ = transformed['bboxes']\n",
    "            if not len(label_):\n",
    "                label_ = np.array([[0,0,0,0,-1]])\n",
    "            image = transforms.functional.to_tensor(image_)\n",
    "#         print(image.shape, label, transformed)\n",
    "            label = np.array(label_)#[0]\n",
    "        else:\n",
    "            image = transforms.functional.to_tensor(image)\n",
    "            label = np.array(label)\n",
    "        label=torch.tensor(label, dtype=float).reshape(label.shape[0],-1)\n",
    "        if self.transform:\n",
    "            image = self.transform(image)\n",
    "        return image, label"
   ]
  },
  {
   "cell_type": "code",
   "execution_count": 63,
   "id": "b4764bcb",
   "metadata": {
    "execution": {
     "iopub.execute_input": "2023-04-04T22:31:16.297596Z",
     "iopub.status.busy": "2023-04-04T22:31:16.296595Z",
     "iopub.status.idle": "2023-04-04T22:31:16.303026Z",
     "shell.execute_reply": "2023-04-04T22:31:16.301909Z"
    },
    "id": "vuaE9zM1TjOU",
    "papermill": {
     "duration": 0.062737,
     "end_time": "2023-04-04T22:31:16.305532",
     "exception": false,
     "start_time": "2023-04-04T22:31:16.242795",
     "status": "completed"
    },
    "tags": []
   },
   "outputs": [],
   "source": [
    "batch_size=1\n",
    "workers=0\n",
    "images_dir = './OpenImages'"
   ]
  },
  {
   "cell_type": "code",
   "execution_count": 64,
   "id": "be89fbe9",
   "metadata": {
    "execution": {
     "iopub.execute_input": "2023-04-04T22:31:16.414338Z",
     "iopub.status.busy": "2023-04-04T22:31:16.413411Z",
     "iopub.status.idle": "2023-04-04T22:31:16.421841Z",
     "shell.execute_reply": "2023-04-04T22:31:16.420798Z"
    },
    "papermill": {
     "duration": 0.065075,
     "end_time": "2023-04-04T22:31:16.424249",
     "exception": false,
     "start_time": "2023-04-04T22:31:16.359174",
     "status": "completed"
    },
    "tags": []
   },
   "outputs": [],
   "source": [
    "def show_batch(images, labels):\n",
    "    for (image, labels_) in zip(images, labels):\n",
    "        img = np.transpose(vutils.make_grid(image, padding=2, normalize=True).cpu(),(1,2,0))\n",
    "        plt.imshow(np.transpose(inv_normalize(np.transpose(img, (2,0,1))), (1,2,0)));\n",
    "        print(labels_)\n",
    "        for label in labels_:\n",
    "            x1,y1,x2,y2 = label[:4]\n",
    "            plt.plot([x1,x2,x2,x1,x1],\n",
    "                     [y1,y1,y2,y2,y1])\n",
    "        plt.show()"
   ]
  },
  {
   "cell_type": "code",
   "execution_count": 65,
   "id": "9956d91e",
   "metadata": {
    "execution": {
     "iopub.execute_input": "2023-04-04T22:31:16.530473Z",
     "iopub.status.busy": "2023-04-04T22:31:16.530112Z",
     "iopub.status.idle": "2023-04-04T22:31:17.241363Z",
     "shell.execute_reply": "2023-04-04T22:31:17.240162Z"
    },
    "id": "ShJpyLU3TF1E",
    "outputId": "39558228-847e-4668-b978-67b943b7605b",
    "papermill": {
     "duration": 0.768538,
     "end_time": "2023-04-04T22:31:17.245060",
     "exception": false,
     "start_time": "2023-04-04T22:31:16.476522",
     "status": "completed"
    },
    "tags": []
   },
   "outputs": [
    {
     "name": "stdout",
     "output_type": "stream",
     "text": [
      "tensor([[ 0.,  0.,  0.,  0., -1.]], dtype=torch.float64)\n"
     ]
    },
    {
     "data": {
      "image/png": "[encoded data removed]",
      "text/plain": [
       "<Figure size 800x800 with 1 Axes>"
      ]
     },
     "metadata": {},
     "output_type": "display_data"
    },
    {
     "name": "stdout",
     "output_type": "stream",
     "text": [
      "tensor([[[ 0.,  0.,  0.,  0., -1.]]], dtype=torch.float64) tensor(-1., dtype=torch.float64) torch.Size([1, 3, 400, 400])\n"
     ]
    }
   ],
   "source": [
    "alb_transform = A.Compose([\n",
    "    A.augmentations.geometric.transforms.Affine(scale={'x':(0.9, 1.1), 'y':(0.9,1.1)},\n",
    "                                                translate_percent={'x':(-0.1,0.1),'y':(-0.1,0.1)},\n",
    "                                                rotate=(0,360),\n",
    "                                                mode=cv2.BORDER_REFLECT,\n",
    "                                                keep_ratio=True),\n",
    "    A.RandomCrop(width=400, height=400),\n",
    "    A.HorizontalFlip(p=0.5),\n",
    "    A.RandomBrightnessContrast(p=0.2),\n",
    "], bbox_params=A.BboxParams(format='pascal_voc', min_area=16,\n",
    "                            min_visibility=0.3))\n",
    "\n",
    "transform = torch.jit.script(\n",
    "                nn.Sequential(\n",
    "#                                transforms.Normalize((0.485, 0.456, 0.406), (0.229, 0.224, 0.225)),\n",
    "                               # ToTensor(),\n",
    "                               transforms.ColorJitter(0.2, 0.3, 0.3, 0.01),\n",
    "                               transforms.RandomApply(transforms=\\\n",
    "                                                   nn.ModuleList([transforms.GaussianBlur(7),]), p=0.3),\n",
    "                               transforms.RandomApply(transforms=\\\n",
    "                                                   nn.ModuleList([transforms.Grayscale(3)]), p=0.3),\n",
    "                        ))\n",
    "dataset = CustomImageDataset(img_dir=images_dir,\n",
    "                             labels=df,\n",
    "                             alb_transform=alb_transform,\n",
    "                             transform=transform)\n",
    "\n",
    "# Create the dataloader\n",
    "dataloader = torch.utils.data.DataLoader(dataset, batch_size=batch_size, shuffle=True, num_workers=0, pin_memory=True, drop_last=True)\n",
    "\n",
    "\n",
    "# Plot some training images\n",
    "batch = next(iter(dataloader))\n",
    "plt.figure(figsize=(8,8))\n",
    "plt.axis(\"off\")\n",
    "plt.title(\"Training Images\")\n",
    "show_batch(batch[0], batch[1])\n",
    "print(batch[1], batch[1][0][0][4], batch[0].shape)"
   ]
  },
  {
   "cell_type": "code",
   "execution_count": 66,
   "id": "ab395a6f",
   "metadata": {
    "execution": {
     "iopub.execute_input": "2023-04-04T22:31:17.368414Z",
     "iopub.status.busy": "2023-04-04T22:31:17.368022Z",
     "iopub.status.idle": "2023-04-04T22:31:17.373090Z",
     "shell.execute_reply": "2023-04-04T22:31:17.371838Z"
    },
    "papermill": {
     "duration": 0.070298,
     "end_time": "2023-04-04T22:31:17.375605",
     "exception": false,
     "start_time": "2023-04-04T22:31:17.305307",
     "status": "completed"
    },
    "tags": []
   },
   "outputs": [],
   "source": [
    "# plt.imshow(PIL.Image.open('./OpenImages/bdec689b952b3426.jpg').convert('RGB'))"
   ]
  },
  {
   "cell_type": "code",
   "execution_count": 67,
   "id": "1ea0207c",
   "metadata": {
    "execution": {
     "iopub.execute_input": "2023-04-04T22:31:17.496220Z",
     "iopub.status.busy": "2023-04-04T22:31:17.495852Z",
     "iopub.status.idle": "2023-04-04T22:31:17.503782Z",
     "shell.execute_reply": "2023-04-04T22:31:17.500544Z"
    },
    "papermill": {
     "duration": 0.072348,
     "end_time": "2023-04-04T22:31:17.509025",
     "exception": false,
     "start_time": "2023-04-04T22:31:17.436677",
     "status": "completed"
    },
    "tags": []
   },
   "outputs": [],
   "source": [
    "# np.array(df[df.ImageID=='bdec689b952b34260'])[:, [4,5,6,7,13]]\n",
    "# df[df.ImageID=='bdec689b952b3426']"
   ]
  },
  {
   "cell_type": "code",
   "execution_count": 68,
   "id": "8d8c840b",
   "metadata": {
    "execution": {
     "iopub.execute_input": "2023-04-04T22:31:17.636252Z",
     "iopub.status.busy": "2023-04-04T22:31:17.635565Z",
     "iopub.status.idle": "2023-04-04T22:31:17.640846Z",
     "shell.execute_reply": "2023-04-04T22:31:17.639754Z"
    },
    "papermill": {
     "duration": 0.066918,
     "end_time": "2023-04-04T22:31:17.643126",
     "exception": false,
     "start_time": "2023-04-04T22:31:17.576208",
     "status": "completed"
    },
    "tags": []
   },
   "outputs": [],
   "source": [
    "# model.eval()\n",
    "# model(batch[0].to(device))"
   ]
  },
  {
   "cell_type": "code",
   "execution_count": 69,
   "id": "3dcbc43c",
   "metadata": {
    "execution": {
     "iopub.execute_input": "2023-04-04T22:31:17.760153Z",
     "iopub.status.busy": "2023-04-04T22:31:17.759046Z",
     "iopub.status.idle": "2023-04-04T22:31:18.160655Z",
     "shell.execute_reply": "2023-04-04T22:31:18.159453Z"
    },
    "id": "0ZjMEcBsfINR",
    "outputId": "d843cdf3-8f22-4ede-b6aa-1f8b9404575a",
    "papermill": {
     "duration": 0.462228,
     "end_time": "2023-04-04T22:31:18.163301",
     "exception": false,
     "start_time": "2023-04-04T22:31:17.701073",
     "status": "completed"
    },
    "tags": []
   },
   "outputs": [
    {
     "data": {
      "text/plain": [
       "[{'boxes': tensor([[  0.0000, 163.1681,  40.7227, 228.1438]]),\n",
       "  'labels': tensor([0])},\n",
       " {'boxes': tensor([[0., 0., 0., 0.]]), 'labels': tensor([-1])}]"
      ]
     },
     "execution_count": 69,
     "metadata": {},
     "output_type": "execute_result"
    }
   ],
   "source": [
    "images = []\n",
    "targets = []\n",
    "\n",
    "for batch_ind in range(2):\n",
    "    batch = next(iter(dataloader))\n",
    "    images_, boxes = batch[0], batch[1][0][0][:4].reshape((1,1,4))\n",
    "    labels = batch[1][0][0][4].reshape((1,1))\n",
    "    images.append(images_[0])\n",
    "    for i in range(1):\n",
    "        d = {}\n",
    "        d['boxes'] = boxes[i].float()\n",
    "        d['labels'] = labels[i].long()\n",
    "        targets.append(d)\n",
    "        \n",
    "targets"
   ]
  },
  {
   "cell_type": "code",
   "execution_count": 70,
   "id": "3d36b36a",
   "metadata": {
    "execution": {
     "iopub.execute_input": "2023-04-04T22:31:18.282533Z",
     "iopub.status.busy": "2023-04-04T22:31:18.282127Z",
     "iopub.status.idle": "2023-04-04T22:31:26.681992Z",
     "shell.execute_reply": "2023-04-04T22:31:26.680929Z"
    },
    "id": "K2jf1YokrD9q",
    "papermill": {
     "duration": 8.461611,
     "end_time": "2023-04-04T22:31:26.684598",
     "exception": false,
     "start_time": "2023-04-04T22:31:18.222987",
     "status": "completed"
    },
    "tags": []
   },
   "outputs": [
    {
     "data": {
      "text/plain": [
       "[{'boxes': tensor([[1.0007e+00, 6.1142e+00, 4.0000e+02, 3.1809e+02],\n",
       "          [4.8594e+00, 3.1294e+00, 3.9955e+02, 1.9296e+02],\n",
       "          [4.8594e+00, 3.1294e+00, 3.9955e+02, 1.9296e+02],\n",
       "          [1.0007e+00, 6.1142e+00, 4.0000e+02, 3.1809e+02],\n",
       "          [0.0000e+00, 8.7330e+00, 4.0000e+02, 3.1986e+02],\n",
       "          [1.7197e-02, 8.9831e+01, 3.9843e+02, 3.9260e+02],\n",
       "          [0.0000e+00, 1.0727e+01, 4.0000e+02, 1.6555e+02],\n",
       "          [1.0007e+00, 6.1142e+00, 4.0000e+02, 3.1809e+02],\n",
       "          [0.0000e+00, 1.6044e+01, 4.0000e+02, 3.3549e+02],\n",
       "          [3.1767e+02, 3.6762e+02, 3.9855e+02, 3.9917e+02],\n",
       "          [3.2711e-03, 1.6076e+02, 4.1198e+01, 2.3047e+02],\n",
       "          [5.9475e-01, 1.6997e+02, 1.4070e+02, 3.1508e+02],\n",
       "          [3.7961e-01, 0.0000e+00, 3.9920e+02, 1.6914e+02],\n",
       "          [4.8594e+00, 3.1294e+00, 3.9955e+02, 1.9296e+02],\n",
       "          [0.0000e+00, 2.0283e+02, 4.0000e+02, 3.9066e+02],\n",
       "          [3.2055e+00, 1.2335e+02, 3.9954e+02, 3.5647e+02],\n",
       "          [0.0000e+00, 1.2048e+02, 1.5089e+02, 3.1312e+02],\n",
       "          [3.6717e+01, 5.6343e+01, 4.3521e+01, 6.4622e+01],\n",
       "          [1.0007e+00, 6.1142e+00, 4.0000e+02, 3.1809e+02],\n",
       "          [9.8785e-01, 9.7566e+00, 3.9923e+02, 3.0206e+02],\n",
       "          [0.0000e+00, 7.9298e+00, 4.0000e+02, 3.1934e+02],\n",
       "          [0.0000e+00, 5.4302e+01, 2.8644e+02, 3.2960e+02],\n",
       "          [4.8594e+00, 3.1294e+00, 3.9955e+02, 1.9296e+02],\n",
       "          [1.7692e+00, 1.3086e+02, 1.6860e+02, 3.1260e+02]],\n",
       "         grad_fn=<StackBackward0>),\n",
       "  'scores': tensor([0.5398, 0.4400, 0.4257, 0.3720, 0.3456, 0.2971, 0.2826, 0.2787, 0.2658,\n",
       "          0.2618, 0.2607, 0.2550, 0.2547, 0.2536, 0.2459, 0.2434, 0.2283, 0.2279,\n",
       "          0.2251, 0.2242, 0.2201, 0.2092, 0.2064, 0.2015],\n",
       "         grad_fn=<IndexBackward0>),\n",
       "  'labels': tensor([79, 79, 78, 78,  7, 79, 72, 85, 15,  3, 55, 15,  7, 85, 67, 67, 79, 10,\n",
       "          80, 72, 76, 79, 76, 76])},\n",
       " {'boxes': tensor([[1.9984e+00, 0.0000e+00, 3.8528e+02, 3.9948e+02],\n",
       "          [5.0677e-01, 8.4474e-01, 3.4501e+02, 3.9736e+02],\n",
       "          [0.0000e+00, 0.0000e+00, 3.7695e+02, 3.9717e+02],\n",
       "          [1.9984e+00, 0.0000e+00, 3.8528e+02, 3.9948e+02],\n",
       "          [1.3192e+00, 0.0000e+00, 3.9710e+02, 3.9730e+02],\n",
       "          [1.9984e+00, 0.0000e+00, 3.8528e+02, 3.9948e+02],\n",
       "          [0.0000e+00, 4.0291e-01, 3.8247e+02, 3.9777e+02],\n",
       "          [1.3192e+00, 0.0000e+00, 3.9710e+02, 3.9730e+02],\n",
       "          [0.0000e+00, 7.9187e-01, 3.8780e+02, 3.9486e+02],\n",
       "          [0.0000e+00, 6.7123e-01, 3.9321e+02, 3.9912e+02],\n",
       "          [5.0677e-01, 8.4474e-01, 3.4501e+02, 3.9736e+02],\n",
       "          [1.3192e+00, 0.0000e+00, 3.9710e+02, 3.9730e+02],\n",
       "          [1.9984e+00, 0.0000e+00, 3.8528e+02, 3.9948e+02],\n",
       "          [0.0000e+00, 4.0291e-01, 3.8247e+02, 3.9777e+02],\n",
       "          [0.0000e+00, 0.0000e+00, 3.9125e+02, 3.9552e+02],\n",
       "          [0.0000e+00, 3.7636e-01, 4.0000e+02, 3.9772e+02],\n",
       "          [1.0790e+02, 4.2529e+00, 4.0000e+02, 3.9016e+02],\n",
       "          [0.0000e+00, 7.9187e-01, 3.8780e+02, 3.9486e+02],\n",
       "          [0.0000e+00, 0.0000e+00, 3.7695e+02, 3.9717e+02],\n",
       "          [2.4241e+02, 2.2079e+02, 3.8113e+02, 3.8878e+02]],\n",
       "         grad_fn=<StackBackward0>),\n",
       "  'scores': tensor([0.4181, 0.3878, 0.3656, 0.3360, 0.3310, 0.3285, 0.3270, 0.3187, 0.2988,\n",
       "          0.2740, 0.2612, 0.2525, 0.2440, 0.2375, 0.2263, 0.2221, 0.2209, 0.2207,\n",
       "          0.2198, 0.2031], grad_fn=<IndexBackward0>),\n",
       "  'labels': tensor([ 3,  7,  6, 65, 72,  9, 85, 62, 28, 78, 15,  2, 73, 14, 17, 79,  7, 33,\n",
       "           8, 65])}]"
      ]
     },
     "execution_count": 70,
     "metadata": {},
     "output_type": "execute_result"
    }
   ],
   "source": [
    "model.eval()\n",
    "output = model(images)\n",
    "model.train()\n",
    "output"
   ]
  },
  {
   "cell_type": "code",
   "execution_count": 71,
   "id": "2ec33004",
   "metadata": {
    "execution": {
     "iopub.execute_input": "2023-04-04T22:31:26.806443Z",
     "iopub.status.busy": "2023-04-04T22:31:26.805347Z",
     "iopub.status.idle": "2023-04-04T22:31:26.811588Z",
     "shell.execute_reply": "2023-04-04T22:31:26.810531Z"
    },
    "papermill": {
     "duration": 0.069581,
     "end_time": "2023-04-04T22:31:26.813892",
     "exception": false,
     "start_time": "2023-04-04T22:31:26.744311",
     "status": "completed"
    },
    "tags": []
   },
   "outputs": [],
   "source": [
    "from torchvision.models.detection.ssdlite import SSDLiteClassificationHead, partial, DefaultBoxGenerator, det_utils\n",
    "from torchvision.models.detection.fcos import FCOSHead"
   ]
  },
  {
   "cell_type": "code",
   "execution_count": 72,
   "id": "21439fdd",
   "metadata": {
    "execution": {
     "iopub.execute_input": "2023-04-04T22:31:26.931416Z",
     "iopub.status.busy": "2023-04-04T22:31:26.930404Z",
     "iopub.status.idle": "2023-04-04T22:31:26.938415Z",
     "shell.execute_reply": "2023-04-04T22:31:26.937342Z"
    },
    "id": "o36gDhtFx8l0",
    "papermill": {
     "duration": 0.069322,
     "end_time": "2023-04-04T22:31:26.940733",
     "exception": false,
     "start_time": "2023-04-04T22:31:26.871411",
     "status": "completed"
    },
    "tags": []
   },
   "outputs": [],
   "source": [
    "def set_model_to_training(model, backbone=False, fpn=False, regression_head=True, classification_head=True,\n",
    "                        freeze_bn=False):\n",
    "    model.train()\n",
    "    \n",
    "    model.head = FCOSHead(model.backbone.out_channels, model.anchor_generator.num_anchors_per_location()[0],\n",
    "                          num_classes=1)\n",
    "    \n",
    "    model.head.requires_grad_(True)\n",
    "    \n",
    "    if freeze_bn:\n",
    "        for layer in model.backbone.modules():\n",
    "            if isinstance(layer, nn.BatchNorm2d):\n",
    "                layer.eval()"
   ]
  },
  {
   "cell_type": "code",
   "execution_count": 73,
   "id": "d4f94cc1",
   "metadata": {
    "execution": {
     "iopub.execute_input": "2023-04-04T22:31:27.063317Z",
     "iopub.status.busy": "2023-04-04T22:31:27.062639Z",
     "iopub.status.idle": "2023-04-04T22:31:27.070742Z",
     "shell.execute_reply": "2023-04-04T22:31:27.069528Z"
    },
    "papermill": {
     "duration": 0.074567,
     "end_time": "2023-04-04T22:31:27.073355",
     "exception": false,
     "start_time": "2023-04-04T22:31:26.998788",
     "status": "completed"
    },
    "tags": []
   },
   "outputs": [
    {
     "name": "stdout",
     "output_type": "stream",
     "text": [
      "/kaggle/working\n"
     ]
    }
   ],
   "source": [
    "%cd /kaggle/working"
   ]
  },
  {
   "cell_type": "code",
   "execution_count": 74,
   "id": "2f95f9f8",
   "metadata": {
    "execution": {
     "iopub.execute_input": "2023-04-04T22:31:27.196246Z",
     "iopub.status.busy": "2023-04-04T22:31:27.195017Z",
     "iopub.status.idle": "2023-04-04T22:31:27.329135Z",
     "shell.execute_reply": "2023-04-04T22:31:27.327925Z"
    },
    "id": "M6fRqGCYzFbr",
    "papermill": {
     "duration": 0.196907,
     "end_time": "2023-04-04T22:31:27.331900",
     "exception": false,
     "start_time": "2023-04-04T22:31:27.134993",
     "status": "completed"
    },
    "tags": []
   },
   "outputs": [],
   "source": [
    "set_model_to_training(model, freeze_bn=True)\n",
    "model.to(device);\n",
    "model.train();"
   ]
  },
  {
   "cell_type": "code",
   "execution_count": 75,
   "id": "3ee9de14",
   "metadata": {
    "execution": {
     "iopub.execute_input": "2023-04-04T22:31:27.449630Z",
     "iopub.status.busy": "2023-04-04T22:31:27.449217Z",
     "iopub.status.idle": "2023-04-04T22:31:27.456617Z",
     "shell.execute_reply": "2023-04-04T22:31:27.455498Z"
    },
    "id": "MIVvpXzVzLxp",
    "papermill": {
     "duration": 0.068474,
     "end_time": "2023-04-04T22:31:27.458839",
     "exception": false,
     "start_time": "2023-04-04T22:31:27.390365",
     "status": "completed"
    },
    "tags": []
   },
   "outputs": [],
   "source": [
    "params = [p for p in model.parameters() if p.requires_grad]\n",
    "optimizer = torch.optim.Adam(params, lr=3e-4)\n",
    "scheduler = torch.optim.lr_scheduler.ReduceLROnPlateau(optimizer, patience=3, verbose=True)"
   ]
  },
  {
   "cell_type": "code",
   "execution_count": 76,
   "id": "100be9a9",
   "metadata": {
    "execution": {
     "iopub.execute_input": "2023-04-04T22:31:27.575953Z",
     "iopub.status.busy": "2023-04-04T22:31:27.574831Z",
     "iopub.status.idle": "2023-04-05T01:40:20.897137Z",
     "shell.execute_reply": "2023-04-05T01:40:20.896034Z"
    },
    "id": "8G3zB3djzjSE",
    "outputId": "e50ce705-43f1-465b-e669-93e74eb11621",
    "papermill": {
     "duration": 11335.971196,
     "end_time": "2023-04-05T01:40:23.486806",
     "exception": false,
     "start_time": "2023-04-04T22:31:27.515610",
     "status": "completed"
    },
    "tags": []
   },
   "outputs": [
    {
     "name": "stderr",
     "output_type": "stream",
     "text": [
      "                                                                                                                            \r"
     ]
    },
    {
     "name": "stdout",
     "output_type": "stream",
     "text": [
      "Epoch 00035: reducing learning rate of group 0 to 3.0000e-05.\n"
     ]
    },
    {
     "name": "stderr",
     "output_type": "stream",
     "text": [
      "                                                                                                                             \r"
     ]
    },
    {
     "name": "stdout",
     "output_type": "stream",
     "text": [
      "Epoch 00045: reducing learning rate of group 0 to 3.0000e-06.\n"
     ]
    },
    {
     "name": "stderr",
     "output_type": "stream",
     "text": [
      "                                                                                                                              \r"
     ]
    },
    {
     "name": "stdout",
     "output_type": "stream",
     "text": [
      "Epoch 00053: reducing learning rate of group 0 to 3.0000e-07.\n"
     ]
    },
    {
     "name": "stderr",
     "output_type": "stream",
     "text": [
      "                                                                                                                              \r"
     ]
    },
    {
     "name": "stdout",
     "output_type": "stream",
     "text": [
      "Epoch 00057: reducing learning rate of group 0 to 3.0000e-08.\n"
     ]
    },
    {
     "name": "stderr",
     "output_type": "stream",
     "text": [
      "                                                                                                                             \r"
     ]
    },
    {
     "name": "stdout",
     "output_type": "stream",
     "text": [
      "Epoch 00061: reducing learning rate of group 0 to 3.0000e-09.\n"
     ]
    },
    {
     "name": "stderr",
     "output_type": "stream",
     "text": [
      "                                                                                                                             \r"
     ]
    }
   ],
   "source": [
    "for epoch_num in range(100):\n",
    "    epoch_loss = []\n",
    "    torch.cuda.empty_cache()\n",
    "    tq = tqdm(dataloader, total=len(dataloader), leave=False, position=0)\n",
    "    iter_num = 0\n",
    "    images = []\n",
    "    targets = []\n",
    "    mean_target = []\n",
    "    for data in tq:\n",
    "        iter_num+=1\n",
    "        batch = data\n",
    "        images_ = batch[0]\n",
    "        for i in range(len(images_)):\n",
    "            images.append(images_[i].to(device))\n",
    "            boxes = batch[1][i][:,:4].reshape((-1,4))\n",
    "            labels = batch[1][i][:,4].reshape((-1))\n",
    "            d = {}\n",
    "            d['boxes'] = boxes.float().to(device)[labels==0]\n",
    "            d['labels'] = labels.long().to(device)[labels==0]\n",
    "            targets.append(d)\n",
    "#                 mean_target.append(d['labels'].item())\n",
    "#         if(iter_num%batch_size!=0): continue\n",
    "        \n",
    "#         print(targets)\n",
    "        optimizer.zero_grad()\n",
    "#         print(images[0].shape, len(images), len(targets))\n",
    "        # print(images, targets)\n",
    "        \n",
    "        output = model(images, targets)\n",
    "#         print(output)\n",
    "        classification_loss = output['classification']\n",
    "        regression_loss = output['bbox_regression'] + output['bbox_ctrness'] \n",
    "\n",
    "        loss = classification_loss + regression_loss\n",
    "\n",
    "#         if bool(loss == 0):\n",
    "#             continue\n",
    "\n",
    "        loss.backward()\n",
    "        torch.nn.utils.clip_grad_norm_(model.parameters(), 0.1)\n",
    "        optimizer.step()\n",
    "\n",
    "        epoch_loss.append(float(loss.item()))\n",
    "        tq.set_postfix({\"EPOCH\":epoch_num,\n",
    "                        \"classification_loss\":classification_loss.item(),\n",
    "                        \"regression_loss\":regression_loss.item(),\n",
    "                        \"mean_loss\":np.mean(epoch_loss)})\n",
    "        del data\n",
    "        images.clear()\n",
    "        targets.clear()\n",
    "        mean_target.clear()\n",
    "        gc.collect()\n",
    "        torch.cuda.empty_cache()\n",
    "\n",
    "    gc.collect()\n",
    "    torch.cuda.empty_cache()\n",
    "        \n",
    "#     print('Epoch: {} | Iteration: {} | Train classification loss: {:1.5f} | train regression loss: {:1.5f} | Epoch loss: {:1.5f}'\\\n",
    "#           .format(epoch_num, iter_num, float(classification_loss), float(regression_loss), np.mean(epoch_loss)))\n",
    "    scheduler.step(np.mean(epoch_loss)) # should be val loss"
   ]
  },
  {
   "cell_type": "code",
   "execution_count": 77,
   "id": "4485e6ee",
   "metadata": {
    "execution": {
     "iopub.execute_input": "2023-04-05T01:40:31.878442Z",
     "iopub.status.busy": "2023-04-05T01:40:31.878014Z",
     "iopub.status.idle": "2023-04-05T01:40:32.034874Z",
     "shell.execute_reply": "2023-04-05T01:40:32.033685Z"
    },
    "papermill": {
     "duration": 4.361428,
     "end_time": "2023-04-05T01:40:32.037034",
     "exception": false,
     "start_time": "2023-04-05T01:40:27.675606",
     "status": "completed"
    },
    "tags": []
   },
   "outputs": [
    {
     "data": {
      "text/plain": [
       "21"
      ]
     },
     "execution_count": 77,
     "metadata": {},
     "output_type": "execute_result"
    }
   ],
   "source": [
    "torch.cuda.empty_cache()\n",
    "gc.collect()"
   ]
  },
  {
   "cell_type": "code",
   "execution_count": 78,
   "id": "a38243ed",
   "metadata": {
    "execution": {
     "iopub.execute_input": "2023-04-05T01:40:40.835688Z",
     "iopub.status.busy": "2023-04-05T01:40:40.834871Z",
     "iopub.status.idle": "2023-04-05T01:40:40.957507Z",
     "shell.execute_reply": "2023-04-05T01:40:40.956357Z"
    },
    "papermill": {
     "duration": 4.795461,
     "end_time": "2023-04-05T01:40:40.960529",
     "exception": false,
     "start_time": "2023-04-05T01:40:36.165068",
     "status": "completed"
    },
    "tags": []
   },
   "outputs": [
    {
     "data": {
      "text/plain": [
       "[{'boxes': tensor([[259.7138,  52.7247, 290.2869,  83.0428],\n",
       "          [  0.0000,  21.8730,  77.5237, 106.1216],\n",
       "          [  5.3147,  48.1709,  59.4186, 102.3449],\n",
       "          [ 13.2198,  40.3100,  74.4672, 102.0283],\n",
       "          [254.5417,  45.7346, 296.1436,  88.5385],\n",
       "          [  7.9131,  31.7308,  64.2593,  89.5247],\n",
       "          [  0.0000,  26.3009,  44.2962, 102.5888],\n",
       "          [ 17.0760,  57.4273,  66.8303, 104.0552],\n",
       "          [  0.6243,  54.5826,  46.2031,  97.5647],\n",
       "          [ 20.0291,  27.2111,  70.5640,  79.5683],\n",
       "          [  3.6177,  23.9055,  55.8657,  76.6006],\n",
       "          [  9.0803,  63.6826,  52.5536, 101.1784],\n",
       "          [269.7959,  54.7710, 292.8011,  81.3847],\n",
       "          [ 27.8364,  37.9220,  75.3371,  90.6691]], device='cuda:0',\n",
       "         grad_fn=<StackBackward0>),\n",
       "  'scores': tensor([0.7043, 0.6995, 0.4183, 0.3432, 0.3390, 0.3361, 0.3117, 0.2920, 0.2819,\n",
       "          0.2797, 0.2498, 0.2242, 0.2163, 0.2140], device='cuda:0',\n",
       "         grad_fn=<IndexBackward0>),\n",
       "  'labels': tensor([0, 0, 0, 0, 0, 0, 0, 0, 0, 0, 0, 0, 0, 0], device='cuda:0')}]"
      ]
     },
     "execution_count": 78,
     "metadata": {},
     "output_type": "execute_result"
    }
   ],
   "source": [
    "model.eval()\n",
    "batch = next(iter(dataloader))\n",
    "output = model(batch[0].to(device))\n",
    "output"
   ]
  },
  {
   "cell_type": "code",
   "execution_count": 79,
   "id": "93cb9d9b",
   "metadata": {
    "execution": {
     "iopub.execute_input": "2023-04-05T01:40:49.222790Z",
     "iopub.status.busy": "2023-04-05T01:40:49.222259Z",
     "iopub.status.idle": "2023-04-05T01:40:49.531146Z",
     "shell.execute_reply": "2023-04-05T01:40:49.529997Z"
    },
    "papermill": {
     "duration": 4.583082,
     "end_time": "2023-04-05T01:40:49.534922",
     "exception": false,
     "start_time": "2023-04-05T01:40:44.951840",
     "status": "completed"
    },
    "tags": []
   },
   "outputs": [
    {
     "name": "stdout",
     "output_type": "stream",
     "text": [
      "[tensor([259.7138,  52.7247, 290.2869,  83.0428])]\n"
     ]
    },
    {
     "data": {
      "image/png": "[encoded data removed]",
      "text/plain": [
       "<Figure size 640x480 with 1 Axes>"
      ]
     },
     "metadata": {},
     "output_type": "display_data"
    }
   ],
   "source": [
    "show_batch([img for img in batch[0]], [[boxes['boxes'][0].cpu().data] for boxes in output])"
   ]
  },
  {
   "cell_type": "code",
   "execution_count": 80,
   "id": "a856fa63",
   "metadata": {
    "execution": {
     "iopub.execute_input": "2023-04-05T01:40:57.844553Z",
     "iopub.status.busy": "2023-04-05T01:40:57.844153Z",
     "iopub.status.idle": "2023-04-05T01:40:58.000448Z",
     "shell.execute_reply": "2023-04-05T01:40:57.999499Z"
    },
    "id": "MtJfkExM1D8g",
    "papermill": {
     "duration": 4.411738,
     "end_time": "2023-04-05T01:40:58.003025",
     "exception": false,
     "start_time": "2023-04-05T01:40:53.591287",
     "status": "completed"
    },
    "tags": []
   },
   "outputs": [
    {
     "data": {
      "text/plain": [
       "3348"
      ]
     },
     "execution_count": 80,
     "metadata": {},
     "output_type": "execute_result"
    }
   ],
   "source": [
    "torch.cuda.empty_cache()\n",
    "gc.collect()"
   ]
  },
  {
   "cell_type": "code",
   "execution_count": 81,
   "id": "300a4afa",
   "metadata": {
    "execution": {
     "iopub.execute_input": "2023-04-05T01:41:06.357219Z",
     "iopub.status.busy": "2023-04-05T01:41:06.356814Z",
     "iopub.status.idle": "2023-04-05T01:41:06.364886Z",
     "shell.execute_reply": "2023-04-05T01:41:06.363670Z"
    },
    "papermill": {
     "duration": 4.33376,
     "end_time": "2023-04-05T01:41:06.367295",
     "exception": false,
     "start_time": "2023-04-05T01:41:02.033535",
     "status": "completed"
    },
    "tags": []
   },
   "outputs": [
    {
     "name": "stdout",
     "output_type": "stream",
     "text": [
      "/kaggle/working/dl-course/2023_spring/lecture6\n"
     ]
    }
   ],
   "source": [
    "%cd ./dl-course/2023_spring/lecture6"
   ]
  },
  {
   "cell_type": "code",
   "execution_count": 82,
   "id": "0910330e",
   "metadata": {
    "execution": {
     "iopub.execute_input": "2023-04-05T01:41:15.157609Z",
     "iopub.status.busy": "2023-04-05T01:41:15.157182Z",
     "iopub.status.idle": "2023-04-05T01:41:15.168786Z",
     "shell.execute_reply": "2023-04-05T01:41:15.167705Z"
    },
    "papermill": {
     "duration": 4.183528,
     "end_time": "2023-04-05T01:41:15.170933",
     "exception": false,
     "start_time": "2023-04-05T01:41:10.987405",
     "status": "completed"
    },
    "tags": []
   },
   "outputs": [],
   "source": [
    "def val_step_model(model, dataloader):\n",
    "    model.eval()\n",
    "    metric_fn = MetricBuilder.build_evaluation_metric(\"map_2d\", async_mode=False, num_classes=1)\n",
    "    for iter_num, data in tqdm(enumerate(dataloader), total=len(dataloader)):\n",
    "        for img, gt in zip(data['img'], data['annot']):\n",
    "            with torch.no_grad():\n",
    "                try:\n",
    "                    bboxes, nms_scores, nms_classes = model([img.to(device)])[0].values()\n",
    "#                     bboxes[:,0]*=img.shape[1]; bboxes[:,1]*=img.shape[0]\n",
    "#                     bboxes[:,2]*=img.shape[1]; bboxes[:,3]*=img.shape[0]\n",
    "                except(RuntimeError):\n",
    "                    print('no boxes')\n",
    "                    bboxes, nms_scores, nms_classes = -torch.ones((1,4)), -torch.ones((1)), -torch.ones((1))\n",
    "            preds = torch.cat([bboxes, nms_classes.unsqueeze(0).T, nms_scores.unsqueeze(0).T], dim = 1).cpu().detach().numpy()\n",
    "            preds = preds[preds[:,4]==0]\n",
    "#             print(preds.shape)\n",
    "            zeros = torch.zeros((gt.shape[0], 1))\n",
    "            gt = torch.cat([gt, zeros, zeros], 1).cpu().detach().numpy()\n",
    "            metric_fn.add(preds, gt)\n",
    "#             print(preds, gt)\n",
    "\n",
    "        del img, gt, preds, zeros, nms_scores, nms_classes, bboxes\n",
    "        gc.collect()\n",
    "        torch.cuda.empty_cache()\n",
    "    print(f\"validation mAP in all points: {metric_fn.value(iou_thresholds=0.5)['mAP']}\")"
   ]
  },
  {
   "cell_type": "code",
   "execution_count": 83,
   "id": "4cdc60e9",
   "metadata": {
    "execution": {
     "iopub.execute_input": "2023-04-05T01:41:23.587968Z",
     "iopub.status.busy": "2023-04-05T01:41:23.586897Z",
     "iopub.status.idle": "2023-04-05T01:42:24.989619Z",
     "shell.execute_reply": "2023-04-05T01:42:24.988083Z"
    },
    "papermill": {
     "duration": 65.751352,
     "end_time": "2023-04-05T01:42:24.992055",
     "exception": false,
     "start_time": "2023-04-05T01:41:19.240703",
     "status": "completed"
    },
    "tags": []
   },
   "outputs": [
    {
     "name": "stderr",
     "output_type": "stream",
     "text": [
      "100%|██████████| 57/57 [01:00<00:00,  1.06s/it]\n"
     ]
    },
    {
     "name": "stdout",
     "output_type": "stream",
     "text": [
      "validation mAP in all points: 0.002237865701317787\n"
     ]
    }
   ],
   "source": [
    "val_step_model(model ,val_dataloader)"
   ]
  }
 ],
 "metadata": {
  "kernelspec": {
   "display_name": "Python 3",
   "language": "python",
   "name": "python3"
  },
  "language_info": {
   "codemirror_mode": {
    "name": "ipython",
    "version": 3
   },
   "file_extension": ".py",
   "mimetype": "text/x-python",
   "name": "python",
   "nbconvert_exporter": "python",
   "pygments_lexer": "ipython3",
   "version": "3.7.12"
  },
  "papermill": {
   "default_parameters": {},
   "duration": 11817.960078,
   "end_time": "2023-04-05T01:42:31.985702",
   "environment_variables": {},
   "exception": null,
   "input_path": "__notebook__.ipynb",
   "output_path": "__notebook__.ipynb",
   "parameters": {},
   "start_time": "2023-04-04T22:25:34.025624",
   "version": "2.4.0"
  },
  "widgets": {
   "application/vnd.jupyter.widget-state+json": {
    "state": {
     "077b9f464be14d358b621fd90a509d91": {
      "model_module": "@jupyter-widgets/controls",
      "model_module_version": "1.5.0",
      "model_name": "HTMLModel",
      "state": {
       "_dom_classes": [],
       "_model_module": "@jupyter-widgets/controls",
       "_model_module_version": "1.5.0",
       "_model_name": "HTMLModel",
       "_view_count": null,
       "_view_module": "@jupyter-widgets/controls",
       "_view_module_version": "1.5.0",
       "_view_name": "HTMLView",
       "description": "",
       "description_tooltip": null,
       "layout": "IPY_MODEL_99a720b78483437a9382acdd63d8fc5e",
       "placeholder": "​",
       "style": "IPY_MODEL_5304e283ca354a8bb7b2154766bef4d5",
       "value": " 124M/124M [00:02&lt;00:00, 71.7MB/s]"
      }
     },
     "5304e283ca354a8bb7b2154766bef4d5": {
      "model_module": "@jupyter-widgets/controls",
      "model_module_version": "1.5.0",
      "model_name": "DescriptionStyleModel",
      "state": {
       "_model_module": "@jupyter-widgets/controls",
       "_model_module_version": "1.5.0",
       "_model_name": "DescriptionStyleModel",
       "_view_count": null,
       "_view_module": "@jupyter-widgets/base",
       "_view_module_version": "1.2.0",
       "_view_name": "StyleView",
       "description_width": ""
      }
     },
     "695d6a151e7f4d3eb17e7b11bbbb3e55": {
      "model_module": "@jupyter-widgets/controls",
      "model_module_version": "1.5.0",
      "model_name": "HTMLModel",
      "state": {
       "_dom_classes": [],
       "_model_module": "@jupyter-widgets/controls",
       "_model_module_version": "1.5.0",
       "_model_name": "HTMLModel",
       "_view_count": null,
       "_view_module": "@jupyter-widgets/controls",
       "_view_module_version": "1.5.0",
       "_view_name": "HTMLView",
       "description": "",
       "description_tooltip": null,
       "layout": "IPY_MODEL_8b5eb88910e8478c90fd115b7da80731",
       "placeholder": "​",
       "style": "IPY_MODEL_c88e2a4825d54c35901ef128f18a8e7a",
       "value": "100%"
      }
     },
     "8b5eb88910e8478c90fd115b7da80731": {
      "model_module": "@jupyter-widgets/base",
      "model_module_version": "1.2.0",
      "model_name": "LayoutModel",
      "state": {
       "_model_module": "@jupyter-widgets/base",
       "_model_module_version": "1.2.0",
       "_model_name": "LayoutModel",
       "_view_count": null,
       "_view_module": "@jupyter-widgets/base",
       "_view_module_version": "1.2.0",
       "_view_name": "LayoutView",
       "align_content": null,
       "align_items": null,
       "align_self": null,
       "border": null,
       "bottom": null,
       "display": null,
       "flex": null,
       "flex_flow": null,
       "grid_area": null,
       "grid_auto_columns": null,
       "grid_auto_flow": null,
       "grid_auto_rows": null,
       "grid_column": null,
       "grid_gap": null,
       "grid_row": null,
       "grid_template_areas": null,
       "grid_template_columns": null,
       "grid_template_rows": null,
       "height": null,
       "justify_content": null,
       "justify_items": null,
       "left": null,
       "margin": null,
       "max_height": null,
       "max_width": null,
       "min_height": null,
       "min_width": null,
       "object_fit": null,
       "object_position": null,
       "order": null,
       "overflow": null,
       "overflow_x": null,
       "overflow_y": null,
       "padding": null,
       "right": null,
       "top": null,
       "visibility": null,
       "width": null
      }
     },
     "99a720b78483437a9382acdd63d8fc5e": {
      "model_module": "@jupyter-widgets/base",
      "model_module_version": "1.2.0",
      "model_name": "LayoutModel",
      "state": {
       "_model_module": "@jupyter-widgets/base",
       "_model_module_version": "1.2.0",
       "_model_name": "LayoutModel",
       "_view_count": null,
       "_view_module": "@jupyter-widgets/base",
       "_view_module_version": "1.2.0",
       "_view_name": "LayoutView",
       "align_content": null,
       "align_items": null,
       "align_self": null,
       "border": null,
       "bottom": null,
       "display": null,
       "flex": null,
       "flex_flow": null,
       "grid_area": null,
       "grid_auto_columns": null,
       "grid_auto_flow": null,
       "grid_auto_rows": null,
       "grid_column": null,
       "grid_gap": null,
       "grid_row": null,
       "grid_template_areas": null,
       "grid_template_columns": null,
       "grid_template_rows": null,
       "height": null,
       "justify_content": null,
       "justify_items": null,
       "left": null,
       "margin": null,
       "max_height": null,
       "max_width": null,
       "min_height": null,
       "min_width": null,
       "object_fit": null,
       "object_position": null,
       "order": null,
       "overflow": null,
       "overflow_x": null,
       "overflow_y": null,
       "padding": null,
       "right": null,
       "top": null,
       "visibility": null,
       "width": null
      }
     },
     "9e1aee4cd46048ee9ec010a4b020f633": {
      "model_module": "@jupyter-widgets/base",
      "model_module_version": "1.2.0",
      "model_name": "LayoutModel",
      "state": {
       "_model_module": "@jupyter-widgets/base",
       "_model_module_version": "1.2.0",
       "_model_name": "LayoutModel",
       "_view_count": null,
       "_view_module": "@jupyter-widgets/base",
       "_view_module_version": "1.2.0",
       "_view_name": "LayoutView",
       "align_content": null,
       "align_items": null,
       "align_self": null,
       "border": null,
       "bottom": null,
       "display": null,
       "flex": null,
       "flex_flow": null,
       "grid_area": null,
       "grid_auto_columns": null,
       "grid_auto_flow": null,
       "grid_auto_rows": null,
       "grid_column": null,
       "grid_gap": null,
       "grid_row": null,
       "grid_template_areas": null,
       "grid_template_columns": null,
       "grid_template_rows": null,
       "height": null,
       "justify_content": null,
       "justify_items": null,
       "left": null,
       "margin": null,
       "max_height": null,
       "max_width": null,
       "min_height": null,
       "min_width": null,
       "object_fit": null,
       "object_position": null,
       "order": null,
       "overflow": null,
       "overflow_x": null,
       "overflow_y": null,
       "padding": null,
       "right": null,
       "top": null,
       "visibility": null,
       "width": null
      }
     },
     "aa112a96449948c99c579472f6b42b02": {
      "model_module": "@jupyter-widgets/base",
      "model_module_version": "1.2.0",
      "model_name": "LayoutModel",
      "state": {
       "_model_module": "@jupyter-widgets/base",
       "_model_module_version": "1.2.0",
       "_model_name": "LayoutModel",
       "_view_count": null,
       "_view_module": "@jupyter-widgets/base",
       "_view_module_version": "1.2.0",
       "_view_name": "LayoutView",
       "align_content": null,
       "align_items": null,
       "align_self": null,
       "border": null,
       "bottom": null,
       "display": null,
       "flex": null,
       "flex_flow": null,
       "grid_area": null,
       "grid_auto_columns": null,
       "grid_auto_flow": null,
       "grid_auto_rows": null,
       "grid_column": null,
       "grid_gap": null,
       "grid_row": null,
       "grid_template_areas": null,
       "grid_template_columns": null,
       "grid_template_rows": null,
       "height": null,
       "justify_content": null,
       "justify_items": null,
       "left": null,
       "margin": null,
       "max_height": null,
       "max_width": null,
       "min_height": null,
       "min_width": null,
       "object_fit": null,
       "object_position": null,
       "order": null,
       "overflow": null,
       "overflow_x": null,
       "overflow_y": null,
       "padding": null,
       "right": null,
       "top": null,
       "visibility": null,
       "width": null
      }
     },
     "c88e2a4825d54c35901ef128f18a8e7a": {
      "model_module": "@jupyter-widgets/controls",
      "model_module_version": "1.5.0",
      "model_name": "DescriptionStyleModel",
      "state": {
       "_model_module": "@jupyter-widgets/controls",
       "_model_module_version": "1.5.0",
       "_model_name": "DescriptionStyleModel",
       "_view_count": null,
       "_view_module": "@jupyter-widgets/base",
       "_view_module_version": "1.2.0",
       "_view_name": "StyleView",
       "description_width": ""
      }
     },
     "d082b15a9b384edfb2a20ade005dffbc": {
      "model_module": "@jupyter-widgets/controls",
      "model_module_version": "1.5.0",
      "model_name": "FloatProgressModel",
      "state": {
       "_dom_classes": [],
       "_model_module": "@jupyter-widgets/controls",
       "_model_module_version": "1.5.0",
       "_model_name": "FloatProgressModel",
       "_view_count": null,
       "_view_module": "@jupyter-widgets/controls",
       "_view_module_version": "1.5.0",
       "_view_name": "ProgressView",
       "bar_style": "success",
       "description": "",
       "description_tooltip": null,
       "layout": "IPY_MODEL_9e1aee4cd46048ee9ec010a4b020f633",
       "max": 129612099.0,
       "min": 0.0,
       "orientation": "horizontal",
       "style": "IPY_MODEL_d263a13f29f04e8db0dc7a3eefdc6840",
       "value": 129612099.0
      }
     },
     "d263a13f29f04e8db0dc7a3eefdc6840": {
      "model_module": "@jupyter-widgets/controls",
      "model_module_version": "1.5.0",
      "model_name": "ProgressStyleModel",
      "state": {
       "_model_module": "@jupyter-widgets/controls",
       "_model_module_version": "1.5.0",
       "_model_name": "ProgressStyleModel",
       "_view_count": null,
       "_view_module": "@jupyter-widgets/base",
       "_view_module_version": "1.2.0",
       "_view_name": "StyleView",
       "bar_color": null,
       "description_width": ""
      }
     },
     "efd434f7ca0e4cc59c7a084f77506352": {
      "model_module": "@jupyter-widgets/controls",
      "model_module_version": "1.5.0",
      "model_name": "HBoxModel",
      "state": {
       "_dom_classes": [],
       "_model_module": "@jupyter-widgets/controls",
       "_model_module_version": "1.5.0",
       "_model_name": "HBoxModel",
       "_view_count": null,
       "_view_module": "@jupyter-widgets/controls",
       "_view_module_version": "1.5.0",
       "_view_name": "HBoxView",
       "box_style": "",
       "children": [
        "IPY_MODEL_695d6a151e7f4d3eb17e7b11bbbb3e55",
        "IPY_MODEL_d082b15a9b384edfb2a20ade005dffbc",
        "IPY_MODEL_077b9f464be14d358b621fd90a509d91"
       ],
       "layout": "IPY_MODEL_aa112a96449948c99c579472f6b42b02"
      }
     }
    },
    "version_major": 2,
    "version_minor": 0
   }
  }
 },
 "nbformat": 4,
 "nbformat_minor": 5
}
